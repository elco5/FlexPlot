{
 "cells": [
  {
   "cell_type": "code",
   "execution_count": 43,
   "metadata": {},
   "outputs": [],
   "source": [
    "import io\n",
    "import os\n",
    "import base64\n",
    "import logging\n",
    "import pandas as pd\n",
    "import plotly.express as px\n",
    "\n",
    "\n",
    "\n",
    "from data_ingestion.data_loader import DataLoader  # Replace with your actual import\n",
    "from utilities.logging import setup_logger\n",
    "\n"
   ]
  },
  {
   "cell_type": "markdown",
   "metadata": {},
   "source": [
    "# set the input file and output directory"
   ]
  },
  {
   "cell_type": "code",
   "execution_count": 44,
   "metadata": {},
   "outputs": [],
   "source": [
    "# file_path = r\"C:\\Users\\ecountrywood\\OneDrive - Tesla\\FBS\\11_7 Temp\\11-29\\000079_231129_132840.GDS_pandas.xlsx\"\n",
    "# data_dir = r\"C:\\Users\\ecountrywood\\OneDrive - Tesla\\FBS\\11_7 Temp\\11-29\"\n",
    "tim_file_path = \"./data/TIM_compare/tim_data.xlsx\"\n",
    "no_tim_file_path = \"./data/TIM_compare/no_tim_data.xlsx\"\n",
    "output_data_dir = \"./data/TIM_compare\""
   ]
  },
  {
   "cell_type": "code",
   "execution_count": 45,
   "metadata": {},
   "outputs": [
    {
     "name": "stderr",
     "output_type": "stream",
     "text": [
      "c:\\Users\\ecountrywood\\dev\\tools\\pdf_tools\\env\\lib\\site-packages\\openpyxl\\styles\\stylesheet.py:226: UserWarning: Workbook contains no default style, apply openpyxl's default\n",
      "  warn(\"Workbook contains no default style, apply openpyxl's default\")\n"
     ]
    }
   ],
   "source": [
    "# load up the tim data\n",
    "data_loader = DataLoader(tim_file_path)\n",
    "data_loader.auto_load(file_path=tim_file_path)\n",
    "tim_df = data_loader.data[\"data_frame\"]\n",
    "# load up the NO tim data\n",
    "data_loader = DataLoader(no_tim_file_path)\n",
    "data_loader.auto_load(file_path=no_tim_file_path)\n",
    "no_tim_df = data_loader.data[\"data_frame\"]"
   ]
  },
  {
   "cell_type": "code",
   "execution_count": 46,
   "metadata": {},
   "outputs": [],
   "source": [
    "\n",
    "def use_max_columns(df):\n",
    "    # keep the columns that do not contain TC\n",
    "    # these are the MAX columns\n",
    "    modified_df = df.copy()\n",
    "    for col in modified_df.columns:\n",
    "        if 'TC' in col:\n",
    "            col_index = modified_df.columns.get_loc(col)\n",
    "            if col_index + 1 < len(modified_df.columns):\n",
    "                modified_df[col] = modified_df.iloc[:, col_index + 1]\n",
    "    # drop the columns with empth sting as name\n",
    "    modified_df = modified_df.drop('', axis=1)         \n",
    "    modified_df = modified_df.drop('sec', axis=1)         \n",
    "    return modified_df\n",
    "\n",
    "# Usage\n",
    "# adjusted_df = replace_tc_columns(your_input_dataframe)\n",
    "tim_df = use_max_columns(tim_df)\n",
    "no_tim_df = use_max_columns(no_tim_df)\n"
   ]
  },
  {
   "cell_type": "markdown",
   "metadata": {},
   "source": [
    "Now we have dataframe for TIM and no TIM"
   ]
  },
  {
   "cell_type": "code",
   "execution_count": 59,
   "metadata": {},
   "outputs": [],
   "source": [
    "# metiod to add a column of seconds from the start of the test\n",
    "def add_timedelta_column(df):\n",
    "    modified_df = df.copy()\n",
    "    modified_df['time_delta'] = pd.to_timedelta(modified_df['Time'])\n",
    "    # modified_df['time_delta'] = modified_df['time_delta'].dt.total_seconds()\n",
    "    modified_df['time_delta'] = modified_df['time_delta'] - modified_df['time_delta'].iloc[0]\n",
    "    modified_df['seconds'] = modified_df['time_delta'].dt.total_seconds().astype(float)\n",
    "    return modified_df\n",
    "\n",
    "\n",
    "tim_df_timeFromStart = add_timedelta_column(tim_df)\n",
    "no_tim_df_timeFromStart = add_timedelta_column(no_tim_df)"
   ]
  },
  {
   "cell_type": "code",
   "execution_count": 60,
   "metadata": {},
   "outputs": [
    {
     "data": {
      "text/html": [
       "<div>\n",
       "<style scoped>\n",
       "    .dataframe tbody tr th:only-of-type {\n",
       "        vertical-align: middle;\n",
       "    }\n",
       "\n",
       "    .dataframe tbody tr th {\n",
       "        vertical-align: top;\n",
       "    }\n",
       "\n",
       "    .dataframe thead th {\n",
       "        text-align: right;\n",
       "    }\n",
       "</style>\n",
       "<table border=\"1\" class=\"dataframe\">\n",
       "  <thead>\n",
       "    <tr style=\"text-align: right;\">\n",
       "      <th></th>\n",
       "      <th>Date</th>\n",
       "      <th>Time</th>\n",
       "      <th>TC1 Gasket</th>\n",
       "      <th>TC2 Supply Lug</th>\n",
       "      <th>TC3 Backup Lug</th>\n",
       "      <th>TC4 Subpanel Lug</th>\n",
       "      <th>TC5 MSA Busbar</th>\n",
       "      <th>TC6 Glass Door</th>\n",
       "      <th>TC7 Upper Enclosure Ambient</th>\n",
       "      <th>TC8 Lower Enclosure Ambient</th>\n",
       "      <th>...</th>\n",
       "      <th>TC29 Capacitor (C44)</th>\n",
       "      <th>TC30 Winding Internal Side Trans</th>\n",
       "      <th>TC32 Busbar L1 Neut to Relay</th>\n",
       "      <th>TC34 Cap on Holdup PCB</th>\n",
       "      <th>TC36 TACO PCB</th>\n",
       "      <th>TC31 Windings of Transformer</th>\n",
       "      <th>TC35 Holdup PCB under Power</th>\n",
       "      <th>TC33 Busbar L2 Neut to Relay</th>\n",
       "      <th>time_delta</th>\n",
       "      <th>seconds</th>\n",
       "    </tr>\n",
       "  </thead>\n",
       "  <tbody>\n",
       "    <tr>\n",
       "      <th>0</th>\n",
       "      <td>2023/12/13</td>\n",
       "      <td>15:36:00</td>\n",
       "      <td>23.8</td>\n",
       "      <td>22.9</td>\n",
       "      <td>22.8</td>\n",
       "      <td>23.0</td>\n",
       "      <td>24.2</td>\n",
       "      <td>23.7</td>\n",
       "      <td>24.9</td>\n",
       "      <td>22.8</td>\n",
       "      <td>...</td>\n",
       "      <td>24.5</td>\n",
       "      <td>25.5</td>\n",
       "      <td>24.0</td>\n",
       "      <td>26.9</td>\n",
       "      <td>34.8</td>\n",
       "      <td>25.6</td>\n",
       "      <td>25.8</td>\n",
       "      <td>23.8</td>\n",
       "      <td>0 days 00:00:00</td>\n",
       "      <td>0.0</td>\n",
       "    </tr>\n",
       "    <tr>\n",
       "      <th>1</th>\n",
       "      <td>2023/12/13</td>\n",
       "      <td>15:38:00</td>\n",
       "      <td>23.6</td>\n",
       "      <td>24.1</td>\n",
       "      <td>23.0</td>\n",
       "      <td>23.9</td>\n",
       "      <td>29.0</td>\n",
       "      <td>23.6</td>\n",
       "      <td>26.4</td>\n",
       "      <td>22.9</td>\n",
       "      <td>...</td>\n",
       "      <td>24.8</td>\n",
       "      <td>25.6</td>\n",
       "      <td>24.5</td>\n",
       "      <td>27.1</td>\n",
       "      <td>34.8</td>\n",
       "      <td>25.9</td>\n",
       "      <td>26.1</td>\n",
       "      <td>24.3</td>\n",
       "      <td>0 days 00:02:00</td>\n",
       "      <td>120.0</td>\n",
       "    </tr>\n",
       "    <tr>\n",
       "      <th>2</th>\n",
       "      <td>2023/12/13</td>\n",
       "      <td>15:40:00</td>\n",
       "      <td>23.6</td>\n",
       "      <td>26.9</td>\n",
       "      <td>23.5</td>\n",
       "      <td>25.7</td>\n",
       "      <td>38.2</td>\n",
       "      <td>23.6</td>\n",
       "      <td>26.5</td>\n",
       "      <td>23.0</td>\n",
       "      <td>...</td>\n",
       "      <td>25.6</td>\n",
       "      <td>25.7</td>\n",
       "      <td>26.7</td>\n",
       "      <td>27.1</td>\n",
       "      <td>31.6</td>\n",
       "      <td>25.9</td>\n",
       "      <td>26.3</td>\n",
       "      <td>26.8</td>\n",
       "      <td>0 days 00:04:00</td>\n",
       "      <td>240.0</td>\n",
       "    </tr>\n",
       "    <tr>\n",
       "      <th>3</th>\n",
       "      <td>2023/12/13</td>\n",
       "      <td>15:42:00</td>\n",
       "      <td>23.6</td>\n",
       "      <td>29.8</td>\n",
       "      <td>24.3</td>\n",
       "      <td>27.4</td>\n",
       "      <td>45.9</td>\n",
       "      <td>23.6</td>\n",
       "      <td>26.5</td>\n",
       "      <td>23.2</td>\n",
       "      <td>...</td>\n",
       "      <td>27.0</td>\n",
       "      <td>25.7</td>\n",
       "      <td>29.7</td>\n",
       "      <td>27.0</td>\n",
       "      <td>29.7</td>\n",
       "      <td>25.9</td>\n",
       "      <td>26.4</td>\n",
       "      <td>30.1</td>\n",
       "      <td>0 days 00:06:00</td>\n",
       "      <td>360.0</td>\n",
       "    </tr>\n",
       "    <tr>\n",
       "      <th>4</th>\n",
       "      <td>2023/12/13</td>\n",
       "      <td>15:44:00</td>\n",
       "      <td>23.7</td>\n",
       "      <td>32.6</td>\n",
       "      <td>25.3</td>\n",
       "      <td>29.0</td>\n",
       "      <td>52.4</td>\n",
       "      <td>23.6</td>\n",
       "      <td>26.7</td>\n",
       "      <td>23.5</td>\n",
       "      <td>...</td>\n",
       "      <td>28.9</td>\n",
       "      <td>25.7</td>\n",
       "      <td>32.8</td>\n",
       "      <td>27.0</td>\n",
       "      <td>29.3</td>\n",
       "      <td>26.0</td>\n",
       "      <td>26.5</td>\n",
       "      <td>33.6</td>\n",
       "      <td>0 days 00:08:00</td>\n",
       "      <td>480.0</td>\n",
       "    </tr>\n",
       "  </tbody>\n",
       "</table>\n",
       "<p>5 rows × 40 columns</p>\n",
       "</div>"
      ],
      "text/plain": [
       "         Date      Time  TC1 Gasket  TC2 Supply Lug  TC3 Backup Lug  \\\n",
       "0  2023/12/13  15:36:00        23.8            22.9            22.8   \n",
       "1  2023/12/13  15:38:00        23.6            24.1            23.0   \n",
       "2  2023/12/13  15:40:00        23.6            26.9            23.5   \n",
       "3  2023/12/13  15:42:00        23.6            29.8            24.3   \n",
       "4  2023/12/13  15:44:00        23.7            32.6            25.3   \n",
       "\n",
       "   TC4 Subpanel Lug  TC5 MSA Busbar  TC6 Glass Door  \\\n",
       "0              23.0            24.2            23.7   \n",
       "1              23.9            29.0            23.6   \n",
       "2              25.7            38.2            23.6   \n",
       "3              27.4            45.9            23.6   \n",
       "4              29.0            52.4            23.6   \n",
       "\n",
       "   TC7 Upper Enclosure Ambient  TC8 Lower Enclosure Ambient  ...  \\\n",
       "0                         24.9                         22.8  ...   \n",
       "1                         26.4                         22.9  ...   \n",
       "2                         26.5                         23.0  ...   \n",
       "3                         26.5                         23.2  ...   \n",
       "4                         26.7                         23.5  ...   \n",
       "\n",
       "   TC29 Capacitor (C44)  TC30 Winding Internal Side Trans  \\\n",
       "0                  24.5                              25.5   \n",
       "1                  24.8                              25.6   \n",
       "2                  25.6                              25.7   \n",
       "3                  27.0                              25.7   \n",
       "4                  28.9                              25.7   \n",
       "\n",
       "   TC32 Busbar L1 Neut to Relay  TC34 Cap on Holdup PCB  TC36 TACO PCB  \\\n",
       "0                          24.0                    26.9           34.8   \n",
       "1                          24.5                    27.1           34.8   \n",
       "2                          26.7                    27.1           31.6   \n",
       "3                          29.7                    27.0           29.7   \n",
       "4                          32.8                    27.0           29.3   \n",
       "\n",
       "   TC31 Windings of Transformer  TC35 Holdup PCB under Power  \\\n",
       "0                          25.6                         25.8   \n",
       "1                          25.9                         26.1   \n",
       "2                          25.9                         26.3   \n",
       "3                          25.9                         26.4   \n",
       "4                          26.0                         26.5   \n",
       "\n",
       "   TC33 Busbar L2 Neut to Relay      time_delta  seconds  \n",
       "0                          23.8 0 days 00:00:00      0.0  \n",
       "1                          24.3 0 days 00:02:00    120.0  \n",
       "2                          26.8 0 days 00:04:00    240.0  \n",
       "3                          30.1 0 days 00:06:00    360.0  \n",
       "4                          33.6 0 days 00:08:00    480.0  \n",
       "\n",
       "[5 rows x 40 columns]"
      ]
     },
     "execution_count": 60,
     "metadata": {},
     "output_type": "execute_result"
    }
   ],
   "source": [
    "tim_df_timeFromStart.head()"
   ]
  },
  {
   "cell_type": "code",
   "execution_count": 61,
   "metadata": {},
   "outputs": [
    {
     "data": {
      "text/html": [
       "<div>\n",
       "<style scoped>\n",
       "    .dataframe tbody tr th:only-of-type {\n",
       "        vertical-align: middle;\n",
       "    }\n",
       "\n",
       "    .dataframe tbody tr th {\n",
       "        vertical-align: top;\n",
       "    }\n",
       "\n",
       "    .dataframe thead th {\n",
       "        text-align: right;\n",
       "    }\n",
       "</style>\n",
       "<table border=\"1\" class=\"dataframe\">\n",
       "  <thead>\n",
       "    <tr style=\"text-align: right;\">\n",
       "      <th></th>\n",
       "      <th>Date</th>\n",
       "      <th>Time</th>\n",
       "      <th>TC1 L1 relay-bar</th>\n",
       "      <th>TC2 L2 relay-bar</th>\n",
       "      <th>TC3 L1 cap-bar</th>\n",
       "      <th>TC4 L2 cap-bar</th>\n",
       "      <th>TC5 MSA NTC R81</th>\n",
       "      <th>TC6 Chamber Ambient</th>\n",
       "      <th>time_delta</th>\n",
       "      <th>seconds</th>\n",
       "    </tr>\n",
       "  </thead>\n",
       "  <tbody>\n",
       "    <tr>\n",
       "      <th>0</th>\n",
       "      <td>2023/11/17</td>\n",
       "      <td>17:35:30</td>\n",
       "      <td>26.1</td>\n",
       "      <td>26.2</td>\n",
       "      <td>26.1</td>\n",
       "      <td>26.2</td>\n",
       "      <td>25.8</td>\n",
       "      <td>26.3</td>\n",
       "      <td>0 days 00:00:00</td>\n",
       "      <td>0.0</td>\n",
       "    </tr>\n",
       "    <tr>\n",
       "      <th>1</th>\n",
       "      <td>2023/11/17</td>\n",
       "      <td>17:36:00</td>\n",
       "      <td>26.1</td>\n",
       "      <td>26.2</td>\n",
       "      <td>26.1</td>\n",
       "      <td>26.3</td>\n",
       "      <td>25.8</td>\n",
       "      <td>26.3</td>\n",
       "      <td>0 days 00:00:30</td>\n",
       "      <td>30.0</td>\n",
       "    </tr>\n",
       "    <tr>\n",
       "      <th>2</th>\n",
       "      <td>2023/11/17</td>\n",
       "      <td>17:36:30</td>\n",
       "      <td>26.4</td>\n",
       "      <td>26.3</td>\n",
       "      <td>26.7</td>\n",
       "      <td>26.6</td>\n",
       "      <td>25.8</td>\n",
       "      <td>26.2</td>\n",
       "      <td>0 days 00:01:00</td>\n",
       "      <td>60.0</td>\n",
       "    </tr>\n",
       "    <tr>\n",
       "      <th>3</th>\n",
       "      <td>2023/11/17</td>\n",
       "      <td>17:37:00</td>\n",
       "      <td>29.0</td>\n",
       "      <td>27.7</td>\n",
       "      <td>29.5</td>\n",
       "      <td>29.3</td>\n",
       "      <td>26.2</td>\n",
       "      <td>26.3</td>\n",
       "      <td>0 days 00:01:30</td>\n",
       "      <td>90.0</td>\n",
       "    </tr>\n",
       "    <tr>\n",
       "      <th>4</th>\n",
       "      <td>2023/11/17</td>\n",
       "      <td>17:37:30</td>\n",
       "      <td>31.9</td>\n",
       "      <td>29.4</td>\n",
       "      <td>31.7</td>\n",
       "      <td>31.6</td>\n",
       "      <td>27.0</td>\n",
       "      <td>26.3</td>\n",
       "      <td>0 days 00:02:00</td>\n",
       "      <td>120.0</td>\n",
       "    </tr>\n",
       "  </tbody>\n",
       "</table>\n",
       "</div>"
      ],
      "text/plain": [
       "         Date      Time  TC1 L1 relay-bar  TC2 L2 relay-bar  TC3 L1 cap-bar  \\\n",
       "0  2023/11/17  17:35:30              26.1              26.2            26.1   \n",
       "1  2023/11/17  17:36:00              26.1              26.2            26.1   \n",
       "2  2023/11/17  17:36:30              26.4              26.3            26.7   \n",
       "3  2023/11/17  17:37:00              29.0              27.7            29.5   \n",
       "4  2023/11/17  17:37:30              31.9              29.4            31.7   \n",
       "\n",
       "   TC4 L2 cap-bar  TC5 MSA NTC R81  TC6 Chamber Ambient      time_delta  \\\n",
       "0            26.2             25.8                 26.3 0 days 00:00:00   \n",
       "1            26.3             25.8                 26.3 0 days 00:00:30   \n",
       "2            26.6             25.8                 26.2 0 days 00:01:00   \n",
       "3            29.3             26.2                 26.3 0 days 00:01:30   \n",
       "4            31.6             27.0                 26.3 0 days 00:02:00   \n",
       "\n",
       "   seconds  \n",
       "0      0.0  \n",
       "1     30.0  \n",
       "2     60.0  \n",
       "3     90.0  \n",
       "4    120.0  "
      ]
     },
     "execution_count": 61,
     "metadata": {},
     "output_type": "execute_result"
    }
   ],
   "source": [
    "no_tim_df_timeFromStart.head()"
   ]
  },
  {
   "cell_type": "code",
   "execution_count": 64,
   "metadata": {},
   "outputs": [
    {
     "name": "stdout",
     "output_type": "stream",
     "text": [
      "['Date', 'Time', 'TC1 Gasket', 'TC2 Supply Lug', 'TC3 Backup Lug', 'TC4 Subpanel Lug', 'TC5 MSA Busbar', 'TC6 Glass Door', 'TC7 Upper Enclosure Ambient', 'TC8 Lower Enclosure Ambient', 'TC9 Lab Ambient', 'TC10 Subpanel Tray', 'TC11 Ambient under MSA Cover', 'TC12 MSA PCB', 'TC13 MCB Plastic', 'TC14 Enclosure Handle', 'TC15 Top of Enclosure (Plastic)', 'TC16 Side of Enclosure', 'TC17 Subpanel Bussing', 'TC18 Branch Breaker Plastic Top', 'TC19 Branch Breaker Plastic Mid', 'TC20 Branch Breaker Bussing Top', 'TC21 Brach Breaker Bussing Mid', 'TC22 Transformer Cover Plastic', 'TC23 RF Window Plastic', 'TC24 Busbar Tray near MCB', 'TC25 Busbar Tray Field Wiring', 'TC26 Busbar Tray MSA Under cover', 'TC27 Relay Ambient', 'TC28 MCB Ambient', 'TC29 Capacitor (C44)', 'TC30 Winding Internal Side Trans', 'TC32 Busbar L1 Neut to Relay', 'TC34 Cap on Holdup PCB', 'TC36 TACO PCB', 'TC31 Windings of Transformer', 'TC35 Holdup PCB under Power', 'TC33 Busbar L2 Neut to Relay', 'time_delta', 'seconds']\n"
     ]
    }
   ],
   "source": [
    "print(tim_df_timeFromStart.columns.tolist())"
   ]
  },
  {
   "cell_type": "code",
   "execution_count": 68,
   "metadata": {},
   "outputs": [
    {
     "data": {
      "application/vnd.plotly.v1+json": {
       "config": {
        "plotlyServerURL": "https://plot.ly"
       },
       "data": [
        {
         "hovertemplate": "variable=TC5 MSA Busbar<br>seconds=%{x}<br>Temperature (Degrees C)=%{y}<extra></extra>",
         "legendgroup": "TC5 MSA Busbar",
         "line": {
          "color": "#636efa",
          "dash": "solid"
         },
         "marker": {
          "symbol": "circle"
         },
         "mode": "lines",
         "name": "TC5 MSA Busbar",
         "orientation": "v",
         "showlegend": true,
         "type": "scatter",
         "x": [
          0,
          120,
          240,
          360,
          480,
          600,
          720,
          840,
          960,
          1080,
          1200,
          1320,
          1440,
          1560,
          1680,
          1800,
          1920,
          2040,
          2160,
          2280,
          2400,
          2520,
          2640,
          2760,
          2880,
          3000,
          3120,
          3240,
          3360,
          3480,
          3600,
          3720,
          3840,
          3960,
          4080,
          4200,
          4320,
          4440,
          4560,
          4680,
          4800,
          4920
         ],
         "xaxis": "x",
         "y": [
          24.2,
          29,
          38.2,
          45.9,
          52.4,
          57.9,
          62.7,
          66.9,
          70.7,
          74.1,
          77.3,
          80.1,
          82.8,
          85.4,
          87.8,
          90,
          92.2,
          94.2,
          96.1,
          97.9,
          99.6,
          101.2,
          102.8,
          104.3,
          105.7,
          107.1,
          108.5,
          109.7,
          111,
          112.2,
          113.3,
          114.3,
          115.4,
          116.3,
          116,
          106.7,
          99.2,
          93.4,
          88.7,
          84.8,
          81.5,
          78.7
         ],
         "yaxis": "y"
        },
        {
         "hovertemplate": "variable=TC12 MSA PCB<br>seconds=%{x}<br>Temperature (Degrees C)=%{y}<extra></extra>",
         "legendgroup": "TC12 MSA PCB",
         "line": {
          "color": "#EF553B",
          "dash": "solid"
         },
         "marker": {
          "symbol": "circle"
         },
         "mode": "lines",
         "name": "TC12 MSA PCB",
         "orientation": "v",
         "showlegend": true,
         "type": "scatter",
         "x": [
          0,
          120,
          240,
          360,
          480,
          600,
          720,
          840,
          960,
          1080,
          1200,
          1320,
          1440,
          1560,
          1680,
          1800,
          1920,
          2040,
          2160,
          2280,
          2400,
          2520,
          2640,
          2760,
          2880,
          3000,
          3120,
          3240,
          3360,
          3480,
          3600,
          3720,
          3840,
          3960,
          4080,
          4200,
          4320,
          4440,
          4560,
          4680,
          4800,
          4920
         ],
         "xaxis": "x",
         "y": [
          24.4,
          26.5,
          31.5,
          36.5,
          41,
          45.2,
          49.1,
          52.6,
          55.9,
          59,
          61.9,
          64.7,
          67.3,
          69.8,
          72.2,
          74.5,
          76.6,
          78.7,
          80.6,
          82.4,
          84.1,
          85.8,
          87.3,
          88.9,
          90.3,
          91.7,
          93,
          94.3,
          95.5,
          96.7,
          97.8,
          98.9,
          99.9,
          100.9,
          100.9,
          97.6,
          93.5,
          89.7,
          86.5,
          83.6,
          81,
          78.8
         ],
         "yaxis": "y"
        },
        {
         "hovertemplate": "variable=TC9 Lab Ambient<br>seconds=%{x}<br>Temperature (Degrees C)=%{y}<extra></extra>",
         "legendgroup": "TC9 Lab Ambient",
         "line": {
          "color": "#00cc96",
          "dash": "solid"
         },
         "marker": {
          "symbol": "circle"
         },
         "mode": "lines",
         "name": "TC9 Lab Ambient",
         "orientation": "v",
         "showlegend": true,
         "type": "scatter",
         "x": [
          0,
          120,
          240,
          360,
          480,
          600,
          720,
          840,
          960,
          1080,
          1200,
          1320,
          1440,
          1560,
          1680,
          1800,
          1920,
          2040,
          2160,
          2280,
          2400,
          2520,
          2640,
          2760,
          2880,
          3000,
          3120,
          3240,
          3360,
          3480,
          3600,
          3720,
          3840,
          3960,
          4080,
          4200,
          4320,
          4440,
          4560,
          4680,
          4800,
          4920
         ],
         "xaxis": "x",
         "y": [
          22.6,
          22.8,
          22.9,
          23,
          23,
          23.1,
          23.2,
          23.3,
          23.3,
          23.4,
          23.4,
          23.6,
          23.6,
          23.7,
          23.8,
          23.9,
          24,
          24,
          24,
          24.1,
          24.2,
          24.3,
          24.4,
          24.4,
          24.5,
          24.6,
          24.7,
          24.7,
          24.8,
          24.9,
          25,
          25,
          25.1,
          25.2,
          37.5,
          42.4,
          45.4,
          47.8,
          50.4,
          51.6,
          51.7,
          51.6
         ],
         "yaxis": "y"
        }
       ],
       "layout": {
        "legend": {
         "title": {
          "text": "variable"
         },
         "tracegroupgap": 0
        },
        "template": {
         "data": {
          "bar": [
           {
            "error_x": {
             "color": "#2a3f5f"
            },
            "error_y": {
             "color": "#2a3f5f"
            },
            "marker": {
             "line": {
              "color": "#E5ECF6",
              "width": 0.5
             },
             "pattern": {
              "fillmode": "overlay",
              "size": 10,
              "solidity": 0.2
             }
            },
            "type": "bar"
           }
          ],
          "barpolar": [
           {
            "marker": {
             "line": {
              "color": "#E5ECF6",
              "width": 0.5
             },
             "pattern": {
              "fillmode": "overlay",
              "size": 10,
              "solidity": 0.2
             }
            },
            "type": "barpolar"
           }
          ],
          "carpet": [
           {
            "aaxis": {
             "endlinecolor": "#2a3f5f",
             "gridcolor": "white",
             "linecolor": "white",
             "minorgridcolor": "white",
             "startlinecolor": "#2a3f5f"
            },
            "baxis": {
             "endlinecolor": "#2a3f5f",
             "gridcolor": "white",
             "linecolor": "white",
             "minorgridcolor": "white",
             "startlinecolor": "#2a3f5f"
            },
            "type": "carpet"
           }
          ],
          "choropleth": [
           {
            "colorbar": {
             "outlinewidth": 0,
             "ticks": ""
            },
            "type": "choropleth"
           }
          ],
          "contour": [
           {
            "colorbar": {
             "outlinewidth": 0,
             "ticks": ""
            },
            "colorscale": [
             [
              0,
              "#0d0887"
             ],
             [
              0.1111111111111111,
              "#46039f"
             ],
             [
              0.2222222222222222,
              "#7201a8"
             ],
             [
              0.3333333333333333,
              "#9c179e"
             ],
             [
              0.4444444444444444,
              "#bd3786"
             ],
             [
              0.5555555555555556,
              "#d8576b"
             ],
             [
              0.6666666666666666,
              "#ed7953"
             ],
             [
              0.7777777777777778,
              "#fb9f3a"
             ],
             [
              0.8888888888888888,
              "#fdca26"
             ],
             [
              1,
              "#f0f921"
             ]
            ],
            "type": "contour"
           }
          ],
          "contourcarpet": [
           {
            "colorbar": {
             "outlinewidth": 0,
             "ticks": ""
            },
            "type": "contourcarpet"
           }
          ],
          "heatmap": [
           {
            "colorbar": {
             "outlinewidth": 0,
             "ticks": ""
            },
            "colorscale": [
             [
              0,
              "#0d0887"
             ],
             [
              0.1111111111111111,
              "#46039f"
             ],
             [
              0.2222222222222222,
              "#7201a8"
             ],
             [
              0.3333333333333333,
              "#9c179e"
             ],
             [
              0.4444444444444444,
              "#bd3786"
             ],
             [
              0.5555555555555556,
              "#d8576b"
             ],
             [
              0.6666666666666666,
              "#ed7953"
             ],
             [
              0.7777777777777778,
              "#fb9f3a"
             ],
             [
              0.8888888888888888,
              "#fdca26"
             ],
             [
              1,
              "#f0f921"
             ]
            ],
            "type": "heatmap"
           }
          ],
          "heatmapgl": [
           {
            "colorbar": {
             "outlinewidth": 0,
             "ticks": ""
            },
            "colorscale": [
             [
              0,
              "#0d0887"
             ],
             [
              0.1111111111111111,
              "#46039f"
             ],
             [
              0.2222222222222222,
              "#7201a8"
             ],
             [
              0.3333333333333333,
              "#9c179e"
             ],
             [
              0.4444444444444444,
              "#bd3786"
             ],
             [
              0.5555555555555556,
              "#d8576b"
             ],
             [
              0.6666666666666666,
              "#ed7953"
             ],
             [
              0.7777777777777778,
              "#fb9f3a"
             ],
             [
              0.8888888888888888,
              "#fdca26"
             ],
             [
              1,
              "#f0f921"
             ]
            ],
            "type": "heatmapgl"
           }
          ],
          "histogram": [
           {
            "marker": {
             "pattern": {
              "fillmode": "overlay",
              "size": 10,
              "solidity": 0.2
             }
            },
            "type": "histogram"
           }
          ],
          "histogram2d": [
           {
            "colorbar": {
             "outlinewidth": 0,
             "ticks": ""
            },
            "colorscale": [
             [
              0,
              "#0d0887"
             ],
             [
              0.1111111111111111,
              "#46039f"
             ],
             [
              0.2222222222222222,
              "#7201a8"
             ],
             [
              0.3333333333333333,
              "#9c179e"
             ],
             [
              0.4444444444444444,
              "#bd3786"
             ],
             [
              0.5555555555555556,
              "#d8576b"
             ],
             [
              0.6666666666666666,
              "#ed7953"
             ],
             [
              0.7777777777777778,
              "#fb9f3a"
             ],
             [
              0.8888888888888888,
              "#fdca26"
             ],
             [
              1,
              "#f0f921"
             ]
            ],
            "type": "histogram2d"
           }
          ],
          "histogram2dcontour": [
           {
            "colorbar": {
             "outlinewidth": 0,
             "ticks": ""
            },
            "colorscale": [
             [
              0,
              "#0d0887"
             ],
             [
              0.1111111111111111,
              "#46039f"
             ],
             [
              0.2222222222222222,
              "#7201a8"
             ],
             [
              0.3333333333333333,
              "#9c179e"
             ],
             [
              0.4444444444444444,
              "#bd3786"
             ],
             [
              0.5555555555555556,
              "#d8576b"
             ],
             [
              0.6666666666666666,
              "#ed7953"
             ],
             [
              0.7777777777777778,
              "#fb9f3a"
             ],
             [
              0.8888888888888888,
              "#fdca26"
             ],
             [
              1,
              "#f0f921"
             ]
            ],
            "type": "histogram2dcontour"
           }
          ],
          "mesh3d": [
           {
            "colorbar": {
             "outlinewidth": 0,
             "ticks": ""
            },
            "type": "mesh3d"
           }
          ],
          "parcoords": [
           {
            "line": {
             "colorbar": {
              "outlinewidth": 0,
              "ticks": ""
             }
            },
            "type": "parcoords"
           }
          ],
          "pie": [
           {
            "automargin": true,
            "type": "pie"
           }
          ],
          "scatter": [
           {
            "fillpattern": {
             "fillmode": "overlay",
             "size": 10,
             "solidity": 0.2
            },
            "type": "scatter"
           }
          ],
          "scatter3d": [
           {
            "line": {
             "colorbar": {
              "outlinewidth": 0,
              "ticks": ""
             }
            },
            "marker": {
             "colorbar": {
              "outlinewidth": 0,
              "ticks": ""
             }
            },
            "type": "scatter3d"
           }
          ],
          "scattercarpet": [
           {
            "marker": {
             "colorbar": {
              "outlinewidth": 0,
              "ticks": ""
             }
            },
            "type": "scattercarpet"
           }
          ],
          "scattergeo": [
           {
            "marker": {
             "colorbar": {
              "outlinewidth": 0,
              "ticks": ""
             }
            },
            "type": "scattergeo"
           }
          ],
          "scattergl": [
           {
            "marker": {
             "colorbar": {
              "outlinewidth": 0,
              "ticks": ""
             }
            },
            "type": "scattergl"
           }
          ],
          "scattermapbox": [
           {
            "marker": {
             "colorbar": {
              "outlinewidth": 0,
              "ticks": ""
             }
            },
            "type": "scattermapbox"
           }
          ],
          "scatterpolar": [
           {
            "marker": {
             "colorbar": {
              "outlinewidth": 0,
              "ticks": ""
             }
            },
            "type": "scatterpolar"
           }
          ],
          "scatterpolargl": [
           {
            "marker": {
             "colorbar": {
              "outlinewidth": 0,
              "ticks": ""
             }
            },
            "type": "scatterpolargl"
           }
          ],
          "scatterternary": [
           {
            "marker": {
             "colorbar": {
              "outlinewidth": 0,
              "ticks": ""
             }
            },
            "type": "scatterternary"
           }
          ],
          "surface": [
           {
            "colorbar": {
             "outlinewidth": 0,
             "ticks": ""
            },
            "colorscale": [
             [
              0,
              "#0d0887"
             ],
             [
              0.1111111111111111,
              "#46039f"
             ],
             [
              0.2222222222222222,
              "#7201a8"
             ],
             [
              0.3333333333333333,
              "#9c179e"
             ],
             [
              0.4444444444444444,
              "#bd3786"
             ],
             [
              0.5555555555555556,
              "#d8576b"
             ],
             [
              0.6666666666666666,
              "#ed7953"
             ],
             [
              0.7777777777777778,
              "#fb9f3a"
             ],
             [
              0.8888888888888888,
              "#fdca26"
             ],
             [
              1,
              "#f0f921"
             ]
            ],
            "type": "surface"
           }
          ],
          "table": [
           {
            "cells": {
             "fill": {
              "color": "#EBF0F8"
             },
             "line": {
              "color": "white"
             }
            },
            "header": {
             "fill": {
              "color": "#C8D4E3"
             },
             "line": {
              "color": "white"
             }
            },
            "type": "table"
           }
          ]
         },
         "layout": {
          "annotationdefaults": {
           "arrowcolor": "#2a3f5f",
           "arrowhead": 0,
           "arrowwidth": 1
          },
          "autotypenumbers": "strict",
          "coloraxis": {
           "colorbar": {
            "outlinewidth": 0,
            "ticks": ""
           }
          },
          "colorscale": {
           "diverging": [
            [
             0,
             "#8e0152"
            ],
            [
             0.1,
             "#c51b7d"
            ],
            [
             0.2,
             "#de77ae"
            ],
            [
             0.3,
             "#f1b6da"
            ],
            [
             0.4,
             "#fde0ef"
            ],
            [
             0.5,
             "#f7f7f7"
            ],
            [
             0.6,
             "#e6f5d0"
            ],
            [
             0.7,
             "#b8e186"
            ],
            [
             0.8,
             "#7fbc41"
            ],
            [
             0.9,
             "#4d9221"
            ],
            [
             1,
             "#276419"
            ]
           ],
           "sequential": [
            [
             0,
             "#0d0887"
            ],
            [
             0.1111111111111111,
             "#46039f"
            ],
            [
             0.2222222222222222,
             "#7201a8"
            ],
            [
             0.3333333333333333,
             "#9c179e"
            ],
            [
             0.4444444444444444,
             "#bd3786"
            ],
            [
             0.5555555555555556,
             "#d8576b"
            ],
            [
             0.6666666666666666,
             "#ed7953"
            ],
            [
             0.7777777777777778,
             "#fb9f3a"
            ],
            [
             0.8888888888888888,
             "#fdca26"
            ],
            [
             1,
             "#f0f921"
            ]
           ],
           "sequentialminus": [
            [
             0,
             "#0d0887"
            ],
            [
             0.1111111111111111,
             "#46039f"
            ],
            [
             0.2222222222222222,
             "#7201a8"
            ],
            [
             0.3333333333333333,
             "#9c179e"
            ],
            [
             0.4444444444444444,
             "#bd3786"
            ],
            [
             0.5555555555555556,
             "#d8576b"
            ],
            [
             0.6666666666666666,
             "#ed7953"
            ],
            [
             0.7777777777777778,
             "#fb9f3a"
            ],
            [
             0.8888888888888888,
             "#fdca26"
            ],
            [
             1,
             "#f0f921"
            ]
           ]
          },
          "colorway": [
           "#636efa",
           "#EF553B",
           "#00cc96",
           "#ab63fa",
           "#FFA15A",
           "#19d3f3",
           "#FF6692",
           "#B6E880",
           "#FF97FF",
           "#FECB52"
          ],
          "font": {
           "color": "#2a3f5f"
          },
          "geo": {
           "bgcolor": "white",
           "lakecolor": "white",
           "landcolor": "#E5ECF6",
           "showlakes": true,
           "showland": true,
           "subunitcolor": "white"
          },
          "hoverlabel": {
           "align": "left"
          },
          "hovermode": "closest",
          "mapbox": {
           "style": "light"
          },
          "paper_bgcolor": "white",
          "plot_bgcolor": "#E5ECF6",
          "polar": {
           "angularaxis": {
            "gridcolor": "white",
            "linecolor": "white",
            "ticks": ""
           },
           "bgcolor": "#E5ECF6",
           "radialaxis": {
            "gridcolor": "white",
            "linecolor": "white",
            "ticks": ""
           }
          },
          "scene": {
           "xaxis": {
            "backgroundcolor": "#E5ECF6",
            "gridcolor": "white",
            "gridwidth": 2,
            "linecolor": "white",
            "showbackground": true,
            "ticks": "",
            "zerolinecolor": "white"
           },
           "yaxis": {
            "backgroundcolor": "#E5ECF6",
            "gridcolor": "white",
            "gridwidth": 2,
            "linecolor": "white",
            "showbackground": true,
            "ticks": "",
            "zerolinecolor": "white"
           },
           "zaxis": {
            "backgroundcolor": "#E5ECF6",
            "gridcolor": "white",
            "gridwidth": 2,
            "linecolor": "white",
            "showbackground": true,
            "ticks": "",
            "zerolinecolor": "white"
           }
          },
          "shapedefaults": {
           "line": {
            "color": "#2a3f5f"
           }
          },
          "ternary": {
           "aaxis": {
            "gridcolor": "white",
            "linecolor": "white",
            "ticks": ""
           },
           "baxis": {
            "gridcolor": "white",
            "linecolor": "white",
            "ticks": ""
           },
           "bgcolor": "#E5ECF6",
           "caxis": {
            "gridcolor": "white",
            "linecolor": "white",
            "ticks": ""
           }
          },
          "title": {
           "x": 0.05
          },
          "xaxis": {
           "automargin": true,
           "gridcolor": "white",
           "linecolor": "white",
           "ticks": "",
           "title": {
            "standoff": 15
           },
           "zerolinecolor": "white",
           "zerolinewidth": 2
          },
          "yaxis": {
           "automargin": true,
           "gridcolor": "white",
           "linecolor": "white",
           "ticks": "",
           "title": {
            "standoff": 15
           },
           "zerolinecolor": "white",
           "zerolinewidth": 2
          }
         }
        },
        "title": {
         "text": "TIM Data"
        },
        "xaxis": {
         "anchor": "y",
         "domain": [
          0,
          1
         ],
         "title": {
          "text": "seconds"
         }
        },
        "yaxis": {
         "anchor": "x",
         "domain": [
          0,
          1
         ],
         "title": {
          "text": "Temperature (Degrees C)"
         }
        }
       }
      }
     },
     "metadata": {},
     "output_type": "display_data"
    }
   ],
   "source": [
    "# plot all columns of the original df using plotly and display in this notebook\n",
    "# msa_columns = [col for col in tim_df_timeFromStart.columns if 'MSA' in col]\n",
    "msa_columns = ['TC5 MSA Busbar', 'TC12 MSA PCB', 'TC9 Lab Ambient']\n",
    "columns_to_plot = msa_columns + ['TC9 Lab Ambient']\n",
    "\n",
    "fig_tim = px.line(tim_df_timeFromStart, x='seconds', y=columns_to_plot, title='TIM Data', \n",
    "              labels={'value': 'Temperature (Degrees C)'})\n",
    "\n",
    "fig_tim.show()\n"
   ]
  },
  {
   "cell_type": "code",
   "execution_count": 70,
   "metadata": {},
   "outputs": [
    {
     "data": {
      "application/vnd.plotly.v1+json": {
       "config": {
        "plotlyServerURL": "https://plot.ly"
       },
       "data": [
        {
         "hovertemplate": "variable=TC1 L1 relay-bar<br>seconds=%{x}<br>Temperature (Degrees C)=%{y}<extra></extra>",
         "legendgroup": "TC1 L1 relay-bar",
         "line": {
          "color": "#636efa",
          "dash": "solid"
         },
         "marker": {
          "symbol": "circle"
         },
         "mode": "lines",
         "name": "TC1 L1 relay-bar",
         "showlegend": true,
         "type": "scattergl",
         "x": [
          0,
          30,
          60,
          90,
          120,
          150,
          180,
          210,
          240,
          270,
          300,
          330,
          360,
          390,
          420,
          450,
          480,
          510,
          540,
          570,
          600,
          630,
          660,
          690,
          720,
          750,
          780,
          810,
          840,
          870,
          900,
          930,
          960,
          990,
          1020,
          1050,
          1080,
          1110,
          1140,
          1170,
          1200,
          1230,
          1260,
          1290,
          1320,
          1350,
          1380,
          1410,
          1440,
          1470,
          1500,
          1530,
          1560,
          1590,
          1620,
          1650,
          1680,
          1710,
          1740,
          1770,
          1800,
          1830,
          1860,
          1890,
          1920,
          1950,
          1980,
          2010,
          2040,
          2070,
          2100,
          2130,
          2160,
          2190,
          2220,
          2250,
          2280,
          2310,
          2340,
          2370,
          2400,
          2430,
          2460,
          2490,
          2520,
          2550,
          2580,
          2610,
          2640,
          2670,
          2700,
          2730,
          2760,
          2790,
          2820,
          2850,
          2880,
          2910,
          2940,
          2970,
          3000,
          3030,
          3060,
          3090,
          3120,
          3150,
          3180,
          3210,
          3240,
          3270,
          3300,
          3330,
          3360,
          3390,
          3420,
          3450,
          3480,
          3510,
          3540,
          3570,
          3600,
          3630,
          3660,
          3690,
          3720,
          3750,
          3780,
          3810,
          3840,
          3870,
          3900,
          3930,
          3960,
          3990,
          4020,
          4050,
          4080,
          4110,
          4140,
          4170,
          4200,
          4230,
          4260,
          4290,
          4320,
          4350,
          4380,
          4410,
          4440,
          4470,
          4500,
          4530,
          4560,
          4590,
          4620,
          4650,
          4680,
          4710,
          4740,
          4770,
          4800,
          4830,
          4860,
          4890,
          4920,
          4950,
          4980,
          5010,
          5040,
          5070,
          5100,
          5130,
          5160,
          5190
         ],
         "xaxis": "x",
         "y": [
          26.1,
          26.1,
          26.4,
          29,
          31.9,
          34.7,
          37.3,
          39.6,
          41.8,
          43.8,
          45.8,
          47.6,
          49.3,
          50.9,
          52.5,
          54,
          55.4,
          56.8,
          58.1,
          59.4,
          60.6,
          61.8,
          62.9,
          64,
          65,
          66,
          67,
          67.9,
          68.9,
          69.7,
          70.6,
          71.4,
          72.3,
          73.1,
          74,
          74.7,
          75.5,
          76.2,
          77,
          77.7,
          78.5,
          79.2,
          79.9,
          80.6,
          81.2,
          81.8,
          82.5,
          83.1,
          83.7,
          84.3,
          84.9,
          85.6,
          86.2,
          86.7,
          87.3,
          87.9,
          88.4,
          89,
          89.5,
          90,
          90.5,
          91,
          91.4,
          92,
          92.4,
          92.9,
          93.3,
          93.8,
          94.2,
          94.7,
          95.1,
          95.5,
          95.9,
          96.4,
          96.8,
          97.2,
          97.6,
          97.9,
          98.4,
          98.8,
          99.1,
          99.5,
          99.8,
          100.2,
          100.5,
          100.8,
          101.2,
          101.5,
          101.9,
          102.2,
          102.5,
          102.9,
          103.2,
          103.5,
          103.8,
          104.1,
          104.4,
          104.7,
          105,
          105.3,
          105.5,
          105.8,
          106.1,
          106.5,
          106.7,
          107,
          107.3,
          107.5,
          107.8,
          108.1,
          108.4,
          108.6,
          108.9,
          109.1,
          109.3,
          109.7,
          109.8,
          110.1,
          110.4,
          110.6,
          110.8,
          111.1,
          111.3,
          111.6,
          111.8,
          112,
          112.2,
          112.5,
          112.7,
          112.9,
          113.1,
          113.3,
          113.5,
          113.8,
          114,
          114.2,
          114.4,
          114.6,
          114.8,
          115,
          115.2,
          115.4,
          115.5,
          115.7,
          115.9,
          116.1,
          116.3,
          116.5,
          116.6,
          116.8,
          117,
          117.2,
          117.3,
          117.5,
          117.7,
          117.9,
          118,
          118.2,
          118.4,
          118.5,
          118.7,
          118.7,
          117.1,
          114.2,
          111.3,
          108.6,
          106.1,
          103.8,
          101.7,
          99.7,
          97.8,
          96.1,
          94.4,
          92.9
         ],
         "yaxis": "y"
        },
        {
         "hovertemplate": "variable=TC2 L2 relay-bar<br>seconds=%{x}<br>Temperature (Degrees C)=%{y}<extra></extra>",
         "legendgroup": "TC2 L2 relay-bar",
         "line": {
          "color": "#EF553B",
          "dash": "solid"
         },
         "marker": {
          "symbol": "circle"
         },
         "mode": "lines",
         "name": "TC2 L2 relay-bar",
         "showlegend": true,
         "type": "scattergl",
         "x": [
          0,
          30,
          60,
          90,
          120,
          150,
          180,
          210,
          240,
          270,
          300,
          330,
          360,
          390,
          420,
          450,
          480,
          510,
          540,
          570,
          600,
          630,
          660,
          690,
          720,
          750,
          780,
          810,
          840,
          870,
          900,
          930,
          960,
          990,
          1020,
          1050,
          1080,
          1110,
          1140,
          1170,
          1200,
          1230,
          1260,
          1290,
          1320,
          1350,
          1380,
          1410,
          1440,
          1470,
          1500,
          1530,
          1560,
          1590,
          1620,
          1650,
          1680,
          1710,
          1740,
          1770,
          1800,
          1830,
          1860,
          1890,
          1920,
          1950,
          1980,
          2010,
          2040,
          2070,
          2100,
          2130,
          2160,
          2190,
          2220,
          2250,
          2280,
          2310,
          2340,
          2370,
          2400,
          2430,
          2460,
          2490,
          2520,
          2550,
          2580,
          2610,
          2640,
          2670,
          2700,
          2730,
          2760,
          2790,
          2820,
          2850,
          2880,
          2910,
          2940,
          2970,
          3000,
          3030,
          3060,
          3090,
          3120,
          3150,
          3180,
          3210,
          3240,
          3270,
          3300,
          3330,
          3360,
          3390,
          3420,
          3450,
          3480,
          3510,
          3540,
          3570,
          3600,
          3630,
          3660,
          3690,
          3720,
          3750,
          3780,
          3810,
          3840,
          3870,
          3900,
          3930,
          3960,
          3990,
          4020,
          4050,
          4080,
          4110,
          4140,
          4170,
          4200,
          4230,
          4260,
          4290,
          4320,
          4350,
          4380,
          4410,
          4440,
          4470,
          4500,
          4530,
          4560,
          4590,
          4620,
          4650,
          4680,
          4710,
          4740,
          4770,
          4800,
          4830,
          4860,
          4890,
          4920,
          4950,
          4980,
          5010,
          5040,
          5070,
          5100,
          5130,
          5160,
          5190
         ],
         "xaxis": "x",
         "y": [
          26.2,
          26.2,
          26.3,
          27.7,
          29.4,
          31.1,
          32.8,
          34.4,
          36,
          37.5,
          38.9,
          40.3,
          41.6,
          42.8,
          44,
          45.1,
          46.2,
          47.3,
          48.3,
          49.3,
          50.3,
          51.2,
          52.1,
          53,
          53.8,
          54.6,
          55.4,
          56.2,
          57,
          57.7,
          58.4,
          59.1,
          59.8,
          60.5,
          61.2,
          61.8,
          62.5,
          63.1,
          63.7,
          64.4,
          65,
          65.6,
          66.2,
          66.8,
          67.4,
          67.9,
          68.5,
          69,
          69.6,
          70.1,
          70.7,
          71.2,
          71.7,
          72.3,
          72.8,
          73.3,
          73.8,
          74.3,
          74.7,
          75.2,
          75.7,
          76.2,
          76.7,
          77.1,
          77.6,
          78.1,
          78.5,
          79,
          79.4,
          79.9,
          80.3,
          80.7,
          81.2,
          81.6,
          82,
          82.5,
          82.9,
          83.2,
          83.6,
          84,
          84.4,
          84.8,
          85.2,
          85.6,
          85.9,
          86.3,
          86.7,
          87.1,
          87.4,
          87.8,
          88.1,
          88.5,
          88.8,
          89.1,
          89.5,
          89.8,
          90.2,
          90.5,
          90.8,
          91.1,
          91.4,
          91.8,
          92.1,
          92.4,
          92.7,
          93,
          93.3,
          93.6,
          93.9,
          94.2,
          94.4,
          94.7,
          95,
          95.3,
          95.5,
          95.8,
          96.1,
          96.3,
          96.6,
          96.8,
          97.1,
          97.4,
          97.6,
          97.8,
          98.1,
          98.3,
          98.6,
          98.8,
          99,
          99.2,
          99.5,
          99.7,
          99.9,
          100.2,
          100.4,
          100.6,
          100.9,
          101.1,
          101.3,
          101.5,
          101.7,
          101.9,
          102.1,
          102.3,
          102.4,
          102.7,
          102.8,
          103.1,
          103.2,
          103.4,
          103.6,
          103.8,
          104,
          104.1,
          104.3,
          104.5,
          104.7,
          104.9,
          105,
          105.2,
          105.3,
          105.4,
          104.4,
          102.6,
          100.8,
          99.1,
          97.5,
          95.9,
          94.5,
          93.2,
          91.9,
          90.7,
          89.6,
          88.6
         ],
         "yaxis": "y"
        },
        {
         "hovertemplate": "variable=TC3 L1 cap-bar<br>seconds=%{x}<br>Temperature (Degrees C)=%{y}<extra></extra>",
         "legendgroup": "TC3 L1 cap-bar",
         "line": {
          "color": "#00cc96",
          "dash": "solid"
         },
         "marker": {
          "symbol": "circle"
         },
         "mode": "lines",
         "name": "TC3 L1 cap-bar",
         "showlegend": true,
         "type": "scattergl",
         "x": [
          0,
          30,
          60,
          90,
          120,
          150,
          180,
          210,
          240,
          270,
          300,
          330,
          360,
          390,
          420,
          450,
          480,
          510,
          540,
          570,
          600,
          630,
          660,
          690,
          720,
          750,
          780,
          810,
          840,
          870,
          900,
          930,
          960,
          990,
          1020,
          1050,
          1080,
          1110,
          1140,
          1170,
          1200,
          1230,
          1260,
          1290,
          1320,
          1350,
          1380,
          1410,
          1440,
          1470,
          1500,
          1530,
          1560,
          1590,
          1620,
          1650,
          1680,
          1710,
          1740,
          1770,
          1800,
          1830,
          1860,
          1890,
          1920,
          1950,
          1980,
          2010,
          2040,
          2070,
          2100,
          2130,
          2160,
          2190,
          2220,
          2250,
          2280,
          2310,
          2340,
          2370,
          2400,
          2430,
          2460,
          2490,
          2520,
          2550,
          2580,
          2610,
          2640,
          2670,
          2700,
          2730,
          2760,
          2790,
          2820,
          2850,
          2880,
          2910,
          2940,
          2970,
          3000,
          3030,
          3060,
          3090,
          3120,
          3150,
          3180,
          3210,
          3240,
          3270,
          3300,
          3330,
          3360,
          3390,
          3420,
          3450,
          3480,
          3510,
          3540,
          3570,
          3600,
          3630,
          3660,
          3690,
          3720,
          3750,
          3780,
          3810,
          3840,
          3870,
          3900,
          3930,
          3960,
          3990,
          4020,
          4050,
          4080,
          4110,
          4140,
          4170,
          4200,
          4230,
          4260,
          4290,
          4320,
          4350,
          4380,
          4410,
          4440,
          4470,
          4500,
          4530,
          4560,
          4590,
          4620,
          4650,
          4680,
          4710,
          4740,
          4770,
          4800,
          4830,
          4860,
          4890,
          4920,
          4950,
          4980,
          5010,
          5040,
          5070,
          5100,
          5130,
          5160,
          5190
         ],
         "xaxis": "x",
         "y": [
          26.1,
          26.1,
          26.7,
          29.5,
          31.7,
          33.7,
          35.6,
          37.3,
          39,
          40.5,
          42,
          43.4,
          44.7,
          46,
          47.3,
          48.5,
          49.6,
          50.7,
          51.8,
          52.8,
          53.9,
          54.8,
          55.8,
          56.7,
          57.6,
          58.5,
          59.3,
          60.2,
          61,
          61.7,
          62.5,
          63.3,
          64.1,
          64.8,
          65.5,
          66.2,
          66.9,
          67.5,
          68.2,
          68.8,
          69.5,
          70.1,
          70.7,
          71.3,
          71.9,
          72.5,
          73,
          73.6,
          74.2,
          74.7,
          75.3,
          75.8,
          76.3,
          76.8,
          77.4,
          77.9,
          78.3,
          78.8,
          79.3,
          79.7,
          80.2,
          80.7,
          81.1,
          81.6,
          82,
          82.5,
          82.9,
          83.3,
          83.8,
          84.2,
          84.6,
          85,
          85.4,
          85.8,
          86.2,
          86.6,
          87.1,
          87.4,
          87.8,
          88.2,
          88.6,
          88.9,
          89.2,
          89.6,
          89.9,
          90.3,
          90.7,
          91,
          91.4,
          91.7,
          92.1,
          92.4,
          92.7,
          93,
          93.3,
          93.7,
          93.9,
          94.3,
          94.6,
          94.9,
          95.1,
          95.4,
          95.7,
          96.1,
          96.3,
          96.6,
          97,
          97.2,
          97.5,
          97.7,
          98,
          98.3,
          98.5,
          98.8,
          99,
          99.3,
          99.5,
          99.8,
          100,
          100.3,
          100.6,
          100.7,
          101,
          101.3,
          101.5,
          101.7,
          101.9,
          102.2,
          102.4,
          102.6,
          102.9,
          103.1,
          103.3,
          103.5,
          103.7,
          103.9,
          104.1,
          104.3,
          104.5,
          104.7,
          104.9,
          105.1,
          105.3,
          105.5,
          105.7,
          105.9,
          106.1,
          106.3,
          106.4,
          106.6,
          106.8,
          106.9,
          107.2,
          107.3,
          107.5,
          107.7,
          107.9,
          108.1,
          108.3,
          108.4,
          108.6,
          108.6,
          106.2,
          103.8,
          101.6,
          99.7,
          97.9,
          96.3,
          94.7,
          93.4,
          92,
          90.7,
          89.5,
          88.4
         ],
         "yaxis": "y"
        },
        {
         "hovertemplate": "variable=TC4 L2 cap-bar<br>seconds=%{x}<br>Temperature (Degrees C)=%{y}<extra></extra>",
         "legendgroup": "TC4 L2 cap-bar",
         "line": {
          "color": "#ab63fa",
          "dash": "solid"
         },
         "marker": {
          "symbol": "circle"
         },
         "mode": "lines",
         "name": "TC4 L2 cap-bar",
         "showlegend": true,
         "type": "scattergl",
         "x": [
          0,
          30,
          60,
          90,
          120,
          150,
          180,
          210,
          240,
          270,
          300,
          330,
          360,
          390,
          420,
          450,
          480,
          510,
          540,
          570,
          600,
          630,
          660,
          690,
          720,
          750,
          780,
          810,
          840,
          870,
          900,
          930,
          960,
          990,
          1020,
          1050,
          1080,
          1110,
          1140,
          1170,
          1200,
          1230,
          1260,
          1290,
          1320,
          1350,
          1380,
          1410,
          1440,
          1470,
          1500,
          1530,
          1560,
          1590,
          1620,
          1650,
          1680,
          1710,
          1740,
          1770,
          1800,
          1830,
          1860,
          1890,
          1920,
          1950,
          1980,
          2010,
          2040,
          2070,
          2100,
          2130,
          2160,
          2190,
          2220,
          2250,
          2280,
          2310,
          2340,
          2370,
          2400,
          2430,
          2460,
          2490,
          2520,
          2550,
          2580,
          2610,
          2640,
          2670,
          2700,
          2730,
          2760,
          2790,
          2820,
          2850,
          2880,
          2910,
          2940,
          2970,
          3000,
          3030,
          3060,
          3090,
          3120,
          3150,
          3180,
          3210,
          3240,
          3270,
          3300,
          3330,
          3360,
          3390,
          3420,
          3450,
          3480,
          3510,
          3540,
          3570,
          3600,
          3630,
          3660,
          3690,
          3720,
          3750,
          3780,
          3810,
          3840,
          3870,
          3900,
          3930,
          3960,
          3990,
          4020,
          4050,
          4080,
          4110,
          4140,
          4170,
          4200,
          4230,
          4260,
          4290,
          4320,
          4350,
          4380,
          4410,
          4440,
          4470,
          4500,
          4530,
          4560,
          4590,
          4620,
          4650,
          4680,
          4710,
          4740,
          4770,
          4800,
          4830,
          4860,
          4890,
          4920,
          4950,
          4980,
          5010,
          5040,
          5070,
          5100,
          5130,
          5160,
          5190
         ],
         "xaxis": "x",
         "y": [
          26.2,
          26.3,
          26.6,
          29.3,
          31.6,
          33.7,
          35.8,
          37.7,
          39.5,
          41.1,
          42.7,
          44.2,
          45.6,
          46.9,
          48.2,
          49.4,
          50.6,
          51.7,
          52.8,
          53.8,
          54.8,
          55.8,
          56.8,
          57.7,
          58.6,
          59.5,
          60.3,
          61.2,
          62,
          62.7,
          63.6,
          64.3,
          65,
          65.7,
          66.4,
          67.1,
          67.8,
          68.4,
          69.1,
          69.7,
          70.3,
          70.9,
          71.5,
          72.1,
          72.6,
          73.2,
          73.7,
          74.3,
          74.8,
          75.3,
          75.8,
          76.3,
          76.8,
          77.3,
          77.8,
          78.2,
          78.7,
          79.1,
          79.6,
          80,
          80.5,
          80.9,
          81.4,
          81.8,
          82.2,
          82.7,
          83.1,
          83.5,
          83.9,
          84.3,
          84.7,
          85.1,
          85.5,
          85.9,
          86.3,
          86.6,
          87.1,
          87.4,
          87.9,
          88.2,
          88.6,
          89,
          89.4,
          89.7,
          90.1,
          90.4,
          90.8,
          91.1,
          91.5,
          91.9,
          92.2,
          92.5,
          93,
          93.3,
          93.6,
          94,
          94.3,
          94.6,
          94.9,
          95.2,
          95.5,
          95.8,
          96.2,
          96.6,
          96.9,
          97.1,
          97.5,
          97.8,
          98.1,
          98.4,
          98.7,
          99,
          99.3,
          99.6,
          99.8,
          100.1,
          100.4,
          100.7,
          101,
          101.3,
          101.5,
          101.8,
          102.1,
          102.3,
          102.7,
          102.9,
          103.1,
          103.5,
          103.8,
          104.1,
          104.4,
          104.6,
          104.8,
          105.1,
          105.4,
          105.7,
          106,
          106.3,
          106.6,
          106.8,
          107.1,
          107.4,
          107.6,
          107.9,
          108.1,
          108.4,
          108.6,
          108.9,
          109.1,
          109.3,
          109.6,
          109.8,
          110.1,
          110.3,
          110.5,
          110.8,
          111,
          111.3,
          111.5,
          111.8,
          111.9,
          112,
          109.7,
          106.9,
          104.6,
          102.6,
          100.7,
          99,
          97.5,
          96,
          94.6,
          93.3,
          92,
          90.9
         ],
         "yaxis": "y"
        },
        {
         "hovertemplate": "variable=TC5 MSA NTC R81<br>seconds=%{x}<br>Temperature (Degrees C)=%{y}<extra></extra>",
         "legendgroup": "TC5 MSA NTC R81",
         "line": {
          "color": "#FFA15A",
          "dash": "solid"
         },
         "marker": {
          "symbol": "circle"
         },
         "mode": "lines",
         "name": "TC5 MSA NTC R81",
         "showlegend": true,
         "type": "scattergl",
         "x": [
          0,
          30,
          60,
          90,
          120,
          150,
          180,
          210,
          240,
          270,
          300,
          330,
          360,
          390,
          420,
          450,
          480,
          510,
          540,
          570,
          600,
          630,
          660,
          690,
          720,
          750,
          780,
          810,
          840,
          870,
          900,
          930,
          960,
          990,
          1020,
          1050,
          1080,
          1110,
          1140,
          1170,
          1200,
          1230,
          1260,
          1290,
          1320,
          1350,
          1380,
          1410,
          1440,
          1470,
          1500,
          1530,
          1560,
          1590,
          1620,
          1650,
          1680,
          1710,
          1740,
          1770,
          1800,
          1830,
          1860,
          1890,
          1920,
          1950,
          1980,
          2010,
          2040,
          2070,
          2100,
          2130,
          2160,
          2190,
          2220,
          2250,
          2280,
          2310,
          2340,
          2370,
          2400,
          2430,
          2460,
          2490,
          2520,
          2550,
          2580,
          2610,
          2640,
          2670,
          2700,
          2730,
          2760,
          2790,
          2820,
          2850,
          2880,
          2910,
          2940,
          2970,
          3000,
          3030,
          3060,
          3090,
          3120,
          3150,
          3180,
          3210,
          3240,
          3270,
          3300,
          3330,
          3360,
          3390,
          3420,
          3450,
          3480,
          3510,
          3540,
          3570,
          3600,
          3630,
          3660,
          3690,
          3720,
          3750,
          3780,
          3810,
          3840,
          3870,
          3900,
          3930,
          3960,
          3990,
          4020,
          4050,
          4080,
          4110,
          4140,
          4170,
          4200,
          4230,
          4260,
          4290,
          4320,
          4350,
          4380,
          4410,
          4440,
          4470,
          4500,
          4530,
          4560,
          4590,
          4620,
          4650,
          4680,
          4710,
          4740,
          4770,
          4800,
          4830,
          4860,
          4890,
          4920,
          4950,
          4980,
          5010,
          5040,
          5070,
          5100,
          5130,
          5160,
          5190
         ],
         "xaxis": "x",
         "y": [
          25.8,
          25.8,
          25.8,
          26.2,
          27,
          28,
          29.2,
          30.3,
          31.5,
          32.6,
          33.8,
          34.9,
          36,
          37.1,
          38.1,
          39.2,
          40.2,
          41.2,
          42.2,
          43.2,
          44.1,
          45.1,
          46,
          46.9,
          47.7,
          48.6,
          49.4,
          50.2,
          51.1,
          51.8,
          52.5,
          53.3,
          54.1,
          54.8,
          55.5,
          56.2,
          56.9,
          57.6,
          58.2,
          58.9,
          59.6,
          60.2,
          60.8,
          61.4,
          62,
          62.6,
          63.2,
          63.8,
          64.4,
          64.9,
          65.5,
          66.1,
          66.6,
          67.1,
          67.7,
          68.2,
          68.7,
          69.2,
          69.7,
          70.1,
          70.6,
          71.1,
          71.6,
          72.1,
          72.5,
          73,
          73.5,
          73.9,
          74.3,
          74.8,
          75.2,
          75.6,
          76.1,
          76.5,
          76.9,
          77.3,
          77.8,
          78.1,
          78.5,
          78.9,
          79.3,
          79.7,
          80.1,
          80.5,
          80.8,
          81.2,
          81.6,
          81.9,
          82.3,
          82.6,
          82.9,
          83.3,
          83.7,
          84,
          84.3,
          84.6,
          85,
          85.3,
          85.6,
          85.9,
          86.2,
          86.5,
          86.9,
          87.2,
          87.5,
          87.8,
          88.1,
          88.4,
          88.6,
          88.9,
          89.2,
          89.5,
          89.8,
          90,
          90.3,
          90.6,
          90.8,
          91.1,
          91.4,
          91.6,
          91.9,
          92.1,
          92.3,
          92.6,
          92.9,
          93.1,
          93.3,
          93.6,
          93.8,
          94,
          94.3,
          94.5,
          94.7,
          94.9,
          95.1,
          95.4,
          95.6,
          95.8,
          96,
          96.3,
          96.4,
          96.7,
          96.8,
          97,
          97.2,
          97.4,
          97.6,
          97.8,
          98,
          98.2,
          98.4,
          98.5,
          98.7,
          98.9,
          99.1,
          99.3,
          99.5,
          99.6,
          99.8,
          100,
          100.2,
          100.2,
          100.2,
          99.6,
          98.8,
          97.8,
          96.8,
          95.7,
          94.6,
          93.6,
          92.6,
          91.6,
          90.6,
          89.6
         ],
         "yaxis": "y"
        },
        {
         "hovertemplate": "variable=TC6 Chamber Ambient<br>seconds=%{x}<br>Temperature (Degrees C)=%{y}<extra></extra>",
         "legendgroup": "TC6 Chamber Ambient",
         "line": {
          "color": "#19d3f3",
          "dash": "solid"
         },
         "marker": {
          "symbol": "circle"
         },
         "mode": "lines",
         "name": "TC6 Chamber Ambient",
         "showlegend": true,
         "type": "scattergl",
         "x": [
          0,
          30,
          60,
          90,
          120,
          150,
          180,
          210,
          240,
          270,
          300,
          330,
          360,
          390,
          420,
          450,
          480,
          510,
          540,
          570,
          600,
          630,
          660,
          690,
          720,
          750,
          780,
          810,
          840,
          870,
          900,
          930,
          960,
          990,
          1020,
          1050,
          1080,
          1110,
          1140,
          1170,
          1200,
          1230,
          1260,
          1290,
          1320,
          1350,
          1380,
          1410,
          1440,
          1470,
          1500,
          1530,
          1560,
          1590,
          1620,
          1650,
          1680,
          1710,
          1740,
          1770,
          1800,
          1830,
          1860,
          1890,
          1920,
          1950,
          1980,
          2010,
          2040,
          2070,
          2100,
          2130,
          2160,
          2190,
          2220,
          2250,
          2280,
          2310,
          2340,
          2370,
          2400,
          2430,
          2460,
          2490,
          2520,
          2550,
          2580,
          2610,
          2640,
          2670,
          2700,
          2730,
          2760,
          2790,
          2820,
          2850,
          2880,
          2910,
          2940,
          2970,
          3000,
          3030,
          3060,
          3090,
          3120,
          3150,
          3180,
          3210,
          3240,
          3270,
          3300,
          3330,
          3360,
          3390,
          3420,
          3450,
          3480,
          3510,
          3540,
          3570,
          3600,
          3630,
          3660,
          3690,
          3720,
          3750,
          3780,
          3810,
          3840,
          3870,
          3900,
          3930,
          3960,
          3990,
          4020,
          4050,
          4080,
          4110,
          4140,
          4170,
          4200,
          4230,
          4260,
          4290,
          4320,
          4350,
          4380,
          4410,
          4440,
          4470,
          4500,
          4530,
          4560,
          4590,
          4620,
          4650,
          4680,
          4710,
          4740,
          4770,
          4800,
          4830,
          4860,
          4890,
          4920,
          4950,
          4980,
          5010,
          5040,
          5070,
          5100,
          5130,
          5160,
          5190
         ],
         "xaxis": "x",
         "y": [
          26.3,
          26.3,
          26.2,
          26.3,
          26.3,
          26.2,
          26.1,
          26.1,
          26.1,
          26.1,
          26.1,
          26,
          26,
          26,
          26,
          26.1,
          26.1,
          26.1,
          26,
          26.1,
          26.1,
          26.1,
          26.1,
          26.2,
          26.2,
          26.3,
          26.3,
          26.3,
          26.3,
          26.3,
          26.3,
          26.3,
          26.4,
          26.3,
          26.3,
          26.4,
          26.4,
          26.4,
          26.4,
          26.3,
          26.4,
          26.4,
          26.4,
          26.4,
          26.4,
          26.4,
          26.5,
          26.5,
          26.4,
          26.4,
          26.5,
          26.5,
          26.5,
          26.5,
          26.5,
          26.5,
          26.5,
          26.5,
          26.5,
          26.5,
          26.5,
          26.6,
          26.6,
          26.5,
          26.5,
          26.6,
          26.6,
          26.6,
          26.6,
          26.5,
          26.6,
          26.6,
          26.6,
          26.6,
          26.5,
          26.6,
          26.6,
          26.6,
          26.6,
          26.6,
          26.6,
          26.6,
          26.6,
          26.6,
          26.6,
          26.6,
          26.6,
          26.7,
          26.6,
          26.6,
          26.6,
          26.6,
          26.7,
          26.6,
          26.6,
          26.6,
          26.6,
          26.7,
          26.7,
          26.6,
          26.6,
          26.7,
          26.7,
          26.7,
          26.7,
          26.6,
          26.7,
          26.7,
          26.7,
          26.7,
          26.7,
          26.7,
          26.8,
          26.8,
          26.8,
          26.7,
          26.7,
          26.8,
          26.8,
          26.7,
          26.7,
          26.8,
          26.8,
          26.8,
          26.8,
          26.7,
          26.8,
          26.8,
          26.8,
          26.8,
          26.7,
          26.8,
          26.8,
          26.8,
          26.8,
          26.7,
          26.8,
          26.9,
          26.9,
          26.9,
          26.8,
          26.8,
          26.9,
          26.9,
          26.9,
          26.8,
          26.8,
          26.9,
          26.9,
          26.9,
          26.8,
          26.9,
          26.9,
          26.9,
          26.9,
          26.9,
          26.9,
          27,
          27,
          26.9,
          26.9,
          26.9,
          27,
          27,
          26.9,
          26.9,
          26.9,
          26.9,
          27,
          26.9,
          26.9,
          26.9,
          26.9,
          26.9
         ],
         "yaxis": "y"
        }
       ],
       "layout": {
        "legend": {
         "title": {
          "text": "variable"
         },
         "tracegroupgap": 0
        },
        "template": {
         "data": {
          "bar": [
           {
            "error_x": {
             "color": "#2a3f5f"
            },
            "error_y": {
             "color": "#2a3f5f"
            },
            "marker": {
             "line": {
              "color": "#E5ECF6",
              "width": 0.5
             },
             "pattern": {
              "fillmode": "overlay",
              "size": 10,
              "solidity": 0.2
             }
            },
            "type": "bar"
           }
          ],
          "barpolar": [
           {
            "marker": {
             "line": {
              "color": "#E5ECF6",
              "width": 0.5
             },
             "pattern": {
              "fillmode": "overlay",
              "size": 10,
              "solidity": 0.2
             }
            },
            "type": "barpolar"
           }
          ],
          "carpet": [
           {
            "aaxis": {
             "endlinecolor": "#2a3f5f",
             "gridcolor": "white",
             "linecolor": "white",
             "minorgridcolor": "white",
             "startlinecolor": "#2a3f5f"
            },
            "baxis": {
             "endlinecolor": "#2a3f5f",
             "gridcolor": "white",
             "linecolor": "white",
             "minorgridcolor": "white",
             "startlinecolor": "#2a3f5f"
            },
            "type": "carpet"
           }
          ],
          "choropleth": [
           {
            "colorbar": {
             "outlinewidth": 0,
             "ticks": ""
            },
            "type": "choropleth"
           }
          ],
          "contour": [
           {
            "colorbar": {
             "outlinewidth": 0,
             "ticks": ""
            },
            "colorscale": [
             [
              0,
              "#0d0887"
             ],
             [
              0.1111111111111111,
              "#46039f"
             ],
             [
              0.2222222222222222,
              "#7201a8"
             ],
             [
              0.3333333333333333,
              "#9c179e"
             ],
             [
              0.4444444444444444,
              "#bd3786"
             ],
             [
              0.5555555555555556,
              "#d8576b"
             ],
             [
              0.6666666666666666,
              "#ed7953"
             ],
             [
              0.7777777777777778,
              "#fb9f3a"
             ],
             [
              0.8888888888888888,
              "#fdca26"
             ],
             [
              1,
              "#f0f921"
             ]
            ],
            "type": "contour"
           }
          ],
          "contourcarpet": [
           {
            "colorbar": {
             "outlinewidth": 0,
             "ticks": ""
            },
            "type": "contourcarpet"
           }
          ],
          "heatmap": [
           {
            "colorbar": {
             "outlinewidth": 0,
             "ticks": ""
            },
            "colorscale": [
             [
              0,
              "#0d0887"
             ],
             [
              0.1111111111111111,
              "#46039f"
             ],
             [
              0.2222222222222222,
              "#7201a8"
             ],
             [
              0.3333333333333333,
              "#9c179e"
             ],
             [
              0.4444444444444444,
              "#bd3786"
             ],
             [
              0.5555555555555556,
              "#d8576b"
             ],
             [
              0.6666666666666666,
              "#ed7953"
             ],
             [
              0.7777777777777778,
              "#fb9f3a"
             ],
             [
              0.8888888888888888,
              "#fdca26"
             ],
             [
              1,
              "#f0f921"
             ]
            ],
            "type": "heatmap"
           }
          ],
          "heatmapgl": [
           {
            "colorbar": {
             "outlinewidth": 0,
             "ticks": ""
            },
            "colorscale": [
             [
              0,
              "#0d0887"
             ],
             [
              0.1111111111111111,
              "#46039f"
             ],
             [
              0.2222222222222222,
              "#7201a8"
             ],
             [
              0.3333333333333333,
              "#9c179e"
             ],
             [
              0.4444444444444444,
              "#bd3786"
             ],
             [
              0.5555555555555556,
              "#d8576b"
             ],
             [
              0.6666666666666666,
              "#ed7953"
             ],
             [
              0.7777777777777778,
              "#fb9f3a"
             ],
             [
              0.8888888888888888,
              "#fdca26"
             ],
             [
              1,
              "#f0f921"
             ]
            ],
            "type": "heatmapgl"
           }
          ],
          "histogram": [
           {
            "marker": {
             "pattern": {
              "fillmode": "overlay",
              "size": 10,
              "solidity": 0.2
             }
            },
            "type": "histogram"
           }
          ],
          "histogram2d": [
           {
            "colorbar": {
             "outlinewidth": 0,
             "ticks": ""
            },
            "colorscale": [
             [
              0,
              "#0d0887"
             ],
             [
              0.1111111111111111,
              "#46039f"
             ],
             [
              0.2222222222222222,
              "#7201a8"
             ],
             [
              0.3333333333333333,
              "#9c179e"
             ],
             [
              0.4444444444444444,
              "#bd3786"
             ],
             [
              0.5555555555555556,
              "#d8576b"
             ],
             [
              0.6666666666666666,
              "#ed7953"
             ],
             [
              0.7777777777777778,
              "#fb9f3a"
             ],
             [
              0.8888888888888888,
              "#fdca26"
             ],
             [
              1,
              "#f0f921"
             ]
            ],
            "type": "histogram2d"
           }
          ],
          "histogram2dcontour": [
           {
            "colorbar": {
             "outlinewidth": 0,
             "ticks": ""
            },
            "colorscale": [
             [
              0,
              "#0d0887"
             ],
             [
              0.1111111111111111,
              "#46039f"
             ],
             [
              0.2222222222222222,
              "#7201a8"
             ],
             [
              0.3333333333333333,
              "#9c179e"
             ],
             [
              0.4444444444444444,
              "#bd3786"
             ],
             [
              0.5555555555555556,
              "#d8576b"
             ],
             [
              0.6666666666666666,
              "#ed7953"
             ],
             [
              0.7777777777777778,
              "#fb9f3a"
             ],
             [
              0.8888888888888888,
              "#fdca26"
             ],
             [
              1,
              "#f0f921"
             ]
            ],
            "type": "histogram2dcontour"
           }
          ],
          "mesh3d": [
           {
            "colorbar": {
             "outlinewidth": 0,
             "ticks": ""
            },
            "type": "mesh3d"
           }
          ],
          "parcoords": [
           {
            "line": {
             "colorbar": {
              "outlinewidth": 0,
              "ticks": ""
             }
            },
            "type": "parcoords"
           }
          ],
          "pie": [
           {
            "automargin": true,
            "type": "pie"
           }
          ],
          "scatter": [
           {
            "fillpattern": {
             "fillmode": "overlay",
             "size": 10,
             "solidity": 0.2
            },
            "type": "scatter"
           }
          ],
          "scatter3d": [
           {
            "line": {
             "colorbar": {
              "outlinewidth": 0,
              "ticks": ""
             }
            },
            "marker": {
             "colorbar": {
              "outlinewidth": 0,
              "ticks": ""
             }
            },
            "type": "scatter3d"
           }
          ],
          "scattercarpet": [
           {
            "marker": {
             "colorbar": {
              "outlinewidth": 0,
              "ticks": ""
             }
            },
            "type": "scattercarpet"
           }
          ],
          "scattergeo": [
           {
            "marker": {
             "colorbar": {
              "outlinewidth": 0,
              "ticks": ""
             }
            },
            "type": "scattergeo"
           }
          ],
          "scattergl": [
           {
            "marker": {
             "colorbar": {
              "outlinewidth": 0,
              "ticks": ""
             }
            },
            "type": "scattergl"
           }
          ],
          "scattermapbox": [
           {
            "marker": {
             "colorbar": {
              "outlinewidth": 0,
              "ticks": ""
             }
            },
            "type": "scattermapbox"
           }
          ],
          "scatterpolar": [
           {
            "marker": {
             "colorbar": {
              "outlinewidth": 0,
              "ticks": ""
             }
            },
            "type": "scatterpolar"
           }
          ],
          "scatterpolargl": [
           {
            "marker": {
             "colorbar": {
              "outlinewidth": 0,
              "ticks": ""
             }
            },
            "type": "scatterpolargl"
           }
          ],
          "scatterternary": [
           {
            "marker": {
             "colorbar": {
              "outlinewidth": 0,
              "ticks": ""
             }
            },
            "type": "scatterternary"
           }
          ],
          "surface": [
           {
            "colorbar": {
             "outlinewidth": 0,
             "ticks": ""
            },
            "colorscale": [
             [
              0,
              "#0d0887"
             ],
             [
              0.1111111111111111,
              "#46039f"
             ],
             [
              0.2222222222222222,
              "#7201a8"
             ],
             [
              0.3333333333333333,
              "#9c179e"
             ],
             [
              0.4444444444444444,
              "#bd3786"
             ],
             [
              0.5555555555555556,
              "#d8576b"
             ],
             [
              0.6666666666666666,
              "#ed7953"
             ],
             [
              0.7777777777777778,
              "#fb9f3a"
             ],
             [
              0.8888888888888888,
              "#fdca26"
             ],
             [
              1,
              "#f0f921"
             ]
            ],
            "type": "surface"
           }
          ],
          "table": [
           {
            "cells": {
             "fill": {
              "color": "#EBF0F8"
             },
             "line": {
              "color": "white"
             }
            },
            "header": {
             "fill": {
              "color": "#C8D4E3"
             },
             "line": {
              "color": "white"
             }
            },
            "type": "table"
           }
          ]
         },
         "layout": {
          "annotationdefaults": {
           "arrowcolor": "#2a3f5f",
           "arrowhead": 0,
           "arrowwidth": 1
          },
          "autotypenumbers": "strict",
          "coloraxis": {
           "colorbar": {
            "outlinewidth": 0,
            "ticks": ""
           }
          },
          "colorscale": {
           "diverging": [
            [
             0,
             "#8e0152"
            ],
            [
             0.1,
             "#c51b7d"
            ],
            [
             0.2,
             "#de77ae"
            ],
            [
             0.3,
             "#f1b6da"
            ],
            [
             0.4,
             "#fde0ef"
            ],
            [
             0.5,
             "#f7f7f7"
            ],
            [
             0.6,
             "#e6f5d0"
            ],
            [
             0.7,
             "#b8e186"
            ],
            [
             0.8,
             "#7fbc41"
            ],
            [
             0.9,
             "#4d9221"
            ],
            [
             1,
             "#276419"
            ]
           ],
           "sequential": [
            [
             0,
             "#0d0887"
            ],
            [
             0.1111111111111111,
             "#46039f"
            ],
            [
             0.2222222222222222,
             "#7201a8"
            ],
            [
             0.3333333333333333,
             "#9c179e"
            ],
            [
             0.4444444444444444,
             "#bd3786"
            ],
            [
             0.5555555555555556,
             "#d8576b"
            ],
            [
             0.6666666666666666,
             "#ed7953"
            ],
            [
             0.7777777777777778,
             "#fb9f3a"
            ],
            [
             0.8888888888888888,
             "#fdca26"
            ],
            [
             1,
             "#f0f921"
            ]
           ],
           "sequentialminus": [
            [
             0,
             "#0d0887"
            ],
            [
             0.1111111111111111,
             "#46039f"
            ],
            [
             0.2222222222222222,
             "#7201a8"
            ],
            [
             0.3333333333333333,
             "#9c179e"
            ],
            [
             0.4444444444444444,
             "#bd3786"
            ],
            [
             0.5555555555555556,
             "#d8576b"
            ],
            [
             0.6666666666666666,
             "#ed7953"
            ],
            [
             0.7777777777777778,
             "#fb9f3a"
            ],
            [
             0.8888888888888888,
             "#fdca26"
            ],
            [
             1,
             "#f0f921"
            ]
           ]
          },
          "colorway": [
           "#636efa",
           "#EF553B",
           "#00cc96",
           "#ab63fa",
           "#FFA15A",
           "#19d3f3",
           "#FF6692",
           "#B6E880",
           "#FF97FF",
           "#FECB52"
          ],
          "font": {
           "color": "#2a3f5f"
          },
          "geo": {
           "bgcolor": "white",
           "lakecolor": "white",
           "landcolor": "#E5ECF6",
           "showlakes": true,
           "showland": true,
           "subunitcolor": "white"
          },
          "hoverlabel": {
           "align": "left"
          },
          "hovermode": "closest",
          "mapbox": {
           "style": "light"
          },
          "paper_bgcolor": "white",
          "plot_bgcolor": "#E5ECF6",
          "polar": {
           "angularaxis": {
            "gridcolor": "white",
            "linecolor": "white",
            "ticks": ""
           },
           "bgcolor": "#E5ECF6",
           "radialaxis": {
            "gridcolor": "white",
            "linecolor": "white",
            "ticks": ""
           }
          },
          "scene": {
           "xaxis": {
            "backgroundcolor": "#E5ECF6",
            "gridcolor": "white",
            "gridwidth": 2,
            "linecolor": "white",
            "showbackground": true,
            "ticks": "",
            "zerolinecolor": "white"
           },
           "yaxis": {
            "backgroundcolor": "#E5ECF6",
            "gridcolor": "white",
            "gridwidth": 2,
            "linecolor": "white",
            "showbackground": true,
            "ticks": "",
            "zerolinecolor": "white"
           },
           "zaxis": {
            "backgroundcolor": "#E5ECF6",
            "gridcolor": "white",
            "gridwidth": 2,
            "linecolor": "white",
            "showbackground": true,
            "ticks": "",
            "zerolinecolor": "white"
           }
          },
          "shapedefaults": {
           "line": {
            "color": "#2a3f5f"
           }
          },
          "ternary": {
           "aaxis": {
            "gridcolor": "white",
            "linecolor": "white",
            "ticks": ""
           },
           "baxis": {
            "gridcolor": "white",
            "linecolor": "white",
            "ticks": ""
           },
           "bgcolor": "#E5ECF6",
           "caxis": {
            "gridcolor": "white",
            "linecolor": "white",
            "ticks": ""
           }
          },
          "title": {
           "x": 0.05
          },
          "xaxis": {
           "automargin": true,
           "gridcolor": "white",
           "linecolor": "white",
           "ticks": "",
           "title": {
            "standoff": 15
           },
           "zerolinecolor": "white",
           "zerolinewidth": 2
          },
          "yaxis": {
           "automargin": true,
           "gridcolor": "white",
           "linecolor": "white",
           "ticks": "",
           "title": {
            "standoff": 15
           },
           "zerolinecolor": "white",
           "zerolinewidth": 2
          }
         }
        },
        "title": {
         "text": "NO_TIM Data"
        },
        "xaxis": {
         "anchor": "y",
         "domain": [
          0,
          1
         ],
         "title": {
          "text": "seconds"
         }
        },
        "yaxis": {
         "anchor": "x",
         "domain": [
          0,
          1
         ],
         "title": {
          "text": "Temperature (Degrees C)"
         }
        }
       }
      }
     },
     "metadata": {},
     "output_type": "display_data"
    }
   ],
   "source": [
    "\n",
    "columns_to_plot = ['TC1 L1 relay-bar', 'TC2 L2 relay-bar', 'TC3 L1 cap-bar', 'TC4 L2 cap-bar', 'TC5 MSA NTC R81', 'TC6 Chamber Ambient']\n",
    "\n",
    "fig_no_tim = px.line(no_tim_df_timeFromStart, x='seconds', y=columns_to_plot, title='NO_TIM Data', \n",
    "              labels={'value': 'Temperature (Degrees C)'})\n",
    "\n",
    "fig_no_tim.show()"
   ]
  },
  {
   "cell_type": "code",
   "execution_count": 72,
   "metadata": {},
   "outputs": [],
   "source": [
    "# function that exports a fig to an html file\n",
    "def export_fig_to_html(fig, file_path):\n",
    "    out = os.path.join(output_data_dir, file_path)\n",
    "\n",
    "    fig.write_html(out)\n",
    "\n",
    "export_fig_to_html(fig_tim, 'tim_data.html')\n",
    "export_fig_to_html(fig_no_tim, 'no_tim_data.html')"
   ]
  },
  {
   "cell_type": "code",
   "execution_count": 67,
   "metadata": {},
   "outputs": [
    {
     "name": "stdout",
     "output_type": "stream",
     "text": [
      "['Date', 'Time', 'TC1 L1 relay-bar', 'TC2 L2 relay-bar', 'TC3 L1 cap-bar', 'TC4 L2 cap-bar', 'TC5 MSA NTC R81', 'TC6 Chamber Ambient', 'time_delta', 'seconds']\n"
     ]
    }
   ],
   "source": [
    "print(no_tim_df_timeFromStart.columns.tolist())"
   ]
  },
  {
   "cell_type": "code",
   "execution_count": null,
   "metadata": {},
   "outputs": [],
   "source": [
    "\n",
    "\n",
    "def filter_dataframe_on_timepoints(source_df, reference_df, time_column):\n",
    "    \"\"\"\n",
    "    Filters the source dataframe to include only the rows where the time values match those in the reference dataframe.\n",
    "\n",
    "    Args:\n",
    "        source_df (pd.DataFrame): The dataframe to be filtered.\n",
    "        reference_df (pd.DataFrame): The dataframe providing the reference time points.\n",
    "        time_column (str): The name of the column in both dataframes that contains the time values.\n",
    "\n",
    "    Returns:\n",
    "        pd.DataFrame: A filtered version of source_df.\n",
    "    \"\"\"\n",
    "    # Extract time points from the reference dataframe\n",
    "    time_points = reference_df[time_column].tolist()\n",
    "\n",
    "    # Filter the source dataframe\n",
    "    filtered_df = source_df[source_df[time_column].isin(time_points)]\n",
    "\n",
    "    return filtered_df\n",
    "\n",
    "# Usage\n",
    "# filtered_df_30s = filter_dataframe_on_timepoints(df_30s, df_2m, 'seconds')\n"
   ]
  },
  {
   "cell_type": "markdown",
   "metadata": {},
   "source": [
    "# Process Data\n",
    "## now we have a dataframe for the notebook work\n",
    "\n",
    "1. split the data into two tests 25C and 50C\n",
    "2. for each test, we need max temp of each TC\n",
    "3. downsample the data into 15 minute intervals\n",
    "4. combine downsampled data and TC max\n",
    "5. Transpose the result\n",
    "6. re-arrange the rows to match the order in the TDP"
   ]
  },
  {
   "cell_type": "markdown",
   "metadata": {},
   "source": [
    "# Split data into two test periods\n",
    "If data represents only one single test, set 'test_1' to 'df_original'"
   ]
  },
  {
   "cell_type": "code",
   "execution_count": null,
   "metadata": {},
   "outputs": [],
   "source": [
    "\n",
    "\n",
    "def split_dataframe_by_time_old(df, d1_start_time, d1_end_time, d2_start_time, d2_end_time, use_last_entry=False):\n",
    "    # Convert 'Time' to timedelta for filtering\n",
    "    df['Timedelta'] = pd.to_timedelta(df['Time'])\n",
    "\n",
    "    # Convert input times to Timedelta\n",
    "    d1_start_time = pd.to_timedelta(d1_start_time)\n",
    "    d1_end_time = pd.to_timedelta(d1_end_time)\n",
    "    d2_start_time = pd.to_timedelta(d2_start_time)\n",
    "    d2_end_time = pd.to_timedelta(d2_end_time)\n",
    "\n",
    "    # Filter rows based on time range\n",
    "    df1 = df[(df['Timedelta'] >= d1_start_time) & (df['Timedelta'] <= d1_end_time)]\n",
    "    if use_last_entry:\n",
    "        df2 = df[(df['Timedelta'] >= d2_start_time)]\n",
    "    else:\n",
    "        df2 = df[(df['Timedelta'] >= d2_start_time) & (df['Timedelta'] <= d2_end_time)]\n",
    "    \n",
    "    return df1, df2\n"
   ]
  },
  {
   "cell_type": "code",
   "execution_count": null,
   "metadata": {},
   "outputs": [
    {
     "name": "stdout",
     "output_type": "stream",
     "text": [
      "test_1.shape = (35, 39), test_2.shape = (0, 39)\n"
     ]
    }
   ],
   "source": [
    "\n",
    "def split_dataframe_by_time(df, first_period_start, first_period_end, second_period_start, second_period_end=None, use_last_entry=False):\n",
    "    \"\"\"\n",
    "    Splits a DataFrame into two based on specified time ranges. The end time for the second period is optional if \n",
    "    use_last_entry is True.\n",
    "    \n",
    "    Args:\n",
    "        df (DataFrame): The DataFrame to split.\n",
    "        first_period_start (str): Start time for the first period.\n",
    "        first_period_end (str): End time for the first period.\n",
    "        second_period_start (str): Start time for the second period.\n",
    "        second_period_end (str, optional): End time for the second period. Default is None.\n",
    "        use_last_entry (bool): If True, the second DataFrame includes all entries from the start time to the last entry.\n",
    "\n",
    "    Returns:\n",
    "        tuple: Two DataFrames split based on the specified time periods.\n",
    "    \"\"\"\n",
    "    # Ensure 'Time' is in Timedelta format\n",
    "    if not isinstance(df['Time'].iloc[0], pd.Timedelta):\n",
    "        df['Timedelta'] = pd.to_timedelta(df['Time'])\n",
    "\n",
    "    # Convert input times to Timedelta\n",
    "    first_start_td = pd.to_timedelta(first_period_start)\n",
    "    first_end_td = pd.to_timedelta(first_period_end)\n",
    "    second_start_td = pd.to_timedelta(second_period_start)\n",
    "    \n",
    "    # Split the DataFrame for the first period\n",
    "    df1 = df[(df['Timedelta'] >= first_start_td) & (df['Timedelta'] <= first_end_td)]\n",
    "\n",
    "    # Split the DataFrame for the second period\n",
    "    if use_last_entry:\n",
    "        df2 = df[df['Timedelta'] >= second_start_td]\n",
    "    else:\n",
    "        if second_period_end is not None:\n",
    "            second_end_td = pd.to_timedelta(second_period_end)\n",
    "            df2 = df[(df['Timedelta'] >= second_start_td) & (df['Timedelta'] <= second_end_td)]\n",
    "        else:\n",
    "            raise ValueError(\"second_period_end must be specified if use_last_entry is False.\")\n",
    "\n",
    "    return df1, df2\n",
    "\n",
    "\n",
    "\n",
    "\n",
    "# input start and end times of each test data set\n",
    "test_1, test_2 = split_dataframe_by_time(df_original, \n",
    "                    first_period_start='15:38:00',\n",
    "                    first_period_end='16:46:20',\n",
    "                    second_period_start='16:46:20',\n",
    "                    # if d2_end_time < d2_start_time, then d2_end_time = last entry in df\n",
    "                    second_period_end='16:46:00',\n",
    "                    use_last_entry=False \n",
    "                    )\n",
    "DEBUG = True\n",
    "if DEBUG: print(f'test_1.shape = {test_1.shape}, test_2.shape = {test_2.shape}')\n",
    "# if DEBUG: print(test_2.head(5))\n",
    "# test_1.to_csv(os.path.join(output_data_dir, 'test_1.csv'))"
   ]
  },
  {
   "cell_type": "code",
   "execution_count": null,
   "metadata": {},
   "outputs": [
    {
     "data": {
      "text/html": [
       "<div>\n",
       "<style scoped>\n",
       "    .dataframe tbody tr th:only-of-type {\n",
       "        vertical-align: middle;\n",
       "    }\n",
       "\n",
       "    .dataframe tbody tr th {\n",
       "        vertical-align: top;\n",
       "    }\n",
       "\n",
       "    .dataframe thead th {\n",
       "        text-align: right;\n",
       "    }\n",
       "</style>\n",
       "<table border=\"1\" class=\"dataframe\">\n",
       "  <thead>\n",
       "    <tr style=\"text-align: right;\">\n",
       "      <th></th>\n",
       "      <th>Date</th>\n",
       "      <th>Time</th>\n",
       "      <th>TC1 Gasket</th>\n",
       "      <th>TC2 Supply Lug</th>\n",
       "      <th>TC3 Backup Lug</th>\n",
       "      <th>TC4 Subpanel Lug</th>\n",
       "      <th>TC5 MSA Busbar</th>\n",
       "      <th>TC6 Glass Door</th>\n",
       "      <th>TC7 Upper Enclosure Ambient</th>\n",
       "      <th>TC8 Lower Enclosure Ambient</th>\n",
       "      <th>...</th>\n",
       "      <th>TC28 MCB Ambient</th>\n",
       "      <th>TC29 Capacitor (C44)</th>\n",
       "      <th>TC30 Winding Internal Side Trans</th>\n",
       "      <th>TC32 Busbar L1 Neut to Relay</th>\n",
       "      <th>TC34 Cap on Holdup PCB</th>\n",
       "      <th>TC36 TACO PCB</th>\n",
       "      <th>TC31 Windings of Transformer</th>\n",
       "      <th>TC35 Holdup PCB under Power</th>\n",
       "      <th>TC33 Busbar L2 Neut to Relay</th>\n",
       "      <th>Timedelta</th>\n",
       "    </tr>\n",
       "  </thead>\n",
       "  <tbody>\n",
       "    <tr>\n",
       "      <th>1</th>\n",
       "      <td>2023/12/13</td>\n",
       "      <td>15:38:00</td>\n",
       "      <td>23.6</td>\n",
       "      <td>24.1</td>\n",
       "      <td>23.0</td>\n",
       "      <td>23.9</td>\n",
       "      <td>29.0</td>\n",
       "      <td>23.6</td>\n",
       "      <td>26.4</td>\n",
       "      <td>22.9</td>\n",
       "      <td>...</td>\n",
       "      <td>23.5</td>\n",
       "      <td>24.8</td>\n",
       "      <td>25.6</td>\n",
       "      <td>24.5</td>\n",
       "      <td>27.1</td>\n",
       "      <td>34.8</td>\n",
       "      <td>25.9</td>\n",
       "      <td>26.1</td>\n",
       "      <td>24.3</td>\n",
       "      <td>0 days 15:38:00</td>\n",
       "    </tr>\n",
       "    <tr>\n",
       "      <th>2</th>\n",
       "      <td>2023/12/13</td>\n",
       "      <td>15:40:00</td>\n",
       "      <td>23.6</td>\n",
       "      <td>26.9</td>\n",
       "      <td>23.5</td>\n",
       "      <td>25.7</td>\n",
       "      <td>38.2</td>\n",
       "      <td>23.6</td>\n",
       "      <td>26.5</td>\n",
       "      <td>23.0</td>\n",
       "      <td>...</td>\n",
       "      <td>24.9</td>\n",
       "      <td>25.6</td>\n",
       "      <td>25.7</td>\n",
       "      <td>26.7</td>\n",
       "      <td>27.1</td>\n",
       "      <td>31.6</td>\n",
       "      <td>25.9</td>\n",
       "      <td>26.3</td>\n",
       "      <td>26.8</td>\n",
       "      <td>0 days 15:40:00</td>\n",
       "    </tr>\n",
       "    <tr>\n",
       "      <th>3</th>\n",
       "      <td>2023/12/13</td>\n",
       "      <td>15:42:00</td>\n",
       "      <td>23.6</td>\n",
       "      <td>29.8</td>\n",
       "      <td>24.3</td>\n",
       "      <td>27.4</td>\n",
       "      <td>45.9</td>\n",
       "      <td>23.6</td>\n",
       "      <td>26.5</td>\n",
       "      <td>23.2</td>\n",
       "      <td>...</td>\n",
       "      <td>26.6</td>\n",
       "      <td>27.0</td>\n",
       "      <td>25.7</td>\n",
       "      <td>29.7</td>\n",
       "      <td>27.0</td>\n",
       "      <td>29.7</td>\n",
       "      <td>25.9</td>\n",
       "      <td>26.4</td>\n",
       "      <td>30.1</td>\n",
       "      <td>0 days 15:42:00</td>\n",
       "    </tr>\n",
       "    <tr>\n",
       "      <th>4</th>\n",
       "      <td>2023/12/13</td>\n",
       "      <td>15:44:00</td>\n",
       "      <td>23.7</td>\n",
       "      <td>32.6</td>\n",
       "      <td>25.3</td>\n",
       "      <td>29.0</td>\n",
       "      <td>52.4</td>\n",
       "      <td>23.6</td>\n",
       "      <td>26.7</td>\n",
       "      <td>23.5</td>\n",
       "      <td>...</td>\n",
       "      <td>28.0</td>\n",
       "      <td>28.9</td>\n",
       "      <td>25.7</td>\n",
       "      <td>32.8</td>\n",
       "      <td>27.0</td>\n",
       "      <td>29.3</td>\n",
       "      <td>26.0</td>\n",
       "      <td>26.5</td>\n",
       "      <td>33.6</td>\n",
       "      <td>0 days 15:44:00</td>\n",
       "    </tr>\n",
       "    <tr>\n",
       "      <th>5</th>\n",
       "      <td>2023/12/13</td>\n",
       "      <td>15:46:00</td>\n",
       "      <td>23.8</td>\n",
       "      <td>35.3</td>\n",
       "      <td>26.4</td>\n",
       "      <td>30.5</td>\n",
       "      <td>57.9</td>\n",
       "      <td>23.6</td>\n",
       "      <td>26.9</td>\n",
       "      <td>23.8</td>\n",
       "      <td>...</td>\n",
       "      <td>29.2</td>\n",
       "      <td>31.2</td>\n",
       "      <td>25.8</td>\n",
       "      <td>35.8</td>\n",
       "      <td>27.3</td>\n",
       "      <td>29.5</td>\n",
       "      <td>26.2</td>\n",
       "      <td>26.7</td>\n",
       "      <td>36.9</td>\n",
       "      <td>0 days 15:46:00</td>\n",
       "    </tr>\n",
       "  </tbody>\n",
       "</table>\n",
       "<p>5 rows × 39 columns</p>\n",
       "</div>"
      ],
      "text/plain": [
       "         Date      Time  TC1 Gasket  TC2 Supply Lug  TC3 Backup Lug  \\\n",
       "1  2023/12/13  15:38:00        23.6            24.1            23.0   \n",
       "2  2023/12/13  15:40:00        23.6            26.9            23.5   \n",
       "3  2023/12/13  15:42:00        23.6            29.8            24.3   \n",
       "4  2023/12/13  15:44:00        23.7            32.6            25.3   \n",
       "5  2023/12/13  15:46:00        23.8            35.3            26.4   \n",
       "\n",
       "   TC4 Subpanel Lug  TC5 MSA Busbar  TC6 Glass Door  \\\n",
       "1              23.9            29.0            23.6   \n",
       "2              25.7            38.2            23.6   \n",
       "3              27.4            45.9            23.6   \n",
       "4              29.0            52.4            23.6   \n",
       "5              30.5            57.9            23.6   \n",
       "\n",
       "   TC7 Upper Enclosure Ambient  TC8 Lower Enclosure Ambient  ...  \\\n",
       "1                         26.4                         22.9  ...   \n",
       "2                         26.5                         23.0  ...   \n",
       "3                         26.5                         23.2  ...   \n",
       "4                         26.7                         23.5  ...   \n",
       "5                         26.9                         23.8  ...   \n",
       "\n",
       "   TC28 MCB Ambient  TC29 Capacitor (C44)  TC30 Winding Internal Side Trans  \\\n",
       "1              23.5                  24.8                              25.6   \n",
       "2              24.9                  25.6                              25.7   \n",
       "3              26.6                  27.0                              25.7   \n",
       "4              28.0                  28.9                              25.7   \n",
       "5              29.2                  31.2                              25.8   \n",
       "\n",
       "   TC32 Busbar L1 Neut to Relay  TC34 Cap on Holdup PCB  TC36 TACO PCB  \\\n",
       "1                          24.5                    27.1           34.8   \n",
       "2                          26.7                    27.1           31.6   \n",
       "3                          29.7                    27.0           29.7   \n",
       "4                          32.8                    27.0           29.3   \n",
       "5                          35.8                    27.3           29.5   \n",
       "\n",
       "   TC31 Windings of Transformer  TC35 Holdup PCB under Power  \\\n",
       "1                          25.9                         26.1   \n",
       "2                          25.9                         26.3   \n",
       "3                          25.9                         26.4   \n",
       "4                          26.0                         26.5   \n",
       "5                          26.2                         26.7   \n",
       "\n",
       "   TC33 Busbar L2 Neut to Relay       Timedelta  \n",
       "1                          24.3 0 days 15:38:00  \n",
       "2                          26.8 0 days 15:40:00  \n",
       "3                          30.1 0 days 15:42:00  \n",
       "4                          33.6 0 days 15:44:00  \n",
       "5                          36.9 0 days 15:46:00  \n",
       "\n",
       "[5 rows x 39 columns]"
      ]
     },
     "execution_count": 113,
     "metadata": {},
     "output_type": "execute_result"
    }
   ],
   "source": [
    "test_1.head()"
   ]
  },
  {
   "cell_type": "code",
   "execution_count": null,
   "metadata": {},
   "outputs": [],
   "source": [
    "def get_max_values(df):\n",
    "    # # Find the max value for each column\n",
    "    max_values = df.max()\n",
    "\n",
    "    max_values_df = pd.DataFrame([max_values])\n",
    "\n",
    "    return max_values_df\n",
    "\n",
    "max_values_df_test_1 = get_max_values(test_1)\n",
    "# max_values_df_test_2 = get_max_values(test_2)\n"
   ]
  },
  {
   "cell_type": "markdown",
   "metadata": {},
   "source": [
    "# Downsample to get 15 minute intervals\n",
    "15min*60s/40samples per second = 22.5 samples per 15min ~= 23 samples per 15min"
   ]
  },
  {
   "cell_type": "code",
   "execution_count": null,
   "metadata": {},
   "outputs": [],
   "source": [
    "# since we have a time delta column, downsamqqle the data to 15 minute intervals\n",
    "def downsample_df(df, time_delta='15min'):\n",
    "    # df['Time'] = pd.to_datetime(df['Time'])\n",
    "    df = df.set_index('Timedelta')\n",
    "    df = df.resample(time_delta).max()\n",
    "    df = df.reset_index()\n",
    "    return df\n",
    "\n",
    "\n",
    "def downsample_dataframe(df, timedelta_column, sample_rate='15T'):\n",
    "    # Set the timedelta column as the index\n",
    "    df = df.set_index(timedelta_column)\n",
    "    # Resample the dataframe to the specified interval\n",
    "    downsampled_df = df.resample(sample_rate).mean()\n",
    "    return downsampled_df\n",
    "\n",
    "# Usage\n",
    "# downsampled_df = downsample_dataframe(your_dataframe, 'your_timedelta_column')\n"
   ]
  },
  {
   "cell_type": "code",
   "execution_count": null,
   "metadata": {},
   "outputs": [
    {
     "name": "stdout",
     "output_type": "stream",
     "text": [
      "          Date      Time  TC1 Gasket  TC2 Supply Lug  TC3 Backup Lug  \\\n",
      "1   2023/12/13  15:38:00        23.6            24.1            23.0   \n",
      "24  2023/12/13  16:24:00        30.1            64.3            44.8   \n",
      "\n",
      "    TC4 Subpanel Lug  TC5 MSA Busbar  TC6 Glass Door  \\\n",
      "1               23.9            29.0            23.6   \n",
      "24              49.4           105.7            28.0   \n",
      "\n",
      "    TC7 Upper Enclosure Ambient  TC8 Lower Enclosure Ambient  ...  \\\n",
      "1                          26.4                         22.9  ...   \n",
      "24                         36.8                         30.8  ...   \n",
      "\n",
      "    TC28 MCB Ambient  TC29 Capacitor (C44)  TC30 Winding Internal Side Trans  \\\n",
      "1               23.5                  24.8                              25.6   \n",
      "24              42.1                  73.1                              30.7   \n",
      "\n",
      "    TC32 Busbar L1 Neut to Relay  TC34 Cap on Holdup PCB  TC36 TACO PCB  \\\n",
      "1                           24.5                    27.1           34.8   \n",
      "24                          73.7                    37.7           41.7   \n",
      "\n",
      "    TC31 Windings of Transformer  TC35 Holdup PCB under Power  \\\n",
      "1                           25.9                         26.1   \n",
      "24                          32.9                         35.1   \n",
      "\n",
      "    TC33 Busbar L2 Neut to Relay       Timedelta  \n",
      "1                           24.3 0 days 15:38:00  \n",
      "24                          76.6 0 days 16:24:00  \n",
      "\n",
      "[2 rows x 39 columns]\n"
     ]
    }
   ],
   "source": [
    "# 15min*60s/40 seconds per sample = 22.5 samples per 15min ~= 23 samples per 15min\n",
    "\n",
    "def downsample_15_min(df, sampling_rate=23):\n",
    "    \"\"\"\n",
    "    This function samples every 23rd row from the given DataFrame.\n",
    "\n",
    "    Parameters:\n",
    "    df (pd.DataFrame): The DataFrame to sample from.\n",
    "\n",
    "    Returns:\n",
    "    pd.DataFrame: A new DataFrame containing every 23rd row from the original.\n",
    "    \"\"\"\n",
    "    # Select every 23rd row\n",
    "    sampled_df = df.iloc[::23, :]\n",
    "\n",
    "    return sampled_df\n",
    "\n",
    "test_1_15_min = downsample_15_min(test_1)\n",
    "test_2_15_min = downsample_15_min(test_2)\n",
    "if DEBUG: print(test_1_15_min.head())"
   ]
  },
  {
   "cell_type": "code",
   "execution_count": null,
   "metadata": {},
   "outputs": [],
   "source": [
    "\n",
    "# Concatenate test max values this with the original DataFrame\n",
    "test_1_df = pd.concat([test_1_15_min, max_values_df_test_1], ignore_index=True)\n",
    "test_2_df = pd.concat([test_2_15_min, max_values_df_test_2], ignore_index=True)\n"
   ]
  },
  {
   "cell_type": "code",
   "execution_count": null,
   "metadata": {},
   "outputs": [],
   "source": []
  },
  {
   "cell_type": "code",
   "execution_count": null,
   "metadata": {},
   "outputs": [
    {
     "name": "stdout",
     "output_type": "stream",
     "text": [
      "             NAME          x0         x15         Max\n",
      "0            Date  2023/12/13  2023/12/13  2023/12/13\n",
      "1            Time    15:38:00    16:24:00    16:46:00\n",
      "2      TC1 Gasket        23.6        30.1        36.1\n",
      "3  TC2 Supply Lug        24.1        64.3        70.7\n",
      "4  TC3 Backup Lug        23.0        44.8        51.0\n"
     ]
    }
   ],
   "source": [
    "def transpose_15_min_and_max(df):\n",
    "        # Transpose the 15 monute DataFrame\n",
    "    transposed_df = df.T\n",
    "\n",
    "    # Reset index to get the column names as a separate column\n",
    "    transposed_df.reset_index(inplace=True)\n",
    "\n",
    "    # Rename columns\n",
    "    new_column_names = ['NAME'] + [f'x{i*15}' for i in range(transposed_df.shape[1] - 1)]\n",
    "    transposed_df.columns = new_column_names\n",
    "    \n",
    "    # Get the name of the last column\n",
    "    last_column_name = transposed_df.columns[-1]\n",
    "\n",
    "    # Rename the last column to 'Max'    \n",
    "    transposed_df.rename(columns={last_column_name: 'Max'}, inplace=True)\n",
    "    return transposed_df\n",
    "\n",
    "test_1_unordered_df = transpose_15_min_and_max(test_1_df)\n",
    "test_2_unordered_df = transpose_15_min_and_max(test_2_df)\n",
    "if DEBUG: print(test_1_unordered_df.head())\n",
    "\n",
    "\n"
   ]
  },
  {
   "cell_type": "markdown",
   "metadata": {},
   "source": [
    "# re-arrange rows to match TDP"
   ]
  },
  {
   "cell_type": "code",
   "execution_count": null,
   "metadata": {},
   "outputs": [],
   "source": [
    "# get the original name list\n",
    "original_name_list = test_1_unordered_df['NAME'].tolist()\n",
    "\n",
    "# write to file to manually edit the order of the names\n",
    "make_new_name_list = False # overwrite the name_list.txt file\n",
    "\n",
    "if make_new_name_list:\n",
    "    with open(os.path.join(output_data_dir, 'name_list.txt'), 'w') as f:\n",
    "        for name in original_name_list:\n",
    "            f.write(f'{name}\\n')\n",
    "\n",
    "new_order = [\n",
    "    \"Date\",\n",
    "    \"Time\",\n",
    "    \"TC1 Gasket\",\n",
    "    \"TC2 Supply Lug\",\n",
    "    \"TC3 Backup Lug\",\n",
    "    \"TC4 Subpanel Lug\",\n",
    "    \"TC5 MSA Busbar\",\n",
    "    \"TC6 Glass Door\",\n",
    "    \"TC7 Upper Enclosure Ambient\",\n",
    "    \"TC8 Lower Enclosure Ambient\",\n",
    "    \"TC10 Subpanel Tray\",\n",
    "    \"TC11 Ambient under MSA Cover\",\n",
    "    \"TC12 MSA PCB\",\n",
    "    \"TC13 MCB Plastic\",\n",
    "    \"TC14 Enclosure Handle\",\n",
    "    \"TC15 Top of Enclosure (Plastic)\",\n",
    "    \"TC16 Side of Enclosure\",\n",
    "    \"TC17 Subpanel Bussing\",\n",
    "    \"TC18 Branch Breaker Plastic Top\",\n",
    "    \"TC19 Branch Breaker Plastic Midd\",\n",
    "    \"TC20 Branch Breaker Bussing Top\",\n",
    "    \"TC21 Brach Breaker Bussing Mid\",\n",
    "    \"TC22 Transformer Cover Plastic\",\n",
    "    \"TC23 RF Window Plastic\",\n",
    "    \"TC24 Busbar Tray near MCB\",\n",
    "    \"TC25 Busbar Tray Field Wiring\",\n",
    "    \"TC26 Busbar Tray MSA Under cover\",\n",
    "    \"TC27 Relay Ambient\",\n",
    "    \"TC28 MCB Ambient\",\n",
    "    \"TC9 Lab Ambient\",\n",
    "    \"TC29 Capacitor (C44)\",\n",
    "    \"TC42 TACO PCB\",\n",
    "    \"TC36 Winding Internal Side Trans\",\n",
    "    \"TC37 Windings of Transformer\",\n",
    "    \"TC38 Busbar L1 Neut to Relay\",\n",
    "    \"TC39 Busbar L2 Neut to Relay\",\n",
    "    \"TC40 Cap on Holdup PCB\",\n",
    "    \"TC41 Holdup PCB under Power\",\n",
    "]\n"
   ]
  },
  {
   "cell_type": "code",
   "execution_count": null,
   "metadata": {},
   "outputs": [
    {
     "ename": "KeyError",
     "evalue": "\"['TC19 Branch Breaker Plastic Midd', 'TC42 TACO PCB', 'TC36 Winding Internal Side Trans', 'TC37 Windings of Transformer', 'TC38 Busbar L1 Neut to Relay', 'TC39 Busbar L2 Neut to Relay', 'TC40 Cap on Holdup PCB', 'TC41 Holdup PCB under Power'] not in index\"",
     "output_type": "error",
     "traceback": [
      "\u001b[1;31m---------------------------------------------------------------------------\u001b[0m",
      "\u001b[1;31mKeyError\u001b[0m                                  Traceback (most recent call last)",
      "\u001b[1;32mc:\\Users\\ecountrywood\\dev\\tools\\FlexPlot\\temp_nb.ipynb Cell 24\u001b[0m line \u001b[0;36m3\n\u001b[0;32m      <a href='vscode-notebook-cell:/c%3A/Users/ecountrywood/dev/tools/FlexPlot/temp_nb.ipynb#X46sZmlsZQ%3D%3D?line=0'>1</a>\u001b[0m \u001b[39m# Reorder the DataFrame based on the new order\u001b[39;00m\n\u001b[0;32m      <a href='vscode-notebook-cell:/c%3A/Users/ecountrywood/dev/tools/FlexPlot/temp_nb.ipynb#X46sZmlsZQ%3D%3D?line=1'>2</a>\u001b[0m \u001b[39m# Make sure all names in 'new_order' exist in 'df['NAME']'\u001b[39;00m\n\u001b[1;32m----> <a href='vscode-notebook-cell:/c%3A/Users/ecountrywood/dev/tools/FlexPlot/temp_nb.ipynb#X46sZmlsZQ%3D%3D?line=2'>3</a>\u001b[0m test_1_final_df \u001b[39m=\u001b[39m test_1_unordered_df\u001b[39m.\u001b[39;49mset_index(\u001b[39m'\u001b[39;49m\u001b[39mNAME\u001b[39;49m\u001b[39m'\u001b[39;49m)\u001b[39m.\u001b[39;49mloc[new_order]\u001b[39m.\u001b[39mreset_index()\n\u001b[0;32m      <a href='vscode-notebook-cell:/c%3A/Users/ecountrywood/dev/tools/FlexPlot/temp_nb.ipynb#X46sZmlsZQ%3D%3D?line=3'>4</a>\u001b[0m test_2_final_df \u001b[39m=\u001b[39m test_2_unordered_df\u001b[39m.\u001b[39mset_index(\u001b[39m'\u001b[39m\u001b[39mNAME\u001b[39m\u001b[39m'\u001b[39m)\u001b[39m.\u001b[39mloc[new_order]\u001b[39m.\u001b[39mreset_index()\n\u001b[0;32m      <a href='vscode-notebook-cell:/c%3A/Users/ecountrywood/dev/tools/FlexPlot/temp_nb.ipynb#X46sZmlsZQ%3D%3D?line=4'>5</a>\u001b[0m \u001b[39mif\u001b[39;00m DEBUG: test_1_final_df\u001b[39m.\u001b[39mhead()\n",
      "File \u001b[1;32mc:\\Users\\ecountrywood\\dev\\tools\\pdf_tools\\env\\lib\\site-packages\\pandas\\core\\indexing.py:1153\u001b[0m, in \u001b[0;36m_LocationIndexer.__getitem__\u001b[1;34m(self, key)\u001b[0m\n\u001b[0;32m   1150\u001b[0m axis \u001b[39m=\u001b[39m \u001b[39mself\u001b[39m\u001b[39m.\u001b[39maxis \u001b[39mor\u001b[39;00m \u001b[39m0\u001b[39m\n\u001b[0;32m   1152\u001b[0m maybe_callable \u001b[39m=\u001b[39m com\u001b[39m.\u001b[39mapply_if_callable(key, \u001b[39mself\u001b[39m\u001b[39m.\u001b[39mobj)\n\u001b[1;32m-> 1153\u001b[0m \u001b[39mreturn\u001b[39;00m \u001b[39mself\u001b[39;49m\u001b[39m.\u001b[39;49m_getitem_axis(maybe_callable, axis\u001b[39m=\u001b[39;49maxis)\n",
      "File \u001b[1;32mc:\\Users\\ecountrywood\\dev\\tools\\pdf_tools\\env\\lib\\site-packages\\pandas\\core\\indexing.py:1382\u001b[0m, in \u001b[0;36m_LocIndexer._getitem_axis\u001b[1;34m(self, key, axis)\u001b[0m\n\u001b[0;32m   1379\u001b[0m     \u001b[39mif\u001b[39;00m \u001b[39mhasattr\u001b[39m(key, \u001b[39m\"\u001b[39m\u001b[39mndim\u001b[39m\u001b[39m\"\u001b[39m) \u001b[39mand\u001b[39;00m key\u001b[39m.\u001b[39mndim \u001b[39m>\u001b[39m \u001b[39m1\u001b[39m:\n\u001b[0;32m   1380\u001b[0m         \u001b[39mraise\u001b[39;00m \u001b[39mValueError\u001b[39;00m(\u001b[39m\"\u001b[39m\u001b[39mCannot index with multidimensional key\u001b[39m\u001b[39m\"\u001b[39m)\n\u001b[1;32m-> 1382\u001b[0m     \u001b[39mreturn\u001b[39;00m \u001b[39mself\u001b[39;49m\u001b[39m.\u001b[39;49m_getitem_iterable(key, axis\u001b[39m=\u001b[39;49maxis)\n\u001b[0;32m   1384\u001b[0m \u001b[39m# nested tuple slicing\u001b[39;00m\n\u001b[0;32m   1385\u001b[0m \u001b[39mif\u001b[39;00m is_nested_tuple(key, labels):\n",
      "File \u001b[1;32mc:\\Users\\ecountrywood\\dev\\tools\\pdf_tools\\env\\lib\\site-packages\\pandas\\core\\indexing.py:1322\u001b[0m, in \u001b[0;36m_LocIndexer._getitem_iterable\u001b[1;34m(self, key, axis)\u001b[0m\n\u001b[0;32m   1319\u001b[0m \u001b[39mself\u001b[39m\u001b[39m.\u001b[39m_validate_key(key, axis)\n\u001b[0;32m   1321\u001b[0m \u001b[39m# A collection of keys\u001b[39;00m\n\u001b[1;32m-> 1322\u001b[0m keyarr, indexer \u001b[39m=\u001b[39m \u001b[39mself\u001b[39;49m\u001b[39m.\u001b[39;49m_get_listlike_indexer(key, axis)\n\u001b[0;32m   1323\u001b[0m \u001b[39mreturn\u001b[39;00m \u001b[39mself\u001b[39m\u001b[39m.\u001b[39mobj\u001b[39m.\u001b[39m_reindex_with_indexers(\n\u001b[0;32m   1324\u001b[0m     {axis: [keyarr, indexer]}, copy\u001b[39m=\u001b[39m\u001b[39mTrue\u001b[39;00m, allow_dups\u001b[39m=\u001b[39m\u001b[39mTrue\u001b[39;00m\n\u001b[0;32m   1325\u001b[0m )\n",
      "File \u001b[1;32mc:\\Users\\ecountrywood\\dev\\tools\\pdf_tools\\env\\lib\\site-packages\\pandas\\core\\indexing.py:1520\u001b[0m, in \u001b[0;36m_LocIndexer._get_listlike_indexer\u001b[1;34m(self, key, axis)\u001b[0m\n\u001b[0;32m   1517\u001b[0m ax \u001b[39m=\u001b[39m \u001b[39mself\u001b[39m\u001b[39m.\u001b[39mobj\u001b[39m.\u001b[39m_get_axis(axis)\n\u001b[0;32m   1518\u001b[0m axis_name \u001b[39m=\u001b[39m \u001b[39mself\u001b[39m\u001b[39m.\u001b[39mobj\u001b[39m.\u001b[39m_get_axis_name(axis)\n\u001b[1;32m-> 1520\u001b[0m keyarr, indexer \u001b[39m=\u001b[39m ax\u001b[39m.\u001b[39;49m_get_indexer_strict(key, axis_name)\n\u001b[0;32m   1522\u001b[0m \u001b[39mreturn\u001b[39;00m keyarr, indexer\n",
      "File \u001b[1;32mc:\\Users\\ecountrywood\\dev\\tools\\pdf_tools\\env\\lib\\site-packages\\pandas\\core\\indexes\\base.py:6114\u001b[0m, in \u001b[0;36mIndex._get_indexer_strict\u001b[1;34m(self, key, axis_name)\u001b[0m\n\u001b[0;32m   6111\u001b[0m \u001b[39melse\u001b[39;00m:\n\u001b[0;32m   6112\u001b[0m     keyarr, indexer, new_indexer \u001b[39m=\u001b[39m \u001b[39mself\u001b[39m\u001b[39m.\u001b[39m_reindex_non_unique(keyarr)\n\u001b[1;32m-> 6114\u001b[0m \u001b[39mself\u001b[39;49m\u001b[39m.\u001b[39;49m_raise_if_missing(keyarr, indexer, axis_name)\n\u001b[0;32m   6116\u001b[0m keyarr \u001b[39m=\u001b[39m \u001b[39mself\u001b[39m\u001b[39m.\u001b[39mtake(indexer)\n\u001b[0;32m   6117\u001b[0m \u001b[39mif\u001b[39;00m \u001b[39misinstance\u001b[39m(key, Index):\n\u001b[0;32m   6118\u001b[0m     \u001b[39m# GH 42790 - Preserve name from an Index\u001b[39;00m\n",
      "File \u001b[1;32mc:\\Users\\ecountrywood\\dev\\tools\\pdf_tools\\env\\lib\\site-packages\\pandas\\core\\indexes\\base.py:6178\u001b[0m, in \u001b[0;36mIndex._raise_if_missing\u001b[1;34m(self, key, indexer, axis_name)\u001b[0m\n\u001b[0;32m   6175\u001b[0m     \u001b[39mraise\u001b[39;00m \u001b[39mKeyError\u001b[39;00m(\u001b[39mf\u001b[39m\u001b[39m\"\u001b[39m\u001b[39mNone of [\u001b[39m\u001b[39m{\u001b[39;00mkey\u001b[39m}\u001b[39;00m\u001b[39m] are in the [\u001b[39m\u001b[39m{\u001b[39;00maxis_name\u001b[39m}\u001b[39;00m\u001b[39m]\u001b[39m\u001b[39m\"\u001b[39m)\n\u001b[0;32m   6177\u001b[0m not_found \u001b[39m=\u001b[39m \u001b[39mlist\u001b[39m(ensure_index(key)[missing_mask\u001b[39m.\u001b[39mnonzero()[\u001b[39m0\u001b[39m]]\u001b[39m.\u001b[39munique())\n\u001b[1;32m-> 6178\u001b[0m \u001b[39mraise\u001b[39;00m \u001b[39mKeyError\u001b[39;00m(\u001b[39mf\u001b[39m\u001b[39m\"\u001b[39m\u001b[39m{\u001b[39;00mnot_found\u001b[39m}\u001b[39;00m\u001b[39m not in index\u001b[39m\u001b[39m\"\u001b[39m)\n",
      "\u001b[1;31mKeyError\u001b[0m: \"['TC19 Branch Breaker Plastic Midd', 'TC42 TACO PCB', 'TC36 Winding Internal Side Trans', 'TC37 Windings of Transformer', 'TC38 Busbar L1 Neut to Relay', 'TC39 Busbar L2 Neut to Relay', 'TC40 Cap on Holdup PCB', 'TC41 Holdup PCB under Power'] not in index\""
     ]
    }
   ],
   "source": [
    "\n",
    "# Reorder the DataFrame based on the new order\n",
    "# Make sure all names in 'new_order' exist in 'df['NAME']'\n",
    "test_1_final_df = test_1_unordered_df.set_index('NAME').loc[new_order].reset_index()\n",
    "test_2_final_df = test_2_unordered_df.set_index('NAME').loc[new_order].reset_index()\n",
    "if DEBUG: test_1_final_df.head()\n",
    "\n",
    "# test if the order is correct against the order in name_list\n",
    "for i in range(len(new_order)):\n",
    "    if new_order[i] != test_1_final_df['NAME'].tolist()[i]:\n",
    "        print(f\"ERROR: {new_order[i]} != {test_1_final_df['NAME'].tolist()[i]}\")\n",
    "        break"
   ]
  },
  {
   "cell_type": "code",
   "execution_count": null,
   "metadata": {},
   "outputs": [
    {
     "data": {
      "text/html": [
       "<div>\n",
       "<style scoped>\n",
       "    .dataframe tbody tr th:only-of-type {\n",
       "        vertical-align: middle;\n",
       "    }\n",
       "\n",
       "    .dataframe tbody tr th {\n",
       "        vertical-align: top;\n",
       "    }\n",
       "\n",
       "    .dataframe thead th {\n",
       "        text-align: right;\n",
       "    }\n",
       "</style>\n",
       "<table border=\"1\" class=\"dataframe\">\n",
       "  <thead>\n",
       "    <tr style=\"text-align: right;\">\n",
       "      <th></th>\n",
       "      <th>NAME</th>\n",
       "      <th>x0</th>\n",
       "      <th>x15</th>\n",
       "      <th>x30</th>\n",
       "      <th>x45</th>\n",
       "      <th>x60</th>\n",
       "      <th>Max</th>\n",
       "    </tr>\n",
       "  </thead>\n",
       "  <tbody>\n",
       "    <tr>\n",
       "      <th>0</th>\n",
       "      <td>Date</td>\n",
       "      <td>2023/12/06</td>\n",
       "      <td>2023/12/06</td>\n",
       "      <td>2023/12/06</td>\n",
       "      <td>2023/12/06</td>\n",
       "      <td>2023/12/06</td>\n",
       "      <td>2023/12/06</td>\n",
       "    </tr>\n",
       "    <tr>\n",
       "      <th>1</th>\n",
       "      <td>Time</td>\n",
       "      <td>17:06:40</td>\n",
       "      <td>17:22:00</td>\n",
       "      <td>17:37:20</td>\n",
       "      <td>17:52:40</td>\n",
       "      <td>18:08:00</td>\n",
       "      <td>18:19:20</td>\n",
       "    </tr>\n",
       "    <tr>\n",
       "      <th>2</th>\n",
       "      <td>TC1 Gasket</td>\n",
       "      <td>29.6</td>\n",
       "      <td>26.5</td>\n",
       "      <td>26.8</td>\n",
       "      <td>26.9</td>\n",
       "      <td>27.0</td>\n",
       "      <td>29.6</td>\n",
       "    </tr>\n",
       "    <tr>\n",
       "      <th>3</th>\n",
       "      <td>TC2 Supply Lug</td>\n",
       "      <td>28.9</td>\n",
       "      <td>46.7</td>\n",
       "      <td>55.9</td>\n",
       "      <td>59.9</td>\n",
       "      <td>62.3</td>\n",
       "      <td>63.4</td>\n",
       "    </tr>\n",
       "    <tr>\n",
       "      <th>4</th>\n",
       "      <td>TC3 Backup Lug</td>\n",
       "      <td>29.3</td>\n",
       "      <td>32.2</td>\n",
       "      <td>36.2</td>\n",
       "      <td>39.1</td>\n",
       "      <td>41.0</td>\n",
       "      <td>42.0</td>\n",
       "    </tr>\n",
       "    <tr>\n",
       "      <th>5</th>\n",
       "      <td>TC4 Subpanel Lug</td>\n",
       "      <td>29.3</td>\n",
       "      <td>40.7</td>\n",
       "      <td>47.3</td>\n",
       "      <td>51.7</td>\n",
       "      <td>54.6</td>\n",
       "      <td>55.6</td>\n",
       "    </tr>\n",
       "    <tr>\n",
       "      <th>6</th>\n",
       "      <td>TC5 MSA Busbar</td>\n",
       "      <td>34.6</td>\n",
       "      <td>65.4</td>\n",
       "      <td>81.0</td>\n",
       "      <td>90.8</td>\n",
       "      <td>97.2</td>\n",
       "      <td>99.7</td>\n",
       "    </tr>\n",
       "    <tr>\n",
       "      <th>7</th>\n",
       "      <td>TC6 Glass Door</td>\n",
       "      <td>28.9</td>\n",
       "      <td>26.7</td>\n",
       "      <td>26.8</td>\n",
       "      <td>26.8</td>\n",
       "      <td>26.9</td>\n",
       "      <td>28.9</td>\n",
       "    </tr>\n",
       "    <tr>\n",
       "      <th>8</th>\n",
       "      <td>TC7 Upper Enclosure Ambient</td>\n",
       "      <td>31.4</td>\n",
       "      <td>35.5</td>\n",
       "      <td>43.2</td>\n",
       "      <td>46.7</td>\n",
       "      <td>48.8</td>\n",
       "      <td>50.3</td>\n",
       "    </tr>\n",
       "    <tr>\n",
       "      <th>9</th>\n",
       "      <td>TC8 Lower Enclosure Ambient</td>\n",
       "      <td>28.9</td>\n",
       "      <td>29.6</td>\n",
       "      <td>31.2</td>\n",
       "      <td>32.2</td>\n",
       "      <td>32.9</td>\n",
       "      <td>33.1</td>\n",
       "    </tr>\n",
       "    <tr>\n",
       "      <th>10</th>\n",
       "      <td>TC10 Subpanel Tray</td>\n",
       "      <td>30.0</td>\n",
       "      <td>59.5</td>\n",
       "      <td>63.7</td>\n",
       "      <td>73.6</td>\n",
       "      <td>78.1</td>\n",
       "      <td>79.8</td>\n",
       "    </tr>\n",
       "    <tr>\n",
       "      <th>11</th>\n",
       "      <td>TC11 Ambient under MSA Cover</td>\n",
       "      <td>29.5</td>\n",
       "      <td>38.3</td>\n",
       "      <td>48.6</td>\n",
       "      <td>56.1</td>\n",
       "      <td>61.2</td>\n",
       "      <td>63.4</td>\n",
       "    </tr>\n",
       "    <tr>\n",
       "      <th>12</th>\n",
       "      <td>TC12 MSA PCB</td>\n",
       "      <td>33.9</td>\n",
       "      <td>57.5</td>\n",
       "      <td>73.1</td>\n",
       "      <td>83.2</td>\n",
       "      <td>89.9</td>\n",
       "      <td>92.4</td>\n",
       "    </tr>\n",
       "    <tr>\n",
       "      <th>13</th>\n",
       "      <td>TC13 MCB Plastic</td>\n",
       "      <td>29.1</td>\n",
       "      <td>39.0</td>\n",
       "      <td>54.5</td>\n",
       "      <td>65.9</td>\n",
       "      <td>73.4</td>\n",
       "      <td>77.1</td>\n",
       "    </tr>\n",
       "    <tr>\n",
       "      <th>14</th>\n",
       "      <td>TC14 Enclosure Handle</td>\n",
       "      <td>29.4</td>\n",
       "      <td>27.0</td>\n",
       "      <td>27.9</td>\n",
       "      <td>28.4</td>\n",
       "      <td>28.8</td>\n",
       "      <td>29.4</td>\n",
       "    </tr>\n",
       "    <tr>\n",
       "      <th>15</th>\n",
       "      <td>TC15 Top of Enclosure (Plastic)</td>\n",
       "      <td>32.3</td>\n",
       "      <td>29.1</td>\n",
       "      <td>29.6</td>\n",
       "      <td>30.0</td>\n",
       "      <td>30.3</td>\n",
       "      <td>32.3</td>\n",
       "    </tr>\n",
       "    <tr>\n",
       "      <th>16</th>\n",
       "      <td>TC16 Side of Enclosure</td>\n",
       "      <td>29.4</td>\n",
       "      <td>26.2</td>\n",
       "      <td>26.6</td>\n",
       "      <td>26.6</td>\n",
       "      <td>26.6</td>\n",
       "      <td>29.4</td>\n",
       "    </tr>\n",
       "    <tr>\n",
       "      <th>17</th>\n",
       "      <td>TC17 Subpanel Bussing</td>\n",
       "      <td>29.3</td>\n",
       "      <td>47.3</td>\n",
       "      <td>56.6</td>\n",
       "      <td>62.9</td>\n",
       "      <td>67.1</td>\n",
       "      <td>68.9</td>\n",
       "    </tr>\n",
       "    <tr>\n",
       "      <th>18</th>\n",
       "      <td>TC18 Branch Breaker Plastic Top</td>\n",
       "      <td>28.8</td>\n",
       "      <td>50.1</td>\n",
       "      <td>64.3</td>\n",
       "      <td>73.2</td>\n",
       "      <td>79.1</td>\n",
       "      <td>81.4</td>\n",
       "    </tr>\n",
       "    <tr>\n",
       "      <th>19</th>\n",
       "      <td>TC19 Branch Breaker Plastic Midd</td>\n",
       "      <td>28.1</td>\n",
       "      <td>40.1</td>\n",
       "      <td>50.9</td>\n",
       "      <td>58.8</td>\n",
       "      <td>64.3</td>\n",
       "      <td>66.7</td>\n",
       "    </tr>\n",
       "    <tr>\n",
       "      <th>20</th>\n",
       "      <td>TC20 Branch Breaker Bussing Top</td>\n",
       "      <td>28.7</td>\n",
       "      <td>50.8</td>\n",
       "      <td>64.2</td>\n",
       "      <td>72.3</td>\n",
       "      <td>77.8</td>\n",
       "      <td>79.9</td>\n",
       "    </tr>\n",
       "    <tr>\n",
       "      <th>21</th>\n",
       "      <td>TC21 Brach Breaker Bussing Mid</td>\n",
       "      <td>28.8</td>\n",
       "      <td>44.4</td>\n",
       "      <td>54.6</td>\n",
       "      <td>62.3</td>\n",
       "      <td>67.5</td>\n",
       "      <td>69.6</td>\n",
       "    </tr>\n",
       "    <tr>\n",
       "      <th>22</th>\n",
       "      <td>TC22 Transformer Cover Plastic</td>\n",
       "      <td>29.6</td>\n",
       "      <td>37.0</td>\n",
       "      <td>42.7</td>\n",
       "      <td>46.3</td>\n",
       "      <td>48.8</td>\n",
       "      <td>49.9</td>\n",
       "    </tr>\n",
       "    <tr>\n",
       "      <th>23</th>\n",
       "      <td>TC23 RF Window Plastic</td>\n",
       "      <td>29.7</td>\n",
       "      <td>26.2</td>\n",
       "      <td>26.6</td>\n",
       "      <td>26.6</td>\n",
       "      <td>26.6</td>\n",
       "      <td>29.7</td>\n",
       "    </tr>\n",
       "    <tr>\n",
       "      <th>24</th>\n",
       "      <td>TC24 Busbar Tray near MCB</td>\n",
       "      <td>29.7</td>\n",
       "      <td>42.8</td>\n",
       "      <td>61.2</td>\n",
       "      <td>74.2</td>\n",
       "      <td>82.6</td>\n",
       "      <td>86.2</td>\n",
       "    </tr>\n",
       "    <tr>\n",
       "      <th>25</th>\n",
       "      <td>TC25 Busbar Tray Field Wiring</td>\n",
       "      <td>28.6</td>\n",
       "      <td>33.1</td>\n",
       "      <td>38.6</td>\n",
       "      <td>42.5</td>\n",
       "      <td>45.1</td>\n",
       "      <td>46.4</td>\n",
       "    </tr>\n",
       "    <tr>\n",
       "      <th>26</th>\n",
       "      <td>TC26 Busbar Tray MSA Under cover</td>\n",
       "      <td>29.8</td>\n",
       "      <td>51.0</td>\n",
       "      <td>70.2</td>\n",
       "      <td>83.9</td>\n",
       "      <td>92.9</td>\n",
       "      <td>96.4</td>\n",
       "    </tr>\n",
       "    <tr>\n",
       "      <th>27</th>\n",
       "      <td>TC27 Relay Ambient</td>\n",
       "      <td>31.8</td>\n",
       "      <td>33.3</td>\n",
       "      <td>35.6</td>\n",
       "      <td>37.3</td>\n",
       "      <td>38.8</td>\n",
       "      <td>40.1</td>\n",
       "    </tr>\n",
       "    <tr>\n",
       "      <th>28</th>\n",
       "      <td>TC28 MCB Ambient</td>\n",
       "      <td>28.7</td>\n",
       "      <td>28.7</td>\n",
       "      <td>30.1</td>\n",
       "      <td>30.7</td>\n",
       "      <td>31.2</td>\n",
       "      <td>31.4</td>\n",
       "    </tr>\n",
       "    <tr>\n",
       "      <th>29</th>\n",
       "      <td>TC9 Lab Ambient</td>\n",
       "      <td>29.8</td>\n",
       "      <td>26.2</td>\n",
       "      <td>26.6</td>\n",
       "      <td>26.6</td>\n",
       "      <td>26.7</td>\n",
       "      <td>29.8</td>\n",
       "    </tr>\n",
       "    <tr>\n",
       "      <th>30</th>\n",
       "      <td>TC29 Capacitor (C44)</td>\n",
       "      <td>29.4</td>\n",
       "      <td>43.3</td>\n",
       "      <td>59.8</td>\n",
       "      <td>71.4</td>\n",
       "      <td>78.9</td>\n",
       "      <td>82.0</td>\n",
       "    </tr>\n",
       "    <tr>\n",
       "      <th>31</th>\n",
       "      <td>TC42 TACO PCB</td>\n",
       "      <td>36.5</td>\n",
       "      <td>39.8</td>\n",
       "      <td>42.9</td>\n",
       "      <td>47.0</td>\n",
       "      <td>50.4</td>\n",
       "      <td>52.5</td>\n",
       "    </tr>\n",
       "    <tr>\n",
       "      <th>32</th>\n",
       "      <td>TC36 Winding Internal Side Trans</td>\n",
       "      <td>44.7</td>\n",
       "      <td>43.6</td>\n",
       "      <td>45.7</td>\n",
       "      <td>47.8</td>\n",
       "      <td>49.6</td>\n",
       "      <td>50.6</td>\n",
       "    </tr>\n",
       "    <tr>\n",
       "      <th>33</th>\n",
       "      <td>TC37 Windings of Transformer</td>\n",
       "      <td>46.5</td>\n",
       "      <td>43.2</td>\n",
       "      <td>43.3</td>\n",
       "      <td>44.2</td>\n",
       "      <td>45.2</td>\n",
       "      <td>46.5</td>\n",
       "    </tr>\n",
       "    <tr>\n",
       "      <th>34</th>\n",
       "      <td>TC38 Busbar L1 Neut to Relay</td>\n",
       "      <td>34.3</td>\n",
       "      <td>50.3</td>\n",
       "      <td>62.1</td>\n",
       "      <td>70.1</td>\n",
       "      <td>75.6</td>\n",
       "      <td>77.9</td>\n",
       "    </tr>\n",
       "    <tr>\n",
       "      <th>35</th>\n",
       "      <td>TC39 Busbar L2 Neut to Relay</td>\n",
       "      <td>32.0</td>\n",
       "      <td>51.7</td>\n",
       "      <td>65.3</td>\n",
       "      <td>74.0</td>\n",
       "      <td>79.9</td>\n",
       "      <td>82.3</td>\n",
       "    </tr>\n",
       "    <tr>\n",
       "      <th>36</th>\n",
       "      <td>TC40 Cap on Holdup PCB</td>\n",
       "      <td>35.9</td>\n",
       "      <td>36.7</td>\n",
       "      <td>37.0</td>\n",
       "      <td>37.8</td>\n",
       "      <td>39.0</td>\n",
       "      <td>39.9</td>\n",
       "    </tr>\n",
       "    <tr>\n",
       "      <th>37</th>\n",
       "      <td>TC41 Holdup PCB under Power</td>\n",
       "      <td>38.9</td>\n",
       "      <td>36.7</td>\n",
       "      <td>36.3</td>\n",
       "      <td>36.9</td>\n",
       "      <td>37.9</td>\n",
       "      <td>38.9</td>\n",
       "    </tr>\n",
       "  </tbody>\n",
       "</table>\n",
       "</div>"
      ],
      "text/plain": [
       "                                NAME          x0         x15         x30  \\\n",
       "0                               Date  2023/12/06  2023/12/06  2023/12/06   \n",
       "1                               Time    17:06:40    17:22:00    17:37:20   \n",
       "2                         TC1 Gasket        29.6        26.5        26.8   \n",
       "3                     TC2 Supply Lug        28.9        46.7        55.9   \n",
       "4                     TC3 Backup Lug        29.3        32.2        36.2   \n",
       "5                   TC4 Subpanel Lug        29.3        40.7        47.3   \n",
       "6                     TC5 MSA Busbar        34.6        65.4        81.0   \n",
       "7                     TC6 Glass Door        28.9        26.7        26.8   \n",
       "8        TC7 Upper Enclosure Ambient        31.4        35.5        43.2   \n",
       "9        TC8 Lower Enclosure Ambient        28.9        29.6        31.2   \n",
       "10                TC10 Subpanel Tray        30.0        59.5        63.7   \n",
       "11      TC11 Ambient under MSA Cover        29.5        38.3        48.6   \n",
       "12                      TC12 MSA PCB        33.9        57.5        73.1   \n",
       "13                  TC13 MCB Plastic        29.1        39.0        54.5   \n",
       "14             TC14 Enclosure Handle        29.4        27.0        27.9   \n",
       "15   TC15 Top of Enclosure (Plastic)        32.3        29.1        29.6   \n",
       "16            TC16 Side of Enclosure        29.4        26.2        26.6   \n",
       "17             TC17 Subpanel Bussing        29.3        47.3        56.6   \n",
       "18   TC18 Branch Breaker Plastic Top        28.8        50.1        64.3   \n",
       "19  TC19 Branch Breaker Plastic Midd        28.1        40.1        50.9   \n",
       "20   TC20 Branch Breaker Bussing Top        28.7        50.8        64.2   \n",
       "21    TC21 Brach Breaker Bussing Mid        28.8        44.4        54.6   \n",
       "22    TC22 Transformer Cover Plastic        29.6        37.0        42.7   \n",
       "23            TC23 RF Window Plastic        29.7        26.2        26.6   \n",
       "24         TC24 Busbar Tray near MCB        29.7        42.8        61.2   \n",
       "25     TC25 Busbar Tray Field Wiring        28.6        33.1        38.6   \n",
       "26  TC26 Busbar Tray MSA Under cover        29.8        51.0        70.2   \n",
       "27                TC27 Relay Ambient        31.8        33.3        35.6   \n",
       "28                  TC28 MCB Ambient        28.7        28.7        30.1   \n",
       "29                   TC9 Lab Ambient        29.8        26.2        26.6   \n",
       "30              TC29 Capacitor (C44)        29.4        43.3        59.8   \n",
       "31                     TC42 TACO PCB        36.5        39.8        42.9   \n",
       "32  TC36 Winding Internal Side Trans        44.7        43.6        45.7   \n",
       "33      TC37 Windings of Transformer        46.5        43.2        43.3   \n",
       "34      TC38 Busbar L1 Neut to Relay        34.3        50.3        62.1   \n",
       "35      TC39 Busbar L2 Neut to Relay        32.0        51.7        65.3   \n",
       "36            TC40 Cap on Holdup PCB        35.9        36.7        37.0   \n",
       "37       TC41 Holdup PCB under Power        38.9        36.7        36.3   \n",
       "\n",
       "           x45         x60         Max  \n",
       "0   2023/12/06  2023/12/06  2023/12/06  \n",
       "1     17:52:40    18:08:00    18:19:20  \n",
       "2         26.9        27.0        29.6  \n",
       "3         59.9        62.3        63.4  \n",
       "4         39.1        41.0        42.0  \n",
       "5         51.7        54.6        55.6  \n",
       "6         90.8        97.2        99.7  \n",
       "7         26.8        26.9        28.9  \n",
       "8         46.7        48.8        50.3  \n",
       "9         32.2        32.9        33.1  \n",
       "10        73.6        78.1        79.8  \n",
       "11        56.1        61.2        63.4  \n",
       "12        83.2        89.9        92.4  \n",
       "13        65.9        73.4        77.1  \n",
       "14        28.4        28.8        29.4  \n",
       "15        30.0        30.3        32.3  \n",
       "16        26.6        26.6        29.4  \n",
       "17        62.9        67.1        68.9  \n",
       "18        73.2        79.1        81.4  \n",
       "19        58.8        64.3        66.7  \n",
       "20        72.3        77.8        79.9  \n",
       "21        62.3        67.5        69.6  \n",
       "22        46.3        48.8        49.9  \n",
       "23        26.6        26.6        29.7  \n",
       "24        74.2        82.6        86.2  \n",
       "25        42.5        45.1        46.4  \n",
       "26        83.9        92.9        96.4  \n",
       "27        37.3        38.8        40.1  \n",
       "28        30.7        31.2        31.4  \n",
       "29        26.6        26.7        29.8  \n",
       "30        71.4        78.9        82.0  \n",
       "31        47.0        50.4        52.5  \n",
       "32        47.8        49.6        50.6  \n",
       "33        44.2        45.2        46.5  \n",
       "34        70.1        75.6        77.9  \n",
       "35        74.0        79.9        82.3  \n",
       "36        37.8        39.0        39.9  \n",
       "37        36.9        37.9        38.9  "
      ]
     },
     "execution_count": 63,
     "metadata": {},
     "output_type": "execute_result"
    }
   ],
   "source": [
    "test_1_final_df.head(45)"
   ]
  },
  {
   "cell_type": "markdown",
   "metadata": {},
   "source": [
    "# Generate output files with processed data"
   ]
  },
  {
   "cell_type": "code",
   "execution_count": null,
   "metadata": {},
   "outputs": [],
   "source": [
    "# generate output file names for processed data\n",
    "def generate_output_filename(file_path, data_dir,temp):\n",
    "    # Extract the base name of the file without the extension\n",
    "    base_name = file_path.split('/')[-1].split('.')[0]\n",
    "    # trim leading zeros from base name\n",
    "    base_name = base_name.lstrip('0')\n",
    "    \n",
    "    # Construct the new file name with the .csv extension\n",
    "    output_file = f\"{data_dir}/processed_temp_data/{base_name}_{temp}_15min.csv\"\n",
    "\n",
    "    return output_file\n",
    "\n",
    "test_1_output_file = generate_output_filename(input_file_path, output_data_dir,'25C')\n",
    "test_2_output_file = generate_output_filename(input_file_path, output_data_dir,'50C')\n",
    "if DEBUG:    \n",
    "    print(test_1_output_file)\n",
    "    print(test_2_output_file)\n"
   ]
  },
  {
   "cell_type": "markdown",
   "metadata": {},
   "source": [
    "# write processed data to csv"
   ]
  },
  {
   "cell_type": "code",
   "execution_count": null,
   "metadata": {},
   "outputs": [],
   "source": [
    "# write processed data to csv\n",
    "test_1_final_df.to_csv(test_1_output_file, index = None, header=True)\n",
    "test_2_final_df.to_csv(test_2_output_file, index = None, header=True)"
   ]
  },
  {
   "cell_type": "code",
   "execution_count": null,
   "metadata": {},
   "outputs": [],
   "source": []
  }
 ],
 "metadata": {
  "kernelspec": {
   "display_name": "env",
   "language": "python",
   "name": "python3"
  },
  "language_info": {
   "codemirror_mode": {
    "name": "ipython",
    "version": 3
   },
   "file_extension": ".py",
   "mimetype": "text/x-python",
   "name": "python",
   "nbconvert_exporter": "python",
   "pygments_lexer": "ipython3",
   "version": "3.10.2"
  }
 },
 "nbformat": 4,
 "nbformat_minor": 2
}
