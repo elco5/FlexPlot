{
 "cells": [
  {
   "cell_type": "code",
   "execution_count": 24,
   "metadata": {},
   "outputs": [],
   "source": [
    "import io\n",
    "import os\n",
    "import base64\n",
    "import logging\n",
    "import pandas as pd\n",
    "import plotly.express as px\n",
    "\n",
    "from data_ingestion.data_loader import DataLoader  # Replace with your actual import\n",
    "from utilities.logging import setup_logger"
   ]
  },
  {
   "cell_type": "markdown",
   "metadata": {},
   "source": [
    "# set the input file and output directory"
   ]
  },
  {
   "cell_type": "code",
   "execution_count": 25,
   "metadata": {},
   "outputs": [],
   "source": [
    "input_file_path = \"./data/000091_231213_153600.GDS.xlsx\"\n",
    "output_data_dir = \"./data\""
   ]
  },
  {
   "cell_type": "code",
   "execution_count": 26,
   "metadata": {},
   "outputs": [
    {
     "name": "stderr",
     "output_type": "stream",
     "text": [
      "c:\\Users\\ecountrywood\\dev\\tools\\pdf_tools\\env\\lib\\site-packages\\openpyxl\\styles\\stylesheet.py:226: UserWarning:\n",
      "\n",
      "Workbook contains no default style, apply openpyxl's default\n",
      "\n"
     ]
    }
   ],
   "source": [
    "data_loader = DataLoader(input_file_path)\n",
    "data_loader.auto_load(file_path=input_file_path)"
   ]
  },
  {
   "cell_type": "markdown",
   "metadata": {},
   "source": [
    "# load the dataframe "
   ]
  },
  {
   "cell_type": "code",
   "execution_count": 27,
   "metadata": {},
   "outputs": [],
   "source": [
    "df = data_loader.data[\"data_frame\"]"
   ]
  },
  {
   "cell_type": "code",
   "execution_count": 28,
   "metadata": {},
   "outputs": [],
   "source": [
    "# save a copy of the original df\n",
    "df_original = df.copy()"
   ]
  },
  {
   "cell_type": "code",
   "execution_count": 29,
   "metadata": {},
   "outputs": [
    {
     "data": {
      "text/html": [
       "<div>\n",
       "<style scoped>\n",
       "    .dataframe tbody tr th:only-of-type {\n",
       "        vertical-align: middle;\n",
       "    }\n",
       "\n",
       "    .dataframe tbody tr th {\n",
       "        vertical-align: top;\n",
       "    }\n",
       "\n",
       "    .dataframe thead th {\n",
       "        text-align: right;\n",
       "    }\n",
       "</style>\n",
       "<table border=\"1\" class=\"dataframe\">\n",
       "  <thead>\n",
       "    <tr style=\"text-align: right;\">\n",
       "      <th></th>\n",
       "      <th>Date</th>\n",
       "      <th>Time</th>\n",
       "      <th>sec</th>\n",
       "      <th>TC1 Gasket</th>\n",
       "      <th></th>\n",
       "      <th>TC2 Supply Lug</th>\n",
       "      <th></th>\n",
       "      <th>TC3 Backup Lug</th>\n",
       "      <th></th>\n",
       "      <th>TC4 Subpanel Lug</th>\n",
       "      <th>...</th>\n",
       "      <th>TC34 Cap on Holdup PCB</th>\n",
       "      <th></th>\n",
       "      <th>TC36 TACO PCB</th>\n",
       "      <th></th>\n",
       "      <th>TC31 Windings of Transformer</th>\n",
       "      <th></th>\n",
       "      <th>TC35 Holdup PCB under Power</th>\n",
       "      <th></th>\n",
       "      <th>TC33 Busbar L2 Neut to Relay</th>\n",
       "      <th></th>\n",
       "    </tr>\n",
       "  </thead>\n",
       "  <tbody>\n",
       "    <tr>\n",
       "      <th>0</th>\n",
       "      <td>2023/12/13</td>\n",
       "      <td>15:36:00</td>\n",
       "      <td>0</td>\n",
       "      <td>23.6</td>\n",
       "      <td>23.8</td>\n",
       "      <td>22.8</td>\n",
       "      <td>22.9</td>\n",
       "      <td>22.8</td>\n",
       "      <td>22.8</td>\n",
       "      <td>22.8</td>\n",
       "      <td>...</td>\n",
       "      <td>26.8</td>\n",
       "      <td>26.9</td>\n",
       "      <td>34.8</td>\n",
       "      <td>34.8</td>\n",
       "      <td>25.5</td>\n",
       "      <td>25.6</td>\n",
       "      <td>25.7</td>\n",
       "      <td>25.8</td>\n",
       "      <td>23.7</td>\n",
       "      <td>23.8</td>\n",
       "    </tr>\n",
       "    <tr>\n",
       "      <th>1</th>\n",
       "      <td>2023/12/13</td>\n",
       "      <td>15:38:00</td>\n",
       "      <td>0</td>\n",
       "      <td>23.5</td>\n",
       "      <td>23.6</td>\n",
       "      <td>22.8</td>\n",
       "      <td>24.1</td>\n",
       "      <td>22.8</td>\n",
       "      <td>23.0</td>\n",
       "      <td>22.9</td>\n",
       "      <td>...</td>\n",
       "      <td>26.9</td>\n",
       "      <td>27.1</td>\n",
       "      <td>31.6</td>\n",
       "      <td>34.8</td>\n",
       "      <td>25.5</td>\n",
       "      <td>25.9</td>\n",
       "      <td>25.8</td>\n",
       "      <td>26.1</td>\n",
       "      <td>23.7</td>\n",
       "      <td>24.3</td>\n",
       "    </tr>\n",
       "    <tr>\n",
       "      <th>2</th>\n",
       "      <td>2023/12/13</td>\n",
       "      <td>15:40:00</td>\n",
       "      <td>0</td>\n",
       "      <td>23.5</td>\n",
       "      <td>23.6</td>\n",
       "      <td>24.1</td>\n",
       "      <td>26.9</td>\n",
       "      <td>23.0</td>\n",
       "      <td>23.5</td>\n",
       "      <td>23.9</td>\n",
       "      <td>...</td>\n",
       "      <td>26.9</td>\n",
       "      <td>27.1</td>\n",
       "      <td>29.7</td>\n",
       "      <td>31.6</td>\n",
       "      <td>25.9</td>\n",
       "      <td>25.9</td>\n",
       "      <td>26.1</td>\n",
       "      <td>26.3</td>\n",
       "      <td>24.3</td>\n",
       "      <td>26.8</td>\n",
       "    </tr>\n",
       "    <tr>\n",
       "      <th>3</th>\n",
       "      <td>2023/12/13</td>\n",
       "      <td>15:42:00</td>\n",
       "      <td>0</td>\n",
       "      <td>23.6</td>\n",
       "      <td>23.6</td>\n",
       "      <td>26.9</td>\n",
       "      <td>29.8</td>\n",
       "      <td>23.5</td>\n",
       "      <td>24.3</td>\n",
       "      <td>25.7</td>\n",
       "      <td>...</td>\n",
       "      <td>26.9</td>\n",
       "      <td>27.0</td>\n",
       "      <td>29.3</td>\n",
       "      <td>29.7</td>\n",
       "      <td>25.9</td>\n",
       "      <td>25.9</td>\n",
       "      <td>26.2</td>\n",
       "      <td>26.4</td>\n",
       "      <td>26.8</td>\n",
       "      <td>30.1</td>\n",
       "    </tr>\n",
       "    <tr>\n",
       "      <th>4</th>\n",
       "      <td>2023/12/13</td>\n",
       "      <td>15:44:00</td>\n",
       "      <td>0</td>\n",
       "      <td>23.6</td>\n",
       "      <td>23.7</td>\n",
       "      <td>29.8</td>\n",
       "      <td>32.6</td>\n",
       "      <td>24.3</td>\n",
       "      <td>25.3</td>\n",
       "      <td>27.4</td>\n",
       "      <td>...</td>\n",
       "      <td>26.9</td>\n",
       "      <td>27.0</td>\n",
       "      <td>29.2</td>\n",
       "      <td>29.3</td>\n",
       "      <td>25.9</td>\n",
       "      <td>26.0</td>\n",
       "      <td>26.4</td>\n",
       "      <td>26.5</td>\n",
       "      <td>30.1</td>\n",
       "      <td>33.6</td>\n",
       "    </tr>\n",
       "  </tbody>\n",
       "</table>\n",
       "<p>5 rows × 75 columns</p>\n",
       "</div>"
      ],
      "text/plain": [
       "         Date      Time  sec  TC1 Gasket        TC2 Supply Lug        \\\n",
       "0  2023/12/13  15:36:00    0        23.6  23.8            22.8  22.9   \n",
       "1  2023/12/13  15:38:00    0        23.5  23.6            22.8  24.1   \n",
       "2  2023/12/13  15:40:00    0        23.5  23.6            24.1  26.9   \n",
       "3  2023/12/13  15:42:00    0        23.6  23.6            26.9  29.8   \n",
       "4  2023/12/13  15:44:00    0        23.6  23.7            29.8  32.6   \n",
       "\n",
       "   TC3 Backup Lug        TC4 Subpanel Lug  ...  TC34 Cap on Holdup PCB        \\\n",
       "0            22.8  22.8              22.8  ...                    26.8  26.9   \n",
       "1            22.8  23.0              22.9  ...                    26.9  27.1   \n",
       "2            23.0  23.5              23.9  ...                    26.9  27.1   \n",
       "3            23.5  24.3              25.7  ...                    26.9  27.0   \n",
       "4            24.3  25.3              27.4  ...                    26.9  27.0   \n",
       "\n",
       "   TC36 TACO PCB        TC31 Windings of Transformer        \\\n",
       "0           34.8  34.8                          25.5  25.6   \n",
       "1           31.6  34.8                          25.5  25.9   \n",
       "2           29.7  31.6                          25.9  25.9   \n",
       "3           29.3  29.7                          25.9  25.9   \n",
       "4           29.2  29.3                          25.9  26.0   \n",
       "\n",
       "   TC35 Holdup PCB under Power        TC33 Busbar L2 Neut to Relay        \n",
       "0                         25.7  25.8                          23.7  23.8  \n",
       "1                         25.8  26.1                          23.7  24.3  \n",
       "2                         26.1  26.3                          24.3  26.8  \n",
       "3                         26.2  26.4                          26.8  30.1  \n",
       "4                         26.4  26.5                          30.1  33.6  \n",
       "\n",
       "[5 rows x 75 columns]"
      ]
     },
     "execution_count": 29,
     "metadata": {},
     "output_type": "execute_result"
    }
   ],
   "source": [
    "df_original.head()"
   ]
  },
  {
   "cell_type": "code",
   "execution_count": 30,
   "metadata": {},
   "outputs": [
    {
     "data": {
      "text/html": [
       "<div>\n",
       "<style scoped>\n",
       "    .dataframe tbody tr th:only-of-type {\n",
       "        vertical-align: middle;\n",
       "    }\n",
       "\n",
       "    .dataframe tbody tr th {\n",
       "        vertical-align: top;\n",
       "    }\n",
       "\n",
       "    .dataframe thead th {\n",
       "        text-align: right;\n",
       "    }\n",
       "</style>\n",
       "<table border=\"1\" class=\"dataframe\">\n",
       "  <thead>\n",
       "    <tr style=\"text-align: right;\">\n",
       "      <th></th>\n",
       "      <th>Date</th>\n",
       "      <th>Time</th>\n",
       "      <th>TC1 Gasket</th>\n",
       "      <th>TC2 Supply Lug</th>\n",
       "      <th>TC3 Backup Lug</th>\n",
       "      <th>TC4 Subpanel Lug</th>\n",
       "      <th>TC5 MSA Busbar</th>\n",
       "      <th>TC6 Glass Door</th>\n",
       "      <th>TC7 Upper Enclosure Ambient</th>\n",
       "      <th>TC8 Lower Enclosure Ambient</th>\n",
       "      <th>...</th>\n",
       "      <th>TC27 Relay Ambient</th>\n",
       "      <th>TC28 MCB Ambient</th>\n",
       "      <th>TC29 Capacitor (C44)</th>\n",
       "      <th>TC30 Winding Internal Side Trans</th>\n",
       "      <th>TC32 Busbar L1 Neut to Relay</th>\n",
       "      <th>TC34 Cap on Holdup PCB</th>\n",
       "      <th>TC36 TACO PCB</th>\n",
       "      <th>TC31 Windings of Transformer</th>\n",
       "      <th>TC35 Holdup PCB under Power</th>\n",
       "      <th>TC33 Busbar L2 Neut to Relay</th>\n",
       "    </tr>\n",
       "  </thead>\n",
       "  <tbody>\n",
       "    <tr>\n",
       "      <th>0</th>\n",
       "      <td>2023/12/13</td>\n",
       "      <td>15:36:00</td>\n",
       "      <td>23.8</td>\n",
       "      <td>22.9</td>\n",
       "      <td>22.8</td>\n",
       "      <td>23.0</td>\n",
       "      <td>24.2</td>\n",
       "      <td>23.7</td>\n",
       "      <td>24.9</td>\n",
       "      <td>22.8</td>\n",
       "      <td>...</td>\n",
       "      <td>24.3</td>\n",
       "      <td>23.0</td>\n",
       "      <td>24.5</td>\n",
       "      <td>25.5</td>\n",
       "      <td>24.0</td>\n",
       "      <td>26.9</td>\n",
       "      <td>34.8</td>\n",
       "      <td>25.6</td>\n",
       "      <td>25.8</td>\n",
       "      <td>23.8</td>\n",
       "    </tr>\n",
       "    <tr>\n",
       "      <th>1</th>\n",
       "      <td>2023/12/13</td>\n",
       "      <td>15:38:00</td>\n",
       "      <td>23.6</td>\n",
       "      <td>24.1</td>\n",
       "      <td>23.0</td>\n",
       "      <td>23.9</td>\n",
       "      <td>29.0</td>\n",
       "      <td>23.6</td>\n",
       "      <td>26.4</td>\n",
       "      <td>22.9</td>\n",
       "      <td>...</td>\n",
       "      <td>25.1</td>\n",
       "      <td>23.5</td>\n",
       "      <td>24.8</td>\n",
       "      <td>25.6</td>\n",
       "      <td>24.5</td>\n",
       "      <td>27.1</td>\n",
       "      <td>34.8</td>\n",
       "      <td>25.9</td>\n",
       "      <td>26.1</td>\n",
       "      <td>24.3</td>\n",
       "    </tr>\n",
       "    <tr>\n",
       "      <th>2</th>\n",
       "      <td>2023/12/13</td>\n",
       "      <td>15:40:00</td>\n",
       "      <td>23.6</td>\n",
       "      <td>26.9</td>\n",
       "      <td>23.5</td>\n",
       "      <td>25.7</td>\n",
       "      <td>38.2</td>\n",
       "      <td>23.6</td>\n",
       "      <td>26.5</td>\n",
       "      <td>23.0</td>\n",
       "      <td>...</td>\n",
       "      <td>25.2</td>\n",
       "      <td>24.9</td>\n",
       "      <td>25.6</td>\n",
       "      <td>25.7</td>\n",
       "      <td>26.7</td>\n",
       "      <td>27.1</td>\n",
       "      <td>31.6</td>\n",
       "      <td>25.9</td>\n",
       "      <td>26.3</td>\n",
       "      <td>26.8</td>\n",
       "    </tr>\n",
       "    <tr>\n",
       "      <th>3</th>\n",
       "      <td>2023/12/13</td>\n",
       "      <td>15:42:00</td>\n",
       "      <td>23.6</td>\n",
       "      <td>29.8</td>\n",
       "      <td>24.3</td>\n",
       "      <td>27.4</td>\n",
       "      <td>45.9</td>\n",
       "      <td>23.6</td>\n",
       "      <td>26.5</td>\n",
       "      <td>23.2</td>\n",
       "      <td>...</td>\n",
       "      <td>25.4</td>\n",
       "      <td>26.6</td>\n",
       "      <td>27.0</td>\n",
       "      <td>25.7</td>\n",
       "      <td>29.7</td>\n",
       "      <td>27.0</td>\n",
       "      <td>29.7</td>\n",
       "      <td>25.9</td>\n",
       "      <td>26.4</td>\n",
       "      <td>30.1</td>\n",
       "    </tr>\n",
       "    <tr>\n",
       "      <th>4</th>\n",
       "      <td>2023/12/13</td>\n",
       "      <td>15:44:00</td>\n",
       "      <td>23.7</td>\n",
       "      <td>32.6</td>\n",
       "      <td>25.3</td>\n",
       "      <td>29.0</td>\n",
       "      <td>52.4</td>\n",
       "      <td>23.6</td>\n",
       "      <td>26.7</td>\n",
       "      <td>23.5</td>\n",
       "      <td>...</td>\n",
       "      <td>25.5</td>\n",
       "      <td>28.0</td>\n",
       "      <td>28.9</td>\n",
       "      <td>25.7</td>\n",
       "      <td>32.8</td>\n",
       "      <td>27.0</td>\n",
       "      <td>29.3</td>\n",
       "      <td>26.0</td>\n",
       "      <td>26.5</td>\n",
       "      <td>33.6</td>\n",
       "    </tr>\n",
       "  </tbody>\n",
       "</table>\n",
       "<p>5 rows × 38 columns</p>\n",
       "</div>"
      ],
      "text/plain": [
       "         Date      Time  TC1 Gasket  TC2 Supply Lug  TC3 Backup Lug  \\\n",
       "0  2023/12/13  15:36:00        23.8            22.9            22.8   \n",
       "1  2023/12/13  15:38:00        23.6            24.1            23.0   \n",
       "2  2023/12/13  15:40:00        23.6            26.9            23.5   \n",
       "3  2023/12/13  15:42:00        23.6            29.8            24.3   \n",
       "4  2023/12/13  15:44:00        23.7            32.6            25.3   \n",
       "\n",
       "   TC4 Subpanel Lug  TC5 MSA Busbar  TC6 Glass Door  \\\n",
       "0              23.0            24.2            23.7   \n",
       "1              23.9            29.0            23.6   \n",
       "2              25.7            38.2            23.6   \n",
       "3              27.4            45.9            23.6   \n",
       "4              29.0            52.4            23.6   \n",
       "\n",
       "   TC7 Upper Enclosure Ambient  TC8 Lower Enclosure Ambient  ...  \\\n",
       "0                         24.9                         22.8  ...   \n",
       "1                         26.4                         22.9  ...   \n",
       "2                         26.5                         23.0  ...   \n",
       "3                         26.5                         23.2  ...   \n",
       "4                         26.7                         23.5  ...   \n",
       "\n",
       "   TC27 Relay Ambient  TC28 MCB Ambient  TC29 Capacitor (C44)  \\\n",
       "0                24.3              23.0                  24.5   \n",
       "1                25.1              23.5                  24.8   \n",
       "2                25.2              24.9                  25.6   \n",
       "3                25.4              26.6                  27.0   \n",
       "4                25.5              28.0                  28.9   \n",
       "\n",
       "   TC30 Winding Internal Side Trans  TC32 Busbar L1 Neut to Relay  \\\n",
       "0                              25.5                          24.0   \n",
       "1                              25.6                          24.5   \n",
       "2                              25.7                          26.7   \n",
       "3                              25.7                          29.7   \n",
       "4                              25.7                          32.8   \n",
       "\n",
       "   TC34 Cap on Holdup PCB  TC36 TACO PCB  TC31 Windings of Transformer  \\\n",
       "0                    26.9           34.8                          25.6   \n",
       "1                    27.1           34.8                          25.9   \n",
       "2                    27.1           31.6                          25.9   \n",
       "3                    27.0           29.7                          25.9   \n",
       "4                    27.0           29.3                          26.0   \n",
       "\n",
       "   TC35 Holdup PCB under Power  TC33 Busbar L2 Neut to Relay  \n",
       "0                         25.8                          23.8  \n",
       "1                         26.1                          24.3  \n",
       "2                         26.3                          26.8  \n",
       "3                         26.4                          30.1  \n",
       "4                         26.5                          33.6  \n",
       "\n",
       "[5 rows x 38 columns]"
      ]
     },
     "execution_count": 30,
     "metadata": {},
     "output_type": "execute_result"
    }
   ],
   "source": [
    "\n",
    "def replace_tc_columns(df):\n",
    "    # keep the columns that do not contain TC\n",
    "    # these are the MAX columns\n",
    "    modified_df = df.copy()\n",
    "    for col in modified_df.columns:\n",
    "        if 'TC' in col:\n",
    "            col_index = modified_df.columns.get_loc(col)\n",
    "            if col_index + 1 < len(modified_df.columns):\n",
    "                modified_df[col] = modified_df.iloc[:, col_index + 1]\n",
    "    # drop the columns with empth sting as name\n",
    "    modified_df = modified_df.drop('', axis=1)         \n",
    "    return modified_df\n",
    "\n",
    "# Usage\n",
    "# adjusted_df = replace_tc_columns(your_input_dataframe)\n",
    "df_original = replace_tc_columns(df_original)\n",
    "# drop the sec column\n",
    "df_original = df_original.drop('sec', axis=1)\n",
    "df_original.head()"
   ]
  },
  {
   "cell_type": "code",
   "execution_count": 31,
   "metadata": {},
   "outputs": [
    {
     "data": {
      "application/vnd.plotly.v1+json": {
       "config": {
        "plotlyServerURL": "https://plot.ly"
       },
       "data": [
        {
         "hovertemplate": "variable=TC5 MSA Busbar<br>Time=%{x}<br>Temperature (Degrees C)=%{y}<extra></extra>",
         "legendgroup": "TC5 MSA Busbar",
         "line": {
          "color": "#636efa",
          "dash": "solid"
         },
         "marker": {
          "symbol": "circle"
         },
         "mode": "lines",
         "name": "TC5 MSA Busbar",
         "orientation": "v",
         "showlegend": true,
         "type": "scatter",
         "x": [
          "15:36:00",
          "15:38:00",
          "15:40:00",
          "15:42:00",
          "15:44:00",
          "15:46:00",
          "15:48:00",
          "15:50:00",
          "15:52:00",
          "15:54:00",
          "15:56:00",
          "15:58:00",
          "16:00:00",
          "16:02:00",
          "16:04:00",
          "16:06:00",
          "16:08:00",
          "16:10:00",
          "16:12:00",
          "16:14:00",
          "16:16:00",
          "16:18:00",
          "16:20:00",
          "16:22:00",
          "16:24:00",
          "16:26:00",
          "16:28:00",
          "16:30:00",
          "16:32:00",
          "16:34:00",
          "16:36:00",
          "16:38:00",
          "16:40:00",
          "16:42:00",
          "16:44:00",
          "16:46:00",
          "16:48:00",
          "16:50:00",
          "16:52:00",
          "16:54:00",
          "16:56:00",
          "16:58:00"
         ],
         "xaxis": "x",
         "y": [
          24.2,
          29,
          38.2,
          45.9,
          52.4,
          57.9,
          62.7,
          66.9,
          70.7,
          74.1,
          77.3,
          80.1,
          82.8,
          85.4,
          87.8,
          90,
          92.2,
          94.2,
          96.1,
          97.9,
          99.6,
          101.2,
          102.8,
          104.3,
          105.7,
          107.1,
          108.5,
          109.7,
          111,
          112.2,
          113.3,
          114.3,
          115.4,
          116.3,
          116,
          106.7,
          99.2,
          93.4,
          88.7,
          84.8,
          81.5,
          78.7
         ],
         "yaxis": "y"
        },
        {
         "hovertemplate": "variable=TC11 Ambient under MSA Cover<br>Time=%{x}<br>Temperature (Degrees C)=%{y}<extra></extra>",
         "legendgroup": "TC11 Ambient under MSA Cover",
         "line": {
          "color": "#EF553B",
          "dash": "solid"
         },
         "marker": {
          "symbol": "circle"
         },
         "mode": "lines",
         "name": "TC11 Ambient under MSA Cover",
         "orientation": "v",
         "showlegend": true,
         "type": "scatter",
         "x": [
          "15:36:00",
          "15:38:00",
          "15:40:00",
          "15:42:00",
          "15:44:00",
          "15:46:00",
          "15:48:00",
          "15:50:00",
          "15:52:00",
          "15:54:00",
          "15:56:00",
          "15:58:00",
          "16:00:00",
          "16:02:00",
          "16:04:00",
          "16:06:00",
          "16:08:00",
          "16:10:00",
          "16:12:00",
          "16:14:00",
          "16:16:00",
          "16:18:00",
          "16:20:00",
          "16:22:00",
          "16:24:00",
          "16:26:00",
          "16:28:00",
          "16:30:00",
          "16:32:00",
          "16:34:00",
          "16:36:00",
          "16:38:00",
          "16:40:00",
          "16:42:00",
          "16:44:00",
          "16:46:00",
          "16:48:00",
          "16:50:00",
          "16:52:00",
          "16:54:00",
          "16:56:00",
          "16:58:00"
         ],
         "xaxis": "x",
         "y": [
          24.9,
          25.4,
          26.6,
          28.1,
          29.9,
          31.8,
          33.7,
          35.7,
          37.7,
          39.7,
          41.7,
          43.7,
          45.6,
          47.5,
          49.3,
          51.4,
          53,
          54.9,
          56.6,
          58.3,
          59.8,
          61.4,
          62.9,
          64.2,
          65.6,
          66.9,
          68.1,
          69.2,
          70.3,
          71.3,
          72.3,
          73.2,
          74.1,
          74.9,
          74.9,
          74.3,
          73.2,
          72,
          71,
          69.9,
          68.8,
          68
         ],
         "yaxis": "y"
        },
        {
         "hovertemplate": "variable=TC12 MSA PCB<br>Time=%{x}<br>Temperature (Degrees C)=%{y}<extra></extra>",
         "legendgroup": "TC12 MSA PCB",
         "line": {
          "color": "#00cc96",
          "dash": "solid"
         },
         "marker": {
          "symbol": "circle"
         },
         "mode": "lines",
         "name": "TC12 MSA PCB",
         "orientation": "v",
         "showlegend": true,
         "type": "scatter",
         "x": [
          "15:36:00",
          "15:38:00",
          "15:40:00",
          "15:42:00",
          "15:44:00",
          "15:46:00",
          "15:48:00",
          "15:50:00",
          "15:52:00",
          "15:54:00",
          "15:56:00",
          "15:58:00",
          "16:00:00",
          "16:02:00",
          "16:04:00",
          "16:06:00",
          "16:08:00",
          "16:10:00",
          "16:12:00",
          "16:14:00",
          "16:16:00",
          "16:18:00",
          "16:20:00",
          "16:22:00",
          "16:24:00",
          "16:26:00",
          "16:28:00",
          "16:30:00",
          "16:32:00",
          "16:34:00",
          "16:36:00",
          "16:38:00",
          "16:40:00",
          "16:42:00",
          "16:44:00",
          "16:46:00",
          "16:48:00",
          "16:50:00",
          "16:52:00",
          "16:54:00",
          "16:56:00",
          "16:58:00"
         ],
         "xaxis": "x",
         "y": [
          24.4,
          26.5,
          31.5,
          36.5,
          41,
          45.2,
          49.1,
          52.6,
          55.9,
          59,
          61.9,
          64.7,
          67.3,
          69.8,
          72.2,
          74.5,
          76.6,
          78.7,
          80.6,
          82.4,
          84.1,
          85.8,
          87.3,
          88.9,
          90.3,
          91.7,
          93,
          94.3,
          95.5,
          96.7,
          97.8,
          98.9,
          99.9,
          100.9,
          100.9,
          97.6,
          93.5,
          89.7,
          86.5,
          83.6,
          81,
          78.8
         ],
         "yaxis": "y"
        },
        {
         "hovertemplate": "variable=TC26 Busbar Tray MSA Under cover<br>Time=%{x}<br>Temperature (Degrees C)=%{y}<extra></extra>",
         "legendgroup": "TC26 Busbar Tray MSA Under cover",
         "line": {
          "color": "#ab63fa",
          "dash": "solid"
         },
         "marker": {
          "symbol": "circle"
         },
         "mode": "lines",
         "name": "TC26 Busbar Tray MSA Under cover",
         "orientation": "v",
         "showlegend": true,
         "type": "scatter",
         "x": [
          "15:36:00",
          "15:38:00",
          "15:40:00",
          "15:42:00",
          "15:44:00",
          "15:46:00",
          "15:48:00",
          "15:50:00",
          "15:52:00",
          "15:54:00",
          "15:56:00",
          "15:58:00",
          "16:00:00",
          "16:02:00",
          "16:04:00",
          "16:06:00",
          "16:08:00",
          "16:10:00",
          "16:12:00",
          "16:14:00",
          "16:16:00",
          "16:18:00",
          "16:20:00",
          "16:22:00",
          "16:24:00",
          "16:26:00",
          "16:28:00",
          "16:30:00",
          "16:32:00",
          "16:34:00",
          "16:36:00",
          "16:38:00",
          "16:40:00",
          "16:42:00",
          "16:44:00",
          "16:46:00",
          "16:48:00",
          "16:50:00",
          "16:52:00",
          "16:54:00",
          "16:56:00",
          "16:58:00"
         ],
         "xaxis": "x",
         "y": [
          24.2,
          24.8,
          26,
          28,
          30.4,
          32.8,
          35.4,
          37.9,
          40.4,
          42.8,
          45,
          47.4,
          49.6,
          51.7,
          53.8,
          55.8,
          57.6,
          59.5,
          61.2,
          62.9,
          64.4,
          66,
          67.4,
          68.8,
          70.3,
          71.9,
          72.9,
          74,
          75.2,
          76.4,
          77.5,
          78.8,
          79.4,
          80.4,
          80.6,
          80.4,
          79.4,
          77.9,
          76.2,
          74.5,
          72.7,
          71.1
         ],
         "yaxis": "y"
        }
       ],
       "layout": {
        "legend": {
         "title": {
          "text": "variable"
         },
         "tracegroupgap": 0
        },
        "template": {
         "data": {
          "bar": [
           {
            "error_x": {
             "color": "#2a3f5f"
            },
            "error_y": {
             "color": "#2a3f5f"
            },
            "marker": {
             "line": {
              "color": "#E5ECF6",
              "width": 0.5
             },
             "pattern": {
              "fillmode": "overlay",
              "size": 10,
              "solidity": 0.2
             }
            },
            "type": "bar"
           }
          ],
          "barpolar": [
           {
            "marker": {
             "line": {
              "color": "#E5ECF6",
              "width": 0.5
             },
             "pattern": {
              "fillmode": "overlay",
              "size": 10,
              "solidity": 0.2
             }
            },
            "type": "barpolar"
           }
          ],
          "carpet": [
           {
            "aaxis": {
             "endlinecolor": "#2a3f5f",
             "gridcolor": "white",
             "linecolor": "white",
             "minorgridcolor": "white",
             "startlinecolor": "#2a3f5f"
            },
            "baxis": {
             "endlinecolor": "#2a3f5f",
             "gridcolor": "white",
             "linecolor": "white",
             "minorgridcolor": "white",
             "startlinecolor": "#2a3f5f"
            },
            "type": "carpet"
           }
          ],
          "choropleth": [
           {
            "colorbar": {
             "outlinewidth": 0,
             "ticks": ""
            },
            "type": "choropleth"
           }
          ],
          "contour": [
           {
            "colorbar": {
             "outlinewidth": 0,
             "ticks": ""
            },
            "colorscale": [
             [
              0,
              "#0d0887"
             ],
             [
              0.1111111111111111,
              "#46039f"
             ],
             [
              0.2222222222222222,
              "#7201a8"
             ],
             [
              0.3333333333333333,
              "#9c179e"
             ],
             [
              0.4444444444444444,
              "#bd3786"
             ],
             [
              0.5555555555555556,
              "#d8576b"
             ],
             [
              0.6666666666666666,
              "#ed7953"
             ],
             [
              0.7777777777777778,
              "#fb9f3a"
             ],
             [
              0.8888888888888888,
              "#fdca26"
             ],
             [
              1,
              "#f0f921"
             ]
            ],
            "type": "contour"
           }
          ],
          "contourcarpet": [
           {
            "colorbar": {
             "outlinewidth": 0,
             "ticks": ""
            },
            "type": "contourcarpet"
           }
          ],
          "heatmap": [
           {
            "colorbar": {
             "outlinewidth": 0,
             "ticks": ""
            },
            "colorscale": [
             [
              0,
              "#0d0887"
             ],
             [
              0.1111111111111111,
              "#46039f"
             ],
             [
              0.2222222222222222,
              "#7201a8"
             ],
             [
              0.3333333333333333,
              "#9c179e"
             ],
             [
              0.4444444444444444,
              "#bd3786"
             ],
             [
              0.5555555555555556,
              "#d8576b"
             ],
             [
              0.6666666666666666,
              "#ed7953"
             ],
             [
              0.7777777777777778,
              "#fb9f3a"
             ],
             [
              0.8888888888888888,
              "#fdca26"
             ],
             [
              1,
              "#f0f921"
             ]
            ],
            "type": "heatmap"
           }
          ],
          "heatmapgl": [
           {
            "colorbar": {
             "outlinewidth": 0,
             "ticks": ""
            },
            "colorscale": [
             [
              0,
              "#0d0887"
             ],
             [
              0.1111111111111111,
              "#46039f"
             ],
             [
              0.2222222222222222,
              "#7201a8"
             ],
             [
              0.3333333333333333,
              "#9c179e"
             ],
             [
              0.4444444444444444,
              "#bd3786"
             ],
             [
              0.5555555555555556,
              "#d8576b"
             ],
             [
              0.6666666666666666,
              "#ed7953"
             ],
             [
              0.7777777777777778,
              "#fb9f3a"
             ],
             [
              0.8888888888888888,
              "#fdca26"
             ],
             [
              1,
              "#f0f921"
             ]
            ],
            "type": "heatmapgl"
           }
          ],
          "histogram": [
           {
            "marker": {
             "pattern": {
              "fillmode": "overlay",
              "size": 10,
              "solidity": 0.2
             }
            },
            "type": "histogram"
           }
          ],
          "histogram2d": [
           {
            "colorbar": {
             "outlinewidth": 0,
             "ticks": ""
            },
            "colorscale": [
             [
              0,
              "#0d0887"
             ],
             [
              0.1111111111111111,
              "#46039f"
             ],
             [
              0.2222222222222222,
              "#7201a8"
             ],
             [
              0.3333333333333333,
              "#9c179e"
             ],
             [
              0.4444444444444444,
              "#bd3786"
             ],
             [
              0.5555555555555556,
              "#d8576b"
             ],
             [
              0.6666666666666666,
              "#ed7953"
             ],
             [
              0.7777777777777778,
              "#fb9f3a"
             ],
             [
              0.8888888888888888,
              "#fdca26"
             ],
             [
              1,
              "#f0f921"
             ]
            ],
            "type": "histogram2d"
           }
          ],
          "histogram2dcontour": [
           {
            "colorbar": {
             "outlinewidth": 0,
             "ticks": ""
            },
            "colorscale": [
             [
              0,
              "#0d0887"
             ],
             [
              0.1111111111111111,
              "#46039f"
             ],
             [
              0.2222222222222222,
              "#7201a8"
             ],
             [
              0.3333333333333333,
              "#9c179e"
             ],
             [
              0.4444444444444444,
              "#bd3786"
             ],
             [
              0.5555555555555556,
              "#d8576b"
             ],
             [
              0.6666666666666666,
              "#ed7953"
             ],
             [
              0.7777777777777778,
              "#fb9f3a"
             ],
             [
              0.8888888888888888,
              "#fdca26"
             ],
             [
              1,
              "#f0f921"
             ]
            ],
            "type": "histogram2dcontour"
           }
          ],
          "mesh3d": [
           {
            "colorbar": {
             "outlinewidth": 0,
             "ticks": ""
            },
            "type": "mesh3d"
           }
          ],
          "parcoords": [
           {
            "line": {
             "colorbar": {
              "outlinewidth": 0,
              "ticks": ""
             }
            },
            "type": "parcoords"
           }
          ],
          "pie": [
           {
            "automargin": true,
            "type": "pie"
           }
          ],
          "scatter": [
           {
            "fillpattern": {
             "fillmode": "overlay",
             "size": 10,
             "solidity": 0.2
            },
            "type": "scatter"
           }
          ],
          "scatter3d": [
           {
            "line": {
             "colorbar": {
              "outlinewidth": 0,
              "ticks": ""
             }
            },
            "marker": {
             "colorbar": {
              "outlinewidth": 0,
              "ticks": ""
             }
            },
            "type": "scatter3d"
           }
          ],
          "scattercarpet": [
           {
            "marker": {
             "colorbar": {
              "outlinewidth": 0,
              "ticks": ""
             }
            },
            "type": "scattercarpet"
           }
          ],
          "scattergeo": [
           {
            "marker": {
             "colorbar": {
              "outlinewidth": 0,
              "ticks": ""
             }
            },
            "type": "scattergeo"
           }
          ],
          "scattergl": [
           {
            "marker": {
             "colorbar": {
              "outlinewidth": 0,
              "ticks": ""
             }
            },
            "type": "scattergl"
           }
          ],
          "scattermapbox": [
           {
            "marker": {
             "colorbar": {
              "outlinewidth": 0,
              "ticks": ""
             }
            },
            "type": "scattermapbox"
           }
          ],
          "scatterpolar": [
           {
            "marker": {
             "colorbar": {
              "outlinewidth": 0,
              "ticks": ""
             }
            },
            "type": "scatterpolar"
           }
          ],
          "scatterpolargl": [
           {
            "marker": {
             "colorbar": {
              "outlinewidth": 0,
              "ticks": ""
             }
            },
            "type": "scatterpolargl"
           }
          ],
          "scatterternary": [
           {
            "marker": {
             "colorbar": {
              "outlinewidth": 0,
              "ticks": ""
             }
            },
            "type": "scatterternary"
           }
          ],
          "surface": [
           {
            "colorbar": {
             "outlinewidth": 0,
             "ticks": ""
            },
            "colorscale": [
             [
              0,
              "#0d0887"
             ],
             [
              0.1111111111111111,
              "#46039f"
             ],
             [
              0.2222222222222222,
              "#7201a8"
             ],
             [
              0.3333333333333333,
              "#9c179e"
             ],
             [
              0.4444444444444444,
              "#bd3786"
             ],
             [
              0.5555555555555556,
              "#d8576b"
             ],
             [
              0.6666666666666666,
              "#ed7953"
             ],
             [
              0.7777777777777778,
              "#fb9f3a"
             ],
             [
              0.8888888888888888,
              "#fdca26"
             ],
             [
              1,
              "#f0f921"
             ]
            ],
            "type": "surface"
           }
          ],
          "table": [
           {
            "cells": {
             "fill": {
              "color": "#EBF0F8"
             },
             "line": {
              "color": "white"
             }
            },
            "header": {
             "fill": {
              "color": "#C8D4E3"
             },
             "line": {
              "color": "white"
             }
            },
            "type": "table"
           }
          ]
         },
         "layout": {
          "annotationdefaults": {
           "arrowcolor": "#2a3f5f",
           "arrowhead": 0,
           "arrowwidth": 1
          },
          "autotypenumbers": "strict",
          "coloraxis": {
           "colorbar": {
            "outlinewidth": 0,
            "ticks": ""
           }
          },
          "colorscale": {
           "diverging": [
            [
             0,
             "#8e0152"
            ],
            [
             0.1,
             "#c51b7d"
            ],
            [
             0.2,
             "#de77ae"
            ],
            [
             0.3,
             "#f1b6da"
            ],
            [
             0.4,
             "#fde0ef"
            ],
            [
             0.5,
             "#f7f7f7"
            ],
            [
             0.6,
             "#e6f5d0"
            ],
            [
             0.7,
             "#b8e186"
            ],
            [
             0.8,
             "#7fbc41"
            ],
            [
             0.9,
             "#4d9221"
            ],
            [
             1,
             "#276419"
            ]
           ],
           "sequential": [
            [
             0,
             "#0d0887"
            ],
            [
             0.1111111111111111,
             "#46039f"
            ],
            [
             0.2222222222222222,
             "#7201a8"
            ],
            [
             0.3333333333333333,
             "#9c179e"
            ],
            [
             0.4444444444444444,
             "#bd3786"
            ],
            [
             0.5555555555555556,
             "#d8576b"
            ],
            [
             0.6666666666666666,
             "#ed7953"
            ],
            [
             0.7777777777777778,
             "#fb9f3a"
            ],
            [
             0.8888888888888888,
             "#fdca26"
            ],
            [
             1,
             "#f0f921"
            ]
           ],
           "sequentialminus": [
            [
             0,
             "#0d0887"
            ],
            [
             0.1111111111111111,
             "#46039f"
            ],
            [
             0.2222222222222222,
             "#7201a8"
            ],
            [
             0.3333333333333333,
             "#9c179e"
            ],
            [
             0.4444444444444444,
             "#bd3786"
            ],
            [
             0.5555555555555556,
             "#d8576b"
            ],
            [
             0.6666666666666666,
             "#ed7953"
            ],
            [
             0.7777777777777778,
             "#fb9f3a"
            ],
            [
             0.8888888888888888,
             "#fdca26"
            ],
            [
             1,
             "#f0f921"
            ]
           ]
          },
          "colorway": [
           "#636efa",
           "#EF553B",
           "#00cc96",
           "#ab63fa",
           "#FFA15A",
           "#19d3f3",
           "#FF6692",
           "#B6E880",
           "#FF97FF",
           "#FECB52"
          ],
          "font": {
           "color": "#2a3f5f"
          },
          "geo": {
           "bgcolor": "white",
           "lakecolor": "white",
           "landcolor": "#E5ECF6",
           "showlakes": true,
           "showland": true,
           "subunitcolor": "white"
          },
          "hoverlabel": {
           "align": "left"
          },
          "hovermode": "closest",
          "mapbox": {
           "style": "light"
          },
          "paper_bgcolor": "white",
          "plot_bgcolor": "#E5ECF6",
          "polar": {
           "angularaxis": {
            "gridcolor": "white",
            "linecolor": "white",
            "ticks": ""
           },
           "bgcolor": "#E5ECF6",
           "radialaxis": {
            "gridcolor": "white",
            "linecolor": "white",
            "ticks": ""
           }
          },
          "scene": {
           "xaxis": {
            "backgroundcolor": "#E5ECF6",
            "gridcolor": "white",
            "gridwidth": 2,
            "linecolor": "white",
            "showbackground": true,
            "ticks": "",
            "zerolinecolor": "white"
           },
           "yaxis": {
            "backgroundcolor": "#E5ECF6",
            "gridcolor": "white",
            "gridwidth": 2,
            "linecolor": "white",
            "showbackground": true,
            "ticks": "",
            "zerolinecolor": "white"
           },
           "zaxis": {
            "backgroundcolor": "#E5ECF6",
            "gridcolor": "white",
            "gridwidth": 2,
            "linecolor": "white",
            "showbackground": true,
            "ticks": "",
            "zerolinecolor": "white"
           }
          },
          "shapedefaults": {
           "line": {
            "color": "#2a3f5f"
           }
          },
          "ternary": {
           "aaxis": {
            "gridcolor": "white",
            "linecolor": "white",
            "ticks": ""
           },
           "baxis": {
            "gridcolor": "white",
            "linecolor": "white",
            "ticks": ""
           },
           "bgcolor": "#E5ECF6",
           "caxis": {
            "gridcolor": "white",
            "linecolor": "white",
            "ticks": ""
           }
          },
          "title": {
           "x": 0.05
          },
          "xaxis": {
           "automargin": true,
           "gridcolor": "white",
           "linecolor": "white",
           "ticks": "",
           "title": {
            "standoff": 15
           },
           "zerolinecolor": "white",
           "zerolinewidth": 2
          },
          "yaxis": {
           "automargin": true,
           "gridcolor": "white",
           "linecolor": "white",
           "ticks": "",
           "title": {
            "standoff": 15
           },
           "zerolinecolor": "white",
           "zerolinewidth": 2
          }
         }
        },
        "title": {
         "text": "Original Data"
        },
        "xaxis": {
         "anchor": "y",
         "domain": [
          0,
          1
         ],
         "title": {
          "text": "Time"
         }
        },
        "yaxis": {
         "anchor": "x",
         "domain": [
          0,
          1
         ],
         "title": {
          "text": "Temperature (Degrees C)"
         }
        }
       }
      }
     },
     "metadata": {},
     "output_type": "display_data"
    }
   ],
   "source": [
    "# plot all columns of the original df using plotly and display in this notebook\n",
    "msa_columns = [col for col in df_original.columns if 'MSA' in col]\n",
    "\n",
    "# fig = px.line(df_original, x=df_original['Time'], y=msa_columns, yaxis_title='Temperature (Degrees C)', title='Original Data')\n",
    "fig = px.line(df_original, x='Time', y=msa_columns, title='Original Data', \n",
    "              labels={'value': 'Temperature (Degrees C)'})\n",
    "\n",
    "fig.show()\n"
   ]
  },
  {
   "cell_type": "markdown",
   "metadata": {},
   "source": [
    "# Process Data\n",
    "## now we have a dataframe for the notebook work\n",
    "\n",
    "1. split the data into two tests 25C and 50C\n",
    "2. for each test, we need max temp of each TC\n",
    "3. downsample the data into 15 minute intervals\n",
    "4. combine downsampled data and TC max\n",
    "5. Transpose the result\n",
    "6. re-arrange the rows to match the order in the TDP"
   ]
  },
  {
   "cell_type": "markdown",
   "metadata": {},
   "source": [
    "# Split data into two test periods\n",
    "If data represents only one single test, set 'test_1' to 'df_original'"
   ]
  },
  {
   "cell_type": "code",
   "execution_count": 32,
   "metadata": {},
   "outputs": [],
   "source": [
    "\n",
    "\n",
    "def split_dataframe_by_time_old(df, d1_start_time, d1_end_time, d2_start_time, d2_end_time, use_last_entry=False):\n",
    "    # Convert 'Time' to timedelta for filtering\n",
    "    df['Timedelta'] = pd.to_timedelta(df['Time'])\n",
    "\n",
    "    # Convert input times to Timedelta\n",
    "    d1_start_time = pd.to_timedelta(d1_start_time)\n",
    "    d1_end_time = pd.to_timedelta(d1_end_time)\n",
    "    d2_start_time = pd.to_timedelta(d2_start_time)\n",
    "    d2_end_time = pd.to_timedelta(d2_end_time)\n",
    "\n",
    "    # Filter rows based on time range\n",
    "    df1 = df[(df['Timedelta'] >= d1_start_time) & (df['Timedelta'] <= d1_end_time)]\n",
    "    if use_last_entry:\n",
    "        df2 = df[(df['Timedelta'] >= d2_start_time)]\n",
    "    else:\n",
    "        df2 = df[(df['Timedelta'] >= d2_start_time) & (df['Timedelta'] <= d2_end_time)]\n",
    "    \n",
    "    return df1, df2\n"
   ]
  },
  {
   "cell_type": "code",
   "execution_count": 33,
   "metadata": {},
   "outputs": [
    {
     "data": {
      "text/plain": [
       "((35, 39), (0, 39))"
      ]
     },
     "execution_count": 33,
     "metadata": {},
     "output_type": "execute_result"
    }
   ],
   "source": [
    "\n",
    "def split_dataframe_by_time(df, first_period_start, first_period_end, second_period_start, second_period_end=None, use_last_entry=False):\n",
    "    \"\"\"\n",
    "    Splits a DataFrame into two based on specified time ranges. The end time for the second period is optional if \n",
    "    use_last_entry is True.\n",
    "    \n",
    "    Args:\n",
    "        df (DataFrame): The DataFrame to split.\n",
    "        first_period_start (str): Start time for the first period.\n",
    "        first_period_end (str): End time for the first period.\n",
    "        second_period_start (str): Start time for the second period.\n",
    "        second_period_end (str, optional): End time for the second period. Default is None.\n",
    "        use_last_entry (bool): If True, the second DataFrame includes all entries from the start time to the last entry.\n",
    "\n",
    "    Returns:\n",
    "        tuple: Two DataFrames split based on the specified time periods.\n",
    "    \"\"\"\n",
    "    # Ensure 'Time' is in Timedelta format\n",
    "    if not isinstance(df['Time'].iloc[0], pd.Timedelta):\n",
    "        df['Timedelta'] = pd.to_timedelta(df['Time'])\n",
    "\n",
    "    # Convert input times to Timedelta\n",
    "    first_start_td = pd.to_timedelta(first_period_start)\n",
    "    first_end_td = pd.to_timedelta(first_period_end)\n",
    "    second_start_td = pd.to_timedelta(second_period_start)\n",
    "    \n",
    "    # Split the DataFrame for the first period\n",
    "    df1 = df[(df['Timedelta'] >= first_start_td) & (df['Timedelta'] <= first_end_td)]\n",
    "\n",
    "    # Split the DataFrame for the second period\n",
    "    if use_last_entry:\n",
    "        df2 = df[df['Timedelta'] >= second_start_td]\n",
    "    else:\n",
    "        if second_period_end is not None:\n",
    "            second_end_td = pd.to_timedelta(second_period_end)\n",
    "            df2 = df[(df['Timedelta'] >= second_start_td) & (df['Timedelta'] <= second_end_td)]\n",
    "        else:\n",
    "            raise ValueError(\"second_period_end must be specified if use_last_entry is False.\")\n",
    "\n",
    "    return df1, df2\n",
    "\n",
    "\n",
    "\n",
    "\n",
    "# input start and end times of each test data set\n",
    "test_1, test_2 = split_dataframe_by_time(df_original, \n",
    "                    first_period_start='15:38:00',\n",
    "                    first_period_end='16:46:20',\n",
    "                    second_period_start='16:46:20',\n",
    "                    # if d2_end_time < d2_start_time, then d2_end_time = last entry in df\n",
    "                    second_period_end='16:46:00',\n",
    "                    use_last_entry=False \n",
    "                    )\n",
    "test_1.shape, test_2.shape"
   ]
  },
  {
   "cell_type": "code",
   "execution_count": 34,
   "metadata": {},
   "outputs": [
    {
     "data": {
      "text/html": [
       "<div>\n",
       "<style scoped>\n",
       "    .dataframe tbody tr th:only-of-type {\n",
       "        vertical-align: middle;\n",
       "    }\n",
       "\n",
       "    .dataframe tbody tr th {\n",
       "        vertical-align: top;\n",
       "    }\n",
       "\n",
       "    .dataframe thead th {\n",
       "        text-align: right;\n",
       "    }\n",
       "</style>\n",
       "<table border=\"1\" class=\"dataframe\">\n",
       "  <thead>\n",
       "    <tr style=\"text-align: right;\">\n",
       "      <th></th>\n",
       "      <th>Date</th>\n",
       "      <th>Time</th>\n",
       "      <th>TC1 Gasket</th>\n",
       "      <th>TC2 Supply Lug</th>\n",
       "      <th>TC3 Backup Lug</th>\n",
       "      <th>TC4 Subpanel Lug</th>\n",
       "      <th>TC5 MSA Busbar</th>\n",
       "      <th>TC6 Glass Door</th>\n",
       "      <th>TC7 Upper Enclosure Ambient</th>\n",
       "      <th>TC8 Lower Enclosure Ambient</th>\n",
       "      <th>...</th>\n",
       "      <th>TC28 MCB Ambient</th>\n",
       "      <th>TC29 Capacitor (C44)</th>\n",
       "      <th>TC30 Winding Internal Side Trans</th>\n",
       "      <th>TC32 Busbar L1 Neut to Relay</th>\n",
       "      <th>TC34 Cap on Holdup PCB</th>\n",
       "      <th>TC36 TACO PCB</th>\n",
       "      <th>TC31 Windings of Transformer</th>\n",
       "      <th>TC35 Holdup PCB under Power</th>\n",
       "      <th>TC33 Busbar L2 Neut to Relay</th>\n",
       "      <th>Timedelta</th>\n",
       "    </tr>\n",
       "  </thead>\n",
       "  <tbody>\n",
       "    <tr>\n",
       "      <th>1</th>\n",
       "      <td>2023/12/13</td>\n",
       "      <td>15:38:00</td>\n",
       "      <td>23.6</td>\n",
       "      <td>24.1</td>\n",
       "      <td>23.0</td>\n",
       "      <td>23.9</td>\n",
       "      <td>29.0</td>\n",
       "      <td>23.6</td>\n",
       "      <td>26.4</td>\n",
       "      <td>22.9</td>\n",
       "      <td>...</td>\n",
       "      <td>23.5</td>\n",
       "      <td>24.8</td>\n",
       "      <td>25.6</td>\n",
       "      <td>24.5</td>\n",
       "      <td>27.1</td>\n",
       "      <td>34.8</td>\n",
       "      <td>25.9</td>\n",
       "      <td>26.1</td>\n",
       "      <td>24.3</td>\n",
       "      <td>0 days 15:38:00</td>\n",
       "    </tr>\n",
       "    <tr>\n",
       "      <th>2</th>\n",
       "      <td>2023/12/13</td>\n",
       "      <td>15:40:00</td>\n",
       "      <td>23.6</td>\n",
       "      <td>26.9</td>\n",
       "      <td>23.5</td>\n",
       "      <td>25.7</td>\n",
       "      <td>38.2</td>\n",
       "      <td>23.6</td>\n",
       "      <td>26.5</td>\n",
       "      <td>23.0</td>\n",
       "      <td>...</td>\n",
       "      <td>24.9</td>\n",
       "      <td>25.6</td>\n",
       "      <td>25.7</td>\n",
       "      <td>26.7</td>\n",
       "      <td>27.1</td>\n",
       "      <td>31.6</td>\n",
       "      <td>25.9</td>\n",
       "      <td>26.3</td>\n",
       "      <td>26.8</td>\n",
       "      <td>0 days 15:40:00</td>\n",
       "    </tr>\n",
       "    <tr>\n",
       "      <th>3</th>\n",
       "      <td>2023/12/13</td>\n",
       "      <td>15:42:00</td>\n",
       "      <td>23.6</td>\n",
       "      <td>29.8</td>\n",
       "      <td>24.3</td>\n",
       "      <td>27.4</td>\n",
       "      <td>45.9</td>\n",
       "      <td>23.6</td>\n",
       "      <td>26.5</td>\n",
       "      <td>23.2</td>\n",
       "      <td>...</td>\n",
       "      <td>26.6</td>\n",
       "      <td>27.0</td>\n",
       "      <td>25.7</td>\n",
       "      <td>29.7</td>\n",
       "      <td>27.0</td>\n",
       "      <td>29.7</td>\n",
       "      <td>25.9</td>\n",
       "      <td>26.4</td>\n",
       "      <td>30.1</td>\n",
       "      <td>0 days 15:42:00</td>\n",
       "    </tr>\n",
       "    <tr>\n",
       "      <th>4</th>\n",
       "      <td>2023/12/13</td>\n",
       "      <td>15:44:00</td>\n",
       "      <td>23.7</td>\n",
       "      <td>32.6</td>\n",
       "      <td>25.3</td>\n",
       "      <td>29.0</td>\n",
       "      <td>52.4</td>\n",
       "      <td>23.6</td>\n",
       "      <td>26.7</td>\n",
       "      <td>23.5</td>\n",
       "      <td>...</td>\n",
       "      <td>28.0</td>\n",
       "      <td>28.9</td>\n",
       "      <td>25.7</td>\n",
       "      <td>32.8</td>\n",
       "      <td>27.0</td>\n",
       "      <td>29.3</td>\n",
       "      <td>26.0</td>\n",
       "      <td>26.5</td>\n",
       "      <td>33.6</td>\n",
       "      <td>0 days 15:44:00</td>\n",
       "    </tr>\n",
       "    <tr>\n",
       "      <th>5</th>\n",
       "      <td>2023/12/13</td>\n",
       "      <td>15:46:00</td>\n",
       "      <td>23.8</td>\n",
       "      <td>35.3</td>\n",
       "      <td>26.4</td>\n",
       "      <td>30.5</td>\n",
       "      <td>57.9</td>\n",
       "      <td>23.6</td>\n",
       "      <td>26.9</td>\n",
       "      <td>23.8</td>\n",
       "      <td>...</td>\n",
       "      <td>29.2</td>\n",
       "      <td>31.2</td>\n",
       "      <td>25.8</td>\n",
       "      <td>35.8</td>\n",
       "      <td>27.3</td>\n",
       "      <td>29.5</td>\n",
       "      <td>26.2</td>\n",
       "      <td>26.7</td>\n",
       "      <td>36.9</td>\n",
       "      <td>0 days 15:46:00</td>\n",
       "    </tr>\n",
       "  </tbody>\n",
       "</table>\n",
       "<p>5 rows × 39 columns</p>\n",
       "</div>"
      ],
      "text/plain": [
       "         Date      Time  TC1 Gasket  TC2 Supply Lug  TC3 Backup Lug  \\\n",
       "1  2023/12/13  15:38:00        23.6            24.1            23.0   \n",
       "2  2023/12/13  15:40:00        23.6            26.9            23.5   \n",
       "3  2023/12/13  15:42:00        23.6            29.8            24.3   \n",
       "4  2023/12/13  15:44:00        23.7            32.6            25.3   \n",
       "5  2023/12/13  15:46:00        23.8            35.3            26.4   \n",
       "\n",
       "   TC4 Subpanel Lug  TC5 MSA Busbar  TC6 Glass Door  \\\n",
       "1              23.9            29.0            23.6   \n",
       "2              25.7            38.2            23.6   \n",
       "3              27.4            45.9            23.6   \n",
       "4              29.0            52.4            23.6   \n",
       "5              30.5            57.9            23.6   \n",
       "\n",
       "   TC7 Upper Enclosure Ambient  TC8 Lower Enclosure Ambient  ...  \\\n",
       "1                         26.4                         22.9  ...   \n",
       "2                         26.5                         23.0  ...   \n",
       "3                         26.5                         23.2  ...   \n",
       "4                         26.7                         23.5  ...   \n",
       "5                         26.9                         23.8  ...   \n",
       "\n",
       "   TC28 MCB Ambient  TC29 Capacitor (C44)  TC30 Winding Internal Side Trans  \\\n",
       "1              23.5                  24.8                              25.6   \n",
       "2              24.9                  25.6                              25.7   \n",
       "3              26.6                  27.0                              25.7   \n",
       "4              28.0                  28.9                              25.7   \n",
       "5              29.2                  31.2                              25.8   \n",
       "\n",
       "   TC32 Busbar L1 Neut to Relay  TC34 Cap on Holdup PCB  TC36 TACO PCB  \\\n",
       "1                          24.5                    27.1           34.8   \n",
       "2                          26.7                    27.1           31.6   \n",
       "3                          29.7                    27.0           29.7   \n",
       "4                          32.8                    27.0           29.3   \n",
       "5                          35.8                    27.3           29.5   \n",
       "\n",
       "   TC31 Windings of Transformer  TC35 Holdup PCB under Power  \\\n",
       "1                          25.9                         26.1   \n",
       "2                          25.9                         26.3   \n",
       "3                          25.9                         26.4   \n",
       "4                          26.0                         26.5   \n",
       "5                          26.2                         26.7   \n",
       "\n",
       "   TC33 Busbar L2 Neut to Relay       Timedelta  \n",
       "1                          24.3 0 days 15:38:00  \n",
       "2                          26.8 0 days 15:40:00  \n",
       "3                          30.1 0 days 15:42:00  \n",
       "4                          33.6 0 days 15:44:00  \n",
       "5                          36.9 0 days 15:46:00  \n",
       "\n",
       "[5 rows x 39 columns]"
      ]
     },
     "execution_count": 34,
     "metadata": {},
     "output_type": "execute_result"
    }
   ],
   "source": [
    "test_1.head()"
   ]
  },
  {
   "cell_type": "code",
   "execution_count": 35,
   "metadata": {},
   "outputs": [],
   "source": [
    "def get_max_values(df):\n",
    "    # # Find the max value for each column\n",
    "    max_values = df.max()\n",
    "\n",
    "    max_values_df = pd.DataFrame([max_values])\n",
    "\n",
    "    return max_values_df\n",
    "\n",
    "max_values_df_test_1 = get_max_values(test_1)\n",
    "# max_values_df_test_2 = get_max_values(test_2)\n"
   ]
  },
  {
   "cell_type": "markdown",
   "metadata": {},
   "source": [
    "# Downsample to get 15 minute intervals"
   ]
  },
  {
   "cell_type": "code",
   "execution_count": 36,
   "metadata": {},
   "outputs": [
    {
     "data": {
      "text/html": [
       "<div>\n",
       "<style scoped>\n",
       "    .dataframe tbody tr th:only-of-type {\n",
       "        vertical-align: middle;\n",
       "    }\n",
       "\n",
       "    .dataframe tbody tr th {\n",
       "        vertical-align: top;\n",
       "    }\n",
       "\n",
       "    .dataframe thead th {\n",
       "        text-align: right;\n",
       "    }\n",
       "</style>\n",
       "<table border=\"1\" class=\"dataframe\">\n",
       "  <thead>\n",
       "    <tr style=\"text-align: right;\">\n",
       "      <th></th>\n",
       "      <th>Date</th>\n",
       "      <th>Time</th>\n",
       "      <th>TC1 Gasket</th>\n",
       "      <th>TC2 Supply Lug</th>\n",
       "      <th>TC3 Backup Lug</th>\n",
       "      <th>TC4 Subpanel Lug</th>\n",
       "      <th>TC5 MSA Busbar</th>\n",
       "      <th>TC6 Glass Door</th>\n",
       "      <th>TC7 Upper Enclosure Ambient</th>\n",
       "      <th>TC8 Lower Enclosure Ambient</th>\n",
       "      <th>...</th>\n",
       "      <th>TC28 MCB Ambient</th>\n",
       "      <th>TC29 Capacitor (C44)</th>\n",
       "      <th>TC30 Winding Internal Side Trans</th>\n",
       "      <th>TC32 Busbar L1 Neut to Relay</th>\n",
       "      <th>TC34 Cap on Holdup PCB</th>\n",
       "      <th>TC36 TACO PCB</th>\n",
       "      <th>TC31 Windings of Transformer</th>\n",
       "      <th>TC35 Holdup PCB under Power</th>\n",
       "      <th>TC33 Busbar L2 Neut to Relay</th>\n",
       "      <th>Timedelta</th>\n",
       "    </tr>\n",
       "  </thead>\n",
       "  <tbody>\n",
       "    <tr>\n",
       "      <th>1</th>\n",
       "      <td>2023/12/13</td>\n",
       "      <td>15:38:00</td>\n",
       "      <td>23.6</td>\n",
       "      <td>24.1</td>\n",
       "      <td>23.0</td>\n",
       "      <td>23.9</td>\n",
       "      <td>29.0</td>\n",
       "      <td>23.6</td>\n",
       "      <td>26.4</td>\n",
       "      <td>22.9</td>\n",
       "      <td>...</td>\n",
       "      <td>23.5</td>\n",
       "      <td>24.8</td>\n",
       "      <td>25.6</td>\n",
       "      <td>24.5</td>\n",
       "      <td>27.1</td>\n",
       "      <td>34.8</td>\n",
       "      <td>25.9</td>\n",
       "      <td>26.1</td>\n",
       "      <td>24.3</td>\n",
       "      <td>0 days 15:38:00</td>\n",
       "    </tr>\n",
       "    <tr>\n",
       "      <th>8</th>\n",
       "      <td>2023/12/13</td>\n",
       "      <td>15:52:00</td>\n",
       "      <td>24.4</td>\n",
       "      <td>42.3</td>\n",
       "      <td>29.9</td>\n",
       "      <td>34.5</td>\n",
       "      <td>70.7</td>\n",
       "      <td>23.9</td>\n",
       "      <td>28.0</td>\n",
       "      <td>24.9</td>\n",
       "      <td>...</td>\n",
       "      <td>31.7</td>\n",
       "      <td>38.7</td>\n",
       "      <td>26.2</td>\n",
       "      <td>44.0</td>\n",
       "      <td>28.3</td>\n",
       "      <td>30.9</td>\n",
       "      <td>26.9</td>\n",
       "      <td>27.5</td>\n",
       "      <td>46.0</td>\n",
       "      <td>0 days 15:52:00</td>\n",
       "    </tr>\n",
       "    <tr>\n",
       "      <th>15</th>\n",
       "      <td>2023/12/13</td>\n",
       "      <td>16:06:00</td>\n",
       "      <td>26.7</td>\n",
       "      <td>54.3</td>\n",
       "      <td>37.4</td>\n",
       "      <td>42.0</td>\n",
       "      <td>90.0</td>\n",
       "      <td>25.3</td>\n",
       "      <td>31.8</td>\n",
       "      <td>27.7</td>\n",
       "      <td>...</td>\n",
       "      <td>37.1</td>\n",
       "      <td>56.0</td>\n",
       "      <td>27.9</td>\n",
       "      <td>59.4</td>\n",
       "      <td>32.3</td>\n",
       "      <td>35.7</td>\n",
       "      <td>29.5</td>\n",
       "      <td>30.6</td>\n",
       "      <td>62.2</td>\n",
       "      <td>0 days 16:06:00</td>\n",
       "    </tr>\n",
       "    <tr>\n",
       "      <th>22</th>\n",
       "      <td>2023/12/13</td>\n",
       "      <td>16:20:00</td>\n",
       "      <td>29.3</td>\n",
       "      <td>62.4</td>\n",
       "      <td>43.3</td>\n",
       "      <td>47.9</td>\n",
       "      <td>102.8</td>\n",
       "      <td>27.4</td>\n",
       "      <td>35.8</td>\n",
       "      <td>30.1</td>\n",
       "      <td>...</td>\n",
       "      <td>41.3</td>\n",
       "      <td>69.6</td>\n",
       "      <td>30.0</td>\n",
       "      <td>70.9</td>\n",
       "      <td>36.5</td>\n",
       "      <td>40.3</td>\n",
       "      <td>32.1</td>\n",
       "      <td>34.1</td>\n",
       "      <td>73.9</td>\n",
       "      <td>0 days 16:20:00</td>\n",
       "    </tr>\n",
       "    <tr>\n",
       "      <th>29</th>\n",
       "      <td>2023/12/13</td>\n",
       "      <td>16:34:00</td>\n",
       "      <td>31.9</td>\n",
       "      <td>68.2</td>\n",
       "      <td>48.1</td>\n",
       "      <td>52.7</td>\n",
       "      <td>112.2</td>\n",
       "      <td>29.6</td>\n",
       "      <td>39.4</td>\n",
       "      <td>32.4</td>\n",
       "      <td>...</td>\n",
       "      <td>44.0</td>\n",
       "      <td>80.1</td>\n",
       "      <td>32.6</td>\n",
       "      <td>79.9</td>\n",
       "      <td>40.5</td>\n",
       "      <td>44.5</td>\n",
       "      <td>35.0</td>\n",
       "      <td>37.4</td>\n",
       "      <td>82.6</td>\n",
       "      <td>0 days 16:34:00</td>\n",
       "    </tr>\n",
       "  </tbody>\n",
       "</table>\n",
       "<p>5 rows × 39 columns</p>\n",
       "</div>"
      ],
      "text/plain": [
       "          Date      Time  TC1 Gasket  TC2 Supply Lug  TC3 Backup Lug  \\\n",
       "1   2023/12/13  15:38:00        23.6            24.1            23.0   \n",
       "8   2023/12/13  15:52:00        24.4            42.3            29.9   \n",
       "15  2023/12/13  16:06:00        26.7            54.3            37.4   \n",
       "22  2023/12/13  16:20:00        29.3            62.4            43.3   \n",
       "29  2023/12/13  16:34:00        31.9            68.2            48.1   \n",
       "\n",
       "    TC4 Subpanel Lug  TC5 MSA Busbar  TC6 Glass Door  \\\n",
       "1               23.9            29.0            23.6   \n",
       "8               34.5            70.7            23.9   \n",
       "15              42.0            90.0            25.3   \n",
       "22              47.9           102.8            27.4   \n",
       "29              52.7           112.2            29.6   \n",
       "\n",
       "    TC7 Upper Enclosure Ambient  TC8 Lower Enclosure Ambient  ...  \\\n",
       "1                          26.4                         22.9  ...   \n",
       "8                          28.0                         24.9  ...   \n",
       "15                         31.8                         27.7  ...   \n",
       "22                         35.8                         30.1  ...   \n",
       "29                         39.4                         32.4  ...   \n",
       "\n",
       "    TC28 MCB Ambient  TC29 Capacitor (C44)  TC30 Winding Internal Side Trans  \\\n",
       "1               23.5                  24.8                              25.6   \n",
       "8               31.7                  38.7                              26.2   \n",
       "15              37.1                  56.0                              27.9   \n",
       "22              41.3                  69.6                              30.0   \n",
       "29              44.0                  80.1                              32.6   \n",
       "\n",
       "    TC32 Busbar L1 Neut to Relay  TC34 Cap on Holdup PCB  TC36 TACO PCB  \\\n",
       "1                           24.5                    27.1           34.8   \n",
       "8                           44.0                    28.3           30.9   \n",
       "15                          59.4                    32.3           35.7   \n",
       "22                          70.9                    36.5           40.3   \n",
       "29                          79.9                    40.5           44.5   \n",
       "\n",
       "    TC31 Windings of Transformer  TC35 Holdup PCB under Power  \\\n",
       "1                           25.9                         26.1   \n",
       "8                           26.9                         27.5   \n",
       "15                          29.5                         30.6   \n",
       "22                          32.1                         34.1   \n",
       "29                          35.0                         37.4   \n",
       "\n",
       "    TC33 Busbar L2 Neut to Relay       Timedelta  \n",
       "1                           24.3 0 days 15:38:00  \n",
       "8                           46.0 0 days 15:52:00  \n",
       "15                          62.2 0 days 16:06:00  \n",
       "22                          73.9 0 days 16:20:00  \n",
       "29                          82.6 0 days 16:34:00  \n",
       "\n",
       "[5 rows x 39 columns]"
      ]
     },
     "execution_count": 36,
     "metadata": {},
     "output_type": "execute_result"
    }
   ],
   "source": [
    "# Usage\n",
    "test_1_15_min = test_1.iloc[::7, :]\n",
    "test_1_15_min.head()"
   ]
  },
  {
   "cell_type": "code",
   "execution_count": 37,
   "metadata": {},
   "outputs": [
    {
     "data": {
      "text/html": [
       "<div>\n",
       "<style scoped>\n",
       "    .dataframe tbody tr th:only-of-type {\n",
       "        vertical-align: middle;\n",
       "    }\n",
       "\n",
       "    .dataframe tbody tr th {\n",
       "        vertical-align: top;\n",
       "    }\n",
       "\n",
       "    .dataframe thead th {\n",
       "        text-align: right;\n",
       "    }\n",
       "</style>\n",
       "<table border=\"1\" class=\"dataframe\">\n",
       "  <thead>\n",
       "    <tr style=\"text-align: right;\">\n",
       "      <th></th>\n",
       "      <th>Date</th>\n",
       "      <th>Time</th>\n",
       "      <th>TC1 Gasket</th>\n",
       "      <th>TC2 Supply Lug</th>\n",
       "      <th>TC3 Backup Lug</th>\n",
       "      <th>TC4 Subpanel Lug</th>\n",
       "      <th>TC5 MSA Busbar</th>\n",
       "      <th>TC6 Glass Door</th>\n",
       "      <th>TC7 Upper Enclosure Ambient</th>\n",
       "      <th>TC8 Lower Enclosure Ambient</th>\n",
       "      <th>...</th>\n",
       "      <th>TC28 MCB Ambient</th>\n",
       "      <th>TC29 Capacitor (C44)</th>\n",
       "      <th>TC30 Winding Internal Side Trans</th>\n",
       "      <th>TC32 Busbar L1 Neut to Relay</th>\n",
       "      <th>TC34 Cap on Holdup PCB</th>\n",
       "      <th>TC36 TACO PCB</th>\n",
       "      <th>TC31 Windings of Transformer</th>\n",
       "      <th>TC35 Holdup PCB under Power</th>\n",
       "      <th>TC33 Busbar L2 Neut to Relay</th>\n",
       "      <th>Timedelta</th>\n",
       "    </tr>\n",
       "  </thead>\n",
       "  <tbody>\n",
       "    <tr>\n",
       "      <th>0</th>\n",
       "      <td>2023/12/13</td>\n",
       "      <td>15:38:00</td>\n",
       "      <td>23.6</td>\n",
       "      <td>24.1</td>\n",
       "      <td>23.0</td>\n",
       "      <td>23.9</td>\n",
       "      <td>29.0</td>\n",
       "      <td>23.6</td>\n",
       "      <td>26.4</td>\n",
       "      <td>22.9</td>\n",
       "      <td>...</td>\n",
       "      <td>23.5</td>\n",
       "      <td>24.8</td>\n",
       "      <td>25.6</td>\n",
       "      <td>24.5</td>\n",
       "      <td>27.1</td>\n",
       "      <td>34.8</td>\n",
       "      <td>25.9</td>\n",
       "      <td>26.1</td>\n",
       "      <td>24.3</td>\n",
       "      <td>0 days 15:38:00</td>\n",
       "    </tr>\n",
       "    <tr>\n",
       "      <th>1</th>\n",
       "      <td>2023/12/13</td>\n",
       "      <td>15:52:00</td>\n",
       "      <td>24.4</td>\n",
       "      <td>42.3</td>\n",
       "      <td>29.9</td>\n",
       "      <td>34.5</td>\n",
       "      <td>70.7</td>\n",
       "      <td>23.9</td>\n",
       "      <td>28.0</td>\n",
       "      <td>24.9</td>\n",
       "      <td>...</td>\n",
       "      <td>31.7</td>\n",
       "      <td>38.7</td>\n",
       "      <td>26.2</td>\n",
       "      <td>44.0</td>\n",
       "      <td>28.3</td>\n",
       "      <td>30.9</td>\n",
       "      <td>26.9</td>\n",
       "      <td>27.5</td>\n",
       "      <td>46.0</td>\n",
       "      <td>0 days 15:52:00</td>\n",
       "    </tr>\n",
       "    <tr>\n",
       "      <th>2</th>\n",
       "      <td>2023/12/13</td>\n",
       "      <td>16:06:00</td>\n",
       "      <td>26.7</td>\n",
       "      <td>54.3</td>\n",
       "      <td>37.4</td>\n",
       "      <td>42.0</td>\n",
       "      <td>90.0</td>\n",
       "      <td>25.3</td>\n",
       "      <td>31.8</td>\n",
       "      <td>27.7</td>\n",
       "      <td>...</td>\n",
       "      <td>37.1</td>\n",
       "      <td>56.0</td>\n",
       "      <td>27.9</td>\n",
       "      <td>59.4</td>\n",
       "      <td>32.3</td>\n",
       "      <td>35.7</td>\n",
       "      <td>29.5</td>\n",
       "      <td>30.6</td>\n",
       "      <td>62.2</td>\n",
       "      <td>0 days 16:06:00</td>\n",
       "    </tr>\n",
       "    <tr>\n",
       "      <th>3</th>\n",
       "      <td>2023/12/13</td>\n",
       "      <td>16:20:00</td>\n",
       "      <td>29.3</td>\n",
       "      <td>62.4</td>\n",
       "      <td>43.3</td>\n",
       "      <td>47.9</td>\n",
       "      <td>102.8</td>\n",
       "      <td>27.4</td>\n",
       "      <td>35.8</td>\n",
       "      <td>30.1</td>\n",
       "      <td>...</td>\n",
       "      <td>41.3</td>\n",
       "      <td>69.6</td>\n",
       "      <td>30.0</td>\n",
       "      <td>70.9</td>\n",
       "      <td>36.5</td>\n",
       "      <td>40.3</td>\n",
       "      <td>32.1</td>\n",
       "      <td>34.1</td>\n",
       "      <td>73.9</td>\n",
       "      <td>0 days 16:20:00</td>\n",
       "    </tr>\n",
       "    <tr>\n",
       "      <th>4</th>\n",
       "      <td>2023/12/13</td>\n",
       "      <td>16:34:00</td>\n",
       "      <td>31.9</td>\n",
       "      <td>68.2</td>\n",
       "      <td>48.1</td>\n",
       "      <td>52.7</td>\n",
       "      <td>112.2</td>\n",
       "      <td>29.6</td>\n",
       "      <td>39.4</td>\n",
       "      <td>32.4</td>\n",
       "      <td>...</td>\n",
       "      <td>44.0</td>\n",
       "      <td>80.1</td>\n",
       "      <td>32.6</td>\n",
       "      <td>79.9</td>\n",
       "      <td>40.5</td>\n",
       "      <td>44.5</td>\n",
       "      <td>35.0</td>\n",
       "      <td>37.4</td>\n",
       "      <td>82.6</td>\n",
       "      <td>0 days 16:34:00</td>\n",
       "    </tr>\n",
       "  </tbody>\n",
       "</table>\n",
       "<p>5 rows × 39 columns</p>\n",
       "</div>"
      ],
      "text/plain": [
       "         Date      Time  TC1 Gasket  TC2 Supply Lug  TC3 Backup Lug  \\\n",
       "0  2023/12/13  15:38:00        23.6            24.1            23.0   \n",
       "1  2023/12/13  15:52:00        24.4            42.3            29.9   \n",
       "2  2023/12/13  16:06:00        26.7            54.3            37.4   \n",
       "3  2023/12/13  16:20:00        29.3            62.4            43.3   \n",
       "4  2023/12/13  16:34:00        31.9            68.2            48.1   \n",
       "\n",
       "   TC4 Subpanel Lug  TC5 MSA Busbar  TC6 Glass Door  \\\n",
       "0              23.9            29.0            23.6   \n",
       "1              34.5            70.7            23.9   \n",
       "2              42.0            90.0            25.3   \n",
       "3              47.9           102.8            27.4   \n",
       "4              52.7           112.2            29.6   \n",
       "\n",
       "   TC7 Upper Enclosure Ambient  TC8 Lower Enclosure Ambient  ...  \\\n",
       "0                         26.4                         22.9  ...   \n",
       "1                         28.0                         24.9  ...   \n",
       "2                         31.8                         27.7  ...   \n",
       "3                         35.8                         30.1  ...   \n",
       "4                         39.4                         32.4  ...   \n",
       "\n",
       "   TC28 MCB Ambient  TC29 Capacitor (C44)  TC30 Winding Internal Side Trans  \\\n",
       "0              23.5                  24.8                              25.6   \n",
       "1              31.7                  38.7                              26.2   \n",
       "2              37.1                  56.0                              27.9   \n",
       "3              41.3                  69.6                              30.0   \n",
       "4              44.0                  80.1                              32.6   \n",
       "\n",
       "   TC32 Busbar L1 Neut to Relay  TC34 Cap on Holdup PCB  TC36 TACO PCB  \\\n",
       "0                          24.5                    27.1           34.8   \n",
       "1                          44.0                    28.3           30.9   \n",
       "2                          59.4                    32.3           35.7   \n",
       "3                          70.9                    36.5           40.3   \n",
       "4                          79.9                    40.5           44.5   \n",
       "\n",
       "   TC31 Windings of Transformer  TC35 Holdup PCB under Power  \\\n",
       "0                          25.9                         26.1   \n",
       "1                          26.9                         27.5   \n",
       "2                          29.5                         30.6   \n",
       "3                          32.1                         34.1   \n",
       "4                          35.0                         37.4   \n",
       "\n",
       "   TC33 Busbar L2 Neut to Relay       Timedelta  \n",
       "0                          24.3 0 days 15:38:00  \n",
       "1                          46.0 0 days 15:52:00  \n",
       "2                          62.2 0 days 16:06:00  \n",
       "3                          73.9 0 days 16:20:00  \n",
       "4                          82.6 0 days 16:34:00  \n",
       "\n",
       "[5 rows x 39 columns]"
      ]
     },
     "execution_count": 37,
     "metadata": {},
     "output_type": "execute_result"
    }
   ],
   "source": [
    "\n",
    "# Concatenate test max values this with the original DataFrame\n",
    "test_1_df = pd.concat([test_1_15_min, max_values_df_test_1], ignore_index=True)\n",
    "# test_2_df = pd.concat([test_2_15_min, max_values_df_test_2], ignore_index=True)\n",
    "test_1_df.head()"
   ]
  },
  {
   "cell_type": "code",
   "execution_count": 40,
   "metadata": {},
   "outputs": [
    {
     "data": {
      "text/html": [
       "<div>\n",
       "<style scoped>\n",
       "    .dataframe tbody tr th:only-of-type {\n",
       "        vertical-align: middle;\n",
       "    }\n",
       "\n",
       "    .dataframe tbody tr th {\n",
       "        vertical-align: top;\n",
       "    }\n",
       "\n",
       "    .dataframe thead th {\n",
       "        text-align: right;\n",
       "    }\n",
       "</style>\n",
       "<table border=\"1\" class=\"dataframe\">\n",
       "  <thead>\n",
       "    <tr style=\"text-align: right;\">\n",
       "      <th></th>\n",
       "      <th>NAME</th>\n",
       "      <th>x0</th>\n",
       "      <th>x15</th>\n",
       "      <th>x30</th>\n",
       "      <th>x45</th>\n",
       "      <th>x60</th>\n",
       "      <th>Max</th>\n",
       "    </tr>\n",
       "  </thead>\n",
       "  <tbody>\n",
       "    <tr>\n",
       "      <th>0</th>\n",
       "      <td>Date</td>\n",
       "      <td>2023/12/13</td>\n",
       "      <td>2023/12/13</td>\n",
       "      <td>2023/12/13</td>\n",
       "      <td>2023/12/13</td>\n",
       "      <td>2023/12/13</td>\n",
       "      <td>2023/12/13</td>\n",
       "    </tr>\n",
       "    <tr>\n",
       "      <th>1</th>\n",
       "      <td>Time</td>\n",
       "      <td>15:38:00</td>\n",
       "      <td>15:52:00</td>\n",
       "      <td>16:06:00</td>\n",
       "      <td>16:20:00</td>\n",
       "      <td>16:34:00</td>\n",
       "      <td>16:46:00</td>\n",
       "    </tr>\n",
       "    <tr>\n",
       "      <th>2</th>\n",
       "      <td>TC1 Gasket</td>\n",
       "      <td>23.6</td>\n",
       "      <td>24.4</td>\n",
       "      <td>26.7</td>\n",
       "      <td>29.3</td>\n",
       "      <td>31.9</td>\n",
       "      <td>36.1</td>\n",
       "    </tr>\n",
       "    <tr>\n",
       "      <th>3</th>\n",
       "      <td>TC2 Supply Lug</td>\n",
       "      <td>24.1</td>\n",
       "      <td>42.3</td>\n",
       "      <td>54.3</td>\n",
       "      <td>62.4</td>\n",
       "      <td>68.2</td>\n",
       "      <td>70.7</td>\n",
       "    </tr>\n",
       "    <tr>\n",
       "      <th>4</th>\n",
       "      <td>TC3 Backup Lug</td>\n",
       "      <td>23.0</td>\n",
       "      <td>29.9</td>\n",
       "      <td>37.4</td>\n",
       "      <td>43.3</td>\n",
       "      <td>48.1</td>\n",
       "      <td>51.0</td>\n",
       "    </tr>\n",
       "  </tbody>\n",
       "</table>\n",
       "</div>"
      ],
      "text/plain": [
       "             NAME          x0         x15         x30         x45         x60  \\\n",
       "0            Date  2023/12/13  2023/12/13  2023/12/13  2023/12/13  2023/12/13   \n",
       "1            Time    15:38:00    15:52:00    16:06:00    16:20:00    16:34:00   \n",
       "2      TC1 Gasket        23.6        24.4        26.7        29.3        31.9   \n",
       "3  TC2 Supply Lug        24.1        42.3        54.3        62.4        68.2   \n",
       "4  TC3 Backup Lug        23.0        29.9        37.4        43.3        48.1   \n",
       "\n",
       "          Max  \n",
       "0  2023/12/13  \n",
       "1    16:46:00  \n",
       "2        36.1  \n",
       "3        70.7  \n",
       "4        51.0  "
      ]
     },
     "execution_count": 40,
     "metadata": {},
     "output_type": "execute_result"
    }
   ],
   "source": [
    "def transpose_15_min_and_max(df):\n",
    "        # Transpose the 15 monute DataFrame\n",
    "    transposed_df = df.T\n",
    "\n",
    "    # Reset index to get the column names as a separate column\n",
    "    transposed_df.reset_index(inplace=True)\n",
    "\n",
    "    # Rename columns\n",
    "    new_column_names = ['NAME'] + [f'x{i*15}' for i in range(transposed_df.shape[1] - 1)]\n",
    "    transposed_df.columns = new_column_names\n",
    "    \n",
    "    # Get the name of the last column\n",
    "    last_column_name = transposed_df.columns[-1]\n",
    "\n",
    "    # Rename the last column to 'Max'    \n",
    "    transposed_df.rename(columns={last_column_name: 'Max'}, inplace=True)\n",
    "    return transposed_df\n",
    "\n",
    "test_1_unordered_df = transpose_15_min_and_max(test_1_df)\n",
    "test_1_unordered_df.head()\n",
    "\n",
    "\n"
   ]
  },
  {
   "cell_type": "markdown",
   "metadata": {},
   "source": [
    "# re-arrange rows to match TDP"
   ]
  },
  {
   "cell_type": "code",
   "execution_count": 46,
   "metadata": {},
   "outputs": [],
   "source": [
    "# get the original name list\n",
    "original_name_list = test_1_unordered_df['NAME'].tolist()\n",
    "\n",
    "# write to file to manually edit the order of the names\n",
    "make_new_name_list = True # overwrite the name_list.txt file\n",
    "\n",
    "if make_new_name_list:\n",
    "    with open(os.path.join(output_data_dir, 'name_list.txt'), 'w') as f:\n",
    "        for name in original_name_list:\n",
    "            f.write(f'{name}\\n')\n",
    "\n",
    "new_order = [\n",
    "    \"Date\",\n",
    "    \"Time\",\n",
    "    \"TC1 Gasket\",\n",
    "    \"TC2 Supply Lug\",\n",
    "    \"TC3 Backup Lug\",\n",
    "    \"TC4 Subpanel Lug\",\n",
    "    \"TC5 MSA Busbar\",\n",
    "    \"TC6 Glass Door\",\n",
    "    \"TC7 Upper Enclosure Ambient\",\n",
    "    \"TC8 Lower Enclosure Ambient\",\n",
    "    \"TC10 Subpanel Tray\",\n",
    "    \"TC11 Ambient under MSA Cover\",\n",
    "    \"TC12 MSA PCB\",\n",
    "    \"TC13 MCB Plastic\",\n",
    "    \"TC14 Enclosure Handle\",\n",
    "    \"TC15 Top of Enclosure (Plastic)\",\n",
    "    \"TC16 Side of Enclosure\",\n",
    "    \"TC17 Subpanel Bussing\",\n",
    "    \"TC18 Branch Breaker Plastic Top\",\n",
    "    \"TC19 Branch Breaker Plastic Mid\",\n",
    "    \"TC20 Branch Breaker Bussing Top\",\n",
    "    \"TC21 Brach Breaker Bussing Mid\",\n",
    "    \"TC22 Transformer Cover Plastic\",\n",
    "    \"TC23 RF Window Plastic\",\n",
    "    \"TC24 Busbar Tray near MCB\",\n",
    "    \"TC25 Busbar Tray Field Wiring\",\n",
    "    \"TC26 Busbar Tray MSA Under cover\",\n",
    "    \"TC27 Relay Ambient\",\n",
    "    \"TC28 MCB Ambient\",\n",
    "    \"TC9 Lab Ambient\",\n",
    "    \"TC29 Capacitor (C44)\",\n",
    "    \"TC36 TACO PCB\",\n",
    "    \"TC30 Winding Internal Side Trans\",\n",
    "    \"TC31 Windings of Transformer\",\n",
    "    \"TC32 Busbar L1 Neut to Relay\",\n",
    "    \"TC33 Busbar L2 Neut to Relay\",\n",
    "    \"TC34 Cap on Holdup PCB\",\n",
    "    \"TC35 Holdup PCB under Power\",\n",
    "]\n"
   ]
  },
  {
   "cell_type": "code",
   "execution_count": 47,
   "metadata": {},
   "outputs": [],
   "source": [
    "\n",
    "# Reorder the DataFrame based on the new order\n",
    "# Make sure all names in 'new_order' exist in 'df['NAME']'\n",
    "test_1_final_df = test_1_unordered_df.set_index('NAME').loc[new_order].reset_index()\n",
    "\n",
    "# test if the order is correct against the order in name_list\n",
    "for i in range(len(new_order)):\n",
    "    if new_order[i] != test_1_final_df['NAME'].tolist()[i]:\n",
    "        print(f\"ERROR: {new_order[i]} != {test_1_final_df['NAME'].tolist()[i]}\")\n",
    "        break"
   ]
  },
  {
   "cell_type": "code",
   "execution_count": null,
   "metadata": {},
   "outputs": [
    {
     "data": {
      "text/html": [
       "<div>\n",
       "<style scoped>\n",
       "    .dataframe tbody tr th:only-of-type {\n",
       "        vertical-align: middle;\n",
       "    }\n",
       "\n",
       "    .dataframe tbody tr th {\n",
       "        vertical-align: top;\n",
       "    }\n",
       "\n",
       "    .dataframe thead th {\n",
       "        text-align: right;\n",
       "    }\n",
       "</style>\n",
       "<table border=\"1\" class=\"dataframe\">\n",
       "  <thead>\n",
       "    <tr style=\"text-align: right;\">\n",
       "      <th></th>\n",
       "      <th>NAME</th>\n",
       "      <th>x0</th>\n",
       "      <th>x15</th>\n",
       "      <th>x30</th>\n",
       "      <th>x45</th>\n",
       "      <th>x60</th>\n",
       "      <th>Max</th>\n",
       "    </tr>\n",
       "  </thead>\n",
       "  <tbody>\n",
       "    <tr>\n",
       "      <th>0</th>\n",
       "      <td>Date</td>\n",
       "      <td>2023/12/06</td>\n",
       "      <td>2023/12/06</td>\n",
       "      <td>2023/12/06</td>\n",
       "      <td>2023/12/06</td>\n",
       "      <td>2023/12/06</td>\n",
       "      <td>2023/12/06</td>\n",
       "    </tr>\n",
       "    <tr>\n",
       "      <th>1</th>\n",
       "      <td>Time</td>\n",
       "      <td>17:06:40</td>\n",
       "      <td>17:22:00</td>\n",
       "      <td>17:37:20</td>\n",
       "      <td>17:52:40</td>\n",
       "      <td>18:08:00</td>\n",
       "      <td>18:19:20</td>\n",
       "    </tr>\n",
       "    <tr>\n",
       "      <th>2</th>\n",
       "      <td>TC1 Gasket</td>\n",
       "      <td>29.6</td>\n",
       "      <td>26.5</td>\n",
       "      <td>26.8</td>\n",
       "      <td>26.9</td>\n",
       "      <td>27.0</td>\n",
       "      <td>29.6</td>\n",
       "    </tr>\n",
       "    <tr>\n",
       "      <th>3</th>\n",
       "      <td>TC2 Supply Lug</td>\n",
       "      <td>28.9</td>\n",
       "      <td>46.7</td>\n",
       "      <td>55.9</td>\n",
       "      <td>59.9</td>\n",
       "      <td>62.3</td>\n",
       "      <td>63.4</td>\n",
       "    </tr>\n",
       "    <tr>\n",
       "      <th>4</th>\n",
       "      <td>TC3 Backup Lug</td>\n",
       "      <td>29.3</td>\n",
       "      <td>32.2</td>\n",
       "      <td>36.2</td>\n",
       "      <td>39.1</td>\n",
       "      <td>41.0</td>\n",
       "      <td>42.0</td>\n",
       "    </tr>\n",
       "    <tr>\n",
       "      <th>5</th>\n",
       "      <td>TC4 Subpanel Lug</td>\n",
       "      <td>29.3</td>\n",
       "      <td>40.7</td>\n",
       "      <td>47.3</td>\n",
       "      <td>51.7</td>\n",
       "      <td>54.6</td>\n",
       "      <td>55.6</td>\n",
       "    </tr>\n",
       "    <tr>\n",
       "      <th>6</th>\n",
       "      <td>TC5 MSA Busbar</td>\n",
       "      <td>34.6</td>\n",
       "      <td>65.4</td>\n",
       "      <td>81.0</td>\n",
       "      <td>90.8</td>\n",
       "      <td>97.2</td>\n",
       "      <td>99.7</td>\n",
       "    </tr>\n",
       "    <tr>\n",
       "      <th>7</th>\n",
       "      <td>TC6 Glass Door</td>\n",
       "      <td>28.9</td>\n",
       "      <td>26.7</td>\n",
       "      <td>26.8</td>\n",
       "      <td>26.8</td>\n",
       "      <td>26.9</td>\n",
       "      <td>28.9</td>\n",
       "    </tr>\n",
       "    <tr>\n",
       "      <th>8</th>\n",
       "      <td>TC7 Upper Enclosure Ambient</td>\n",
       "      <td>31.4</td>\n",
       "      <td>35.5</td>\n",
       "      <td>43.2</td>\n",
       "      <td>46.7</td>\n",
       "      <td>48.8</td>\n",
       "      <td>50.3</td>\n",
       "    </tr>\n",
       "    <tr>\n",
       "      <th>9</th>\n",
       "      <td>TC8 Lower Enclosure Ambient</td>\n",
       "      <td>28.9</td>\n",
       "      <td>29.6</td>\n",
       "      <td>31.2</td>\n",
       "      <td>32.2</td>\n",
       "      <td>32.9</td>\n",
       "      <td>33.1</td>\n",
       "    </tr>\n",
       "    <tr>\n",
       "      <th>10</th>\n",
       "      <td>TC10 Subpanel Tray</td>\n",
       "      <td>30.0</td>\n",
       "      <td>59.5</td>\n",
       "      <td>63.7</td>\n",
       "      <td>73.6</td>\n",
       "      <td>78.1</td>\n",
       "      <td>79.8</td>\n",
       "    </tr>\n",
       "    <tr>\n",
       "      <th>11</th>\n",
       "      <td>TC11 Ambient under MSA Cover</td>\n",
       "      <td>29.5</td>\n",
       "      <td>38.3</td>\n",
       "      <td>48.6</td>\n",
       "      <td>56.1</td>\n",
       "      <td>61.2</td>\n",
       "      <td>63.4</td>\n",
       "    </tr>\n",
       "    <tr>\n",
       "      <th>12</th>\n",
       "      <td>TC12 MSA PCB</td>\n",
       "      <td>33.9</td>\n",
       "      <td>57.5</td>\n",
       "      <td>73.1</td>\n",
       "      <td>83.2</td>\n",
       "      <td>89.9</td>\n",
       "      <td>92.4</td>\n",
       "    </tr>\n",
       "    <tr>\n",
       "      <th>13</th>\n",
       "      <td>TC13 MCB Plastic</td>\n",
       "      <td>29.1</td>\n",
       "      <td>39.0</td>\n",
       "      <td>54.5</td>\n",
       "      <td>65.9</td>\n",
       "      <td>73.4</td>\n",
       "      <td>77.1</td>\n",
       "    </tr>\n",
       "    <tr>\n",
       "      <th>14</th>\n",
       "      <td>TC14 Enclosure Handle</td>\n",
       "      <td>29.4</td>\n",
       "      <td>27.0</td>\n",
       "      <td>27.9</td>\n",
       "      <td>28.4</td>\n",
       "      <td>28.8</td>\n",
       "      <td>29.4</td>\n",
       "    </tr>\n",
       "    <tr>\n",
       "      <th>15</th>\n",
       "      <td>TC15 Top of Enclosure (Plastic)</td>\n",
       "      <td>32.3</td>\n",
       "      <td>29.1</td>\n",
       "      <td>29.6</td>\n",
       "      <td>30.0</td>\n",
       "      <td>30.3</td>\n",
       "      <td>32.3</td>\n",
       "    </tr>\n",
       "    <tr>\n",
       "      <th>16</th>\n",
       "      <td>TC16 Side of Enclosure</td>\n",
       "      <td>29.4</td>\n",
       "      <td>26.2</td>\n",
       "      <td>26.6</td>\n",
       "      <td>26.6</td>\n",
       "      <td>26.6</td>\n",
       "      <td>29.4</td>\n",
       "    </tr>\n",
       "    <tr>\n",
       "      <th>17</th>\n",
       "      <td>TC17 Subpanel Bussing</td>\n",
       "      <td>29.3</td>\n",
       "      <td>47.3</td>\n",
       "      <td>56.6</td>\n",
       "      <td>62.9</td>\n",
       "      <td>67.1</td>\n",
       "      <td>68.9</td>\n",
       "    </tr>\n",
       "    <tr>\n",
       "      <th>18</th>\n",
       "      <td>TC18 Branch Breaker Plastic Top</td>\n",
       "      <td>28.8</td>\n",
       "      <td>50.1</td>\n",
       "      <td>64.3</td>\n",
       "      <td>73.2</td>\n",
       "      <td>79.1</td>\n",
       "      <td>81.4</td>\n",
       "    </tr>\n",
       "    <tr>\n",
       "      <th>19</th>\n",
       "      <td>TC19 Branch Breaker Plastic Midd</td>\n",
       "      <td>28.1</td>\n",
       "      <td>40.1</td>\n",
       "      <td>50.9</td>\n",
       "      <td>58.8</td>\n",
       "      <td>64.3</td>\n",
       "      <td>66.7</td>\n",
       "    </tr>\n",
       "    <tr>\n",
       "      <th>20</th>\n",
       "      <td>TC20 Branch Breaker Bussing Top</td>\n",
       "      <td>28.7</td>\n",
       "      <td>50.8</td>\n",
       "      <td>64.2</td>\n",
       "      <td>72.3</td>\n",
       "      <td>77.8</td>\n",
       "      <td>79.9</td>\n",
       "    </tr>\n",
       "    <tr>\n",
       "      <th>21</th>\n",
       "      <td>TC21 Brach Breaker Bussing Mid</td>\n",
       "      <td>28.8</td>\n",
       "      <td>44.4</td>\n",
       "      <td>54.6</td>\n",
       "      <td>62.3</td>\n",
       "      <td>67.5</td>\n",
       "      <td>69.6</td>\n",
       "    </tr>\n",
       "    <tr>\n",
       "      <th>22</th>\n",
       "      <td>TC22 Transformer Cover Plastic</td>\n",
       "      <td>29.6</td>\n",
       "      <td>37.0</td>\n",
       "      <td>42.7</td>\n",
       "      <td>46.3</td>\n",
       "      <td>48.8</td>\n",
       "      <td>49.9</td>\n",
       "    </tr>\n",
       "    <tr>\n",
       "      <th>23</th>\n",
       "      <td>TC23 RF Window Plastic</td>\n",
       "      <td>29.7</td>\n",
       "      <td>26.2</td>\n",
       "      <td>26.6</td>\n",
       "      <td>26.6</td>\n",
       "      <td>26.6</td>\n",
       "      <td>29.7</td>\n",
       "    </tr>\n",
       "    <tr>\n",
       "      <th>24</th>\n",
       "      <td>TC24 Busbar Tray near MCB</td>\n",
       "      <td>29.7</td>\n",
       "      <td>42.8</td>\n",
       "      <td>61.2</td>\n",
       "      <td>74.2</td>\n",
       "      <td>82.6</td>\n",
       "      <td>86.2</td>\n",
       "    </tr>\n",
       "    <tr>\n",
       "      <th>25</th>\n",
       "      <td>TC25 Busbar Tray Field Wiring</td>\n",
       "      <td>28.6</td>\n",
       "      <td>33.1</td>\n",
       "      <td>38.6</td>\n",
       "      <td>42.5</td>\n",
       "      <td>45.1</td>\n",
       "      <td>46.4</td>\n",
       "    </tr>\n",
       "    <tr>\n",
       "      <th>26</th>\n",
       "      <td>TC26 Busbar Tray MSA Under cover</td>\n",
       "      <td>29.8</td>\n",
       "      <td>51.0</td>\n",
       "      <td>70.2</td>\n",
       "      <td>83.9</td>\n",
       "      <td>92.9</td>\n",
       "      <td>96.4</td>\n",
       "    </tr>\n",
       "    <tr>\n",
       "      <th>27</th>\n",
       "      <td>TC27 Relay Ambient</td>\n",
       "      <td>31.8</td>\n",
       "      <td>33.3</td>\n",
       "      <td>35.6</td>\n",
       "      <td>37.3</td>\n",
       "      <td>38.8</td>\n",
       "      <td>40.1</td>\n",
       "    </tr>\n",
       "    <tr>\n",
       "      <th>28</th>\n",
       "      <td>TC28 MCB Ambient</td>\n",
       "      <td>28.7</td>\n",
       "      <td>28.7</td>\n",
       "      <td>30.1</td>\n",
       "      <td>30.7</td>\n",
       "      <td>31.2</td>\n",
       "      <td>31.4</td>\n",
       "    </tr>\n",
       "    <tr>\n",
       "      <th>29</th>\n",
       "      <td>TC9 Lab Ambient</td>\n",
       "      <td>29.8</td>\n",
       "      <td>26.2</td>\n",
       "      <td>26.6</td>\n",
       "      <td>26.6</td>\n",
       "      <td>26.7</td>\n",
       "      <td>29.8</td>\n",
       "    </tr>\n",
       "    <tr>\n",
       "      <th>30</th>\n",
       "      <td>TC29 Capacitor (C44)</td>\n",
       "      <td>29.4</td>\n",
       "      <td>43.3</td>\n",
       "      <td>59.8</td>\n",
       "      <td>71.4</td>\n",
       "      <td>78.9</td>\n",
       "      <td>82.0</td>\n",
       "    </tr>\n",
       "    <tr>\n",
       "      <th>31</th>\n",
       "      <td>TC42 TACO PCB</td>\n",
       "      <td>36.5</td>\n",
       "      <td>39.8</td>\n",
       "      <td>42.9</td>\n",
       "      <td>47.0</td>\n",
       "      <td>50.4</td>\n",
       "      <td>52.5</td>\n",
       "    </tr>\n",
       "    <tr>\n",
       "      <th>32</th>\n",
       "      <td>TC36 Winding Internal Side Trans</td>\n",
       "      <td>44.7</td>\n",
       "      <td>43.6</td>\n",
       "      <td>45.7</td>\n",
       "      <td>47.8</td>\n",
       "      <td>49.6</td>\n",
       "      <td>50.6</td>\n",
       "    </tr>\n",
       "    <tr>\n",
       "      <th>33</th>\n",
       "      <td>TC37 Windings of Transformer</td>\n",
       "      <td>46.5</td>\n",
       "      <td>43.2</td>\n",
       "      <td>43.3</td>\n",
       "      <td>44.2</td>\n",
       "      <td>45.2</td>\n",
       "      <td>46.5</td>\n",
       "    </tr>\n",
       "    <tr>\n",
       "      <th>34</th>\n",
       "      <td>TC38 Busbar L1 Neut to Relay</td>\n",
       "      <td>34.3</td>\n",
       "      <td>50.3</td>\n",
       "      <td>62.1</td>\n",
       "      <td>70.1</td>\n",
       "      <td>75.6</td>\n",
       "      <td>77.9</td>\n",
       "    </tr>\n",
       "    <tr>\n",
       "      <th>35</th>\n",
       "      <td>TC39 Busbar L2 Neut to Relay</td>\n",
       "      <td>32.0</td>\n",
       "      <td>51.7</td>\n",
       "      <td>65.3</td>\n",
       "      <td>74.0</td>\n",
       "      <td>79.9</td>\n",
       "      <td>82.3</td>\n",
       "    </tr>\n",
       "    <tr>\n",
       "      <th>36</th>\n",
       "      <td>TC40 Cap on Holdup PCB</td>\n",
       "      <td>35.9</td>\n",
       "      <td>36.7</td>\n",
       "      <td>37.0</td>\n",
       "      <td>37.8</td>\n",
       "      <td>39.0</td>\n",
       "      <td>39.9</td>\n",
       "    </tr>\n",
       "    <tr>\n",
       "      <th>37</th>\n",
       "      <td>TC41 Holdup PCB under Power</td>\n",
       "      <td>38.9</td>\n",
       "      <td>36.7</td>\n",
       "      <td>36.3</td>\n",
       "      <td>36.9</td>\n",
       "      <td>37.9</td>\n",
       "      <td>38.9</td>\n",
       "    </tr>\n",
       "  </tbody>\n",
       "</table>\n",
       "</div>"
      ],
      "text/plain": [
       "                                NAME          x0         x15         x30  \\\n",
       "0                               Date  2023/12/06  2023/12/06  2023/12/06   \n",
       "1                               Time    17:06:40    17:22:00    17:37:20   \n",
       "2                         TC1 Gasket        29.6        26.5        26.8   \n",
       "3                     TC2 Supply Lug        28.9        46.7        55.9   \n",
       "4                     TC3 Backup Lug        29.3        32.2        36.2   \n",
       "5                   TC4 Subpanel Lug        29.3        40.7        47.3   \n",
       "6                     TC5 MSA Busbar        34.6        65.4        81.0   \n",
       "7                     TC6 Glass Door        28.9        26.7        26.8   \n",
       "8        TC7 Upper Enclosure Ambient        31.4        35.5        43.2   \n",
       "9        TC8 Lower Enclosure Ambient        28.9        29.6        31.2   \n",
       "10                TC10 Subpanel Tray        30.0        59.5        63.7   \n",
       "11      TC11 Ambient under MSA Cover        29.5        38.3        48.6   \n",
       "12                      TC12 MSA PCB        33.9        57.5        73.1   \n",
       "13                  TC13 MCB Plastic        29.1        39.0        54.5   \n",
       "14             TC14 Enclosure Handle        29.4        27.0        27.9   \n",
       "15   TC15 Top of Enclosure (Plastic)        32.3        29.1        29.6   \n",
       "16            TC16 Side of Enclosure        29.4        26.2        26.6   \n",
       "17             TC17 Subpanel Bussing        29.3        47.3        56.6   \n",
       "18   TC18 Branch Breaker Plastic Top        28.8        50.1        64.3   \n",
       "19  TC19 Branch Breaker Plastic Midd        28.1        40.1        50.9   \n",
       "20   TC20 Branch Breaker Bussing Top        28.7        50.8        64.2   \n",
       "21    TC21 Brach Breaker Bussing Mid        28.8        44.4        54.6   \n",
       "22    TC22 Transformer Cover Plastic        29.6        37.0        42.7   \n",
       "23            TC23 RF Window Plastic        29.7        26.2        26.6   \n",
       "24         TC24 Busbar Tray near MCB        29.7        42.8        61.2   \n",
       "25     TC25 Busbar Tray Field Wiring        28.6        33.1        38.6   \n",
       "26  TC26 Busbar Tray MSA Under cover        29.8        51.0        70.2   \n",
       "27                TC27 Relay Ambient        31.8        33.3        35.6   \n",
       "28                  TC28 MCB Ambient        28.7        28.7        30.1   \n",
       "29                   TC9 Lab Ambient        29.8        26.2        26.6   \n",
       "30              TC29 Capacitor (C44)        29.4        43.3        59.8   \n",
       "31                     TC42 TACO PCB        36.5        39.8        42.9   \n",
       "32  TC36 Winding Internal Side Trans        44.7        43.6        45.7   \n",
       "33      TC37 Windings of Transformer        46.5        43.2        43.3   \n",
       "34      TC38 Busbar L1 Neut to Relay        34.3        50.3        62.1   \n",
       "35      TC39 Busbar L2 Neut to Relay        32.0        51.7        65.3   \n",
       "36            TC40 Cap on Holdup PCB        35.9        36.7        37.0   \n",
       "37       TC41 Holdup PCB under Power        38.9        36.7        36.3   \n",
       "\n",
       "           x45         x60         Max  \n",
       "0   2023/12/06  2023/12/06  2023/12/06  \n",
       "1     17:52:40    18:08:00    18:19:20  \n",
       "2         26.9        27.0        29.6  \n",
       "3         59.9        62.3        63.4  \n",
       "4         39.1        41.0        42.0  \n",
       "5         51.7        54.6        55.6  \n",
       "6         90.8        97.2        99.7  \n",
       "7         26.8        26.9        28.9  \n",
       "8         46.7        48.8        50.3  \n",
       "9         32.2        32.9        33.1  \n",
       "10        73.6        78.1        79.8  \n",
       "11        56.1        61.2        63.4  \n",
       "12        83.2        89.9        92.4  \n",
       "13        65.9        73.4        77.1  \n",
       "14        28.4        28.8        29.4  \n",
       "15        30.0        30.3        32.3  \n",
       "16        26.6        26.6        29.4  \n",
       "17        62.9        67.1        68.9  \n",
       "18        73.2        79.1        81.4  \n",
       "19        58.8        64.3        66.7  \n",
       "20        72.3        77.8        79.9  \n",
       "21        62.3        67.5        69.6  \n",
       "22        46.3        48.8        49.9  \n",
       "23        26.6        26.6        29.7  \n",
       "24        74.2        82.6        86.2  \n",
       "25        42.5        45.1        46.4  \n",
       "26        83.9        92.9        96.4  \n",
       "27        37.3        38.8        40.1  \n",
       "28        30.7        31.2        31.4  \n",
       "29        26.6        26.7        29.8  \n",
       "30        71.4        78.9        82.0  \n",
       "31        47.0        50.4        52.5  \n",
       "32        47.8        49.6        50.6  \n",
       "33        44.2        45.2        46.5  \n",
       "34        70.1        75.6        77.9  \n",
       "35        74.0        79.9        82.3  \n",
       "36        37.8        39.0        39.9  \n",
       "37        36.9        37.9        38.9  "
      ]
     },
     "execution_count": 63,
     "metadata": {},
     "output_type": "execute_result"
    }
   ],
   "source": [
    "test_1_final_df.head(45)"
   ]
  },
  {
   "cell_type": "markdown",
   "metadata": {},
   "source": [
    "# Generate output files with processed data"
   ]
  },
  {
   "cell_type": "code",
   "execution_count": 49,
   "metadata": {},
   "outputs": [
    {
     "name": "stdout",
     "output_type": "stream",
     "text": [
      "./data/processed_temp_data/91_231213_153600_25C_15min.csv\n"
     ]
    }
   ],
   "source": [
    "# generate output file names for processed data\n",
    "def generate_output_filename(file_path, data_dir,temp):\n",
    "    # Extract the base name of the file without the extension\n",
    "    base_name = file_path.split('/')[-1].split('.')[0]\n",
    "    # trim leading zeros from base name\n",
    "    base_name = base_name.lstrip('0')\n",
    "    \n",
    "    # Construct the new file name with the .csv extension\n",
    "    output_file = f\"{data_dir}/processed_temp_data/{base_name}_{temp}_15min.csv\"\n",
    "\n",
    "    return output_file\n",
    "\n",
    "test_1_output_file = generate_output_filename(input_file_path, output_data_dir,'25C')\n",
    "# test_2_output_file = generate_output_filename(input_file_path, output_data_dir,'50C')\n",
    "\n",
    "print(test_1_output_file)\n"
   ]
  },
  {
   "cell_type": "markdown",
   "metadata": {},
   "source": [
    "# write processed data to csv"
   ]
  },
  {
   "cell_type": "code",
   "execution_count": 50,
   "metadata": {},
   "outputs": [],
   "source": [
    "# write processed data to csv\n",
    "test_1_final_df.to_csv(test_1_output_file, index = None, header=True)\n",
    "# test_2_final_df.to_csv(test_2_output_file, index = None, header=True)"
   ]
  },
  {
   "cell_type": "code",
   "execution_count": null,
   "metadata": {},
   "outputs": [],
   "source": []
  }
 ],
 "metadata": {
  "kernelspec": {
   "display_name": "env",
   "language": "python",
   "name": "python3"
  },
  "language_info": {
   "codemirror_mode": {
    "name": "ipython",
    "version": 3
   },
   "file_extension": ".py",
   "mimetype": "text/x-python",
   "name": "python",
   "nbconvert_exporter": "python",
   "pygments_lexer": "ipython3",
   "version": "3.10.2"
  }
 },
 "nbformat": 4,
 "nbformat_minor": 2
}
